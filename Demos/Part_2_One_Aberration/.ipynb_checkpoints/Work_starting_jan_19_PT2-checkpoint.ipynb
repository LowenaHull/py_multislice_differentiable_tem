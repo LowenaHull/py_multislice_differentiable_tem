{
 "cells": [
  {
   "cell_type": "markdown",
   "metadata": {},
   "source": [
    "# Work starting on January 19th: Part 2"
   ]
  },
  {
   "cell_type": "markdown",
   "metadata": {},
   "source": [
    "1. Just have the defocus (and no aberration)\n",
    "    a. How does the performance vary with learning rate?\n",
    "    b. How does the performance vary with loss multiplier?\n",
    "    c. How does the performance vary with optimizer?\n",
    "        i. Research what SGD and Adam optimizers are.\n",
    "        ii. What are the benefits of Adam over SGD? In what cases are which more or less appropriate?\n",
    "    d. How does the performance vary with different starting values of defocus?\n",
    "        i. Research what is typical uncertainty in the defocus value.\n",
    "\n",
    "2. Just take one aberration (spherical aberration) into account. Repeat above steps. \n",
    "   Also track what happens to the aberration values- should tend towards the GT (0).\n",
    "\n",
    "3. Add some noise to the reference image.\n",
    "    Generate image and add noise using the Demos/HRTEM.py program.\n",
    "\n",
    "4. Simulate a molecule instead of a crystal.\n",
    "    \n",
    "While examining, collect the resultant images.    \n",
    "\n",
    "While examining, look at the gradients.\n",
    "The gradient if starting at a defocus of 200 (the ground truth) should be zero."
   ]
  },
  {
   "cell_type": "code",
   "execution_count": 5,
   "metadata": {},
   "outputs": [],
   "source": [
    "import pyms\n",
    "import numpy as np\n",
    "import torch\n",
    "import time\n",
    "from pyms.Probe import aberration\n",
    "from copy import deepcopy\n",
    "import matplotlib.pyplot as plt\n",
    "\n",
    "from pyms.utils.torch_utils import (\n",
    "    amplitude,\n",
    "    crop_to_bandwidth_limit_torch,\n",
    "    size_of_bandwidth_limited_array,\n",
    "    amplitude,\n",
    ")\n",
    "\n",
    "from pyms.Probe import (\n",
    "    make_contrast_transfer_function,\n",
    ")\n",
    "\n",
    "%matplotlib inline\n",
    "\n",
    "crystal = pyms.structure.fromfile(\n",
    "    \"Structures/SrTiO3_CeO2_interface.xyz\", atomic_coordinates=\"cartesian\"\n",
    ")\n",
    "\n",
    "# A few maniupulations to remove vaccuum at edges and create a psuedo-periodic structure\n",
    "crystal = crystal.resize([0.1, 0.76], axis=0)\n",
    "\n",
    "other = deepcopy(crystal).resize([0.017, 0.99], axis=0)\n",
    "other.reflect([0])\n",
    "crystal = crystal.concatenate(other, axis=0)\n",
    "\n",
    "# Subslicing of crystal for multislice\n",
    "subslices = [0.33, 0.66, 1.0]\n",
    "\n",
    "# Grid size in pixels\n",
    "gridshape = [1024, 1024]\n",
    "\n",
    "# Tile structure in multislice for a square grid\n",
    "tiling = [1, 7]\n",
    "\n",
    "# Probe accelerating voltage in eV\n",
    "eV = 3e5\n",
    "\n",
    "# Objective aperture in mrad\n",
    "app = 15\n",
    "\n",
    "# No aperture is also an option\n",
    "# app = None\n",
    "\n",
    "# Set up series of thicknesses\n",
    "thicknesses = np.array([100])\n"
   ]
  },
  {
   "cell_type": "code",
   "execution_count": 6,
   "metadata": {},
   "outputs": [],
   "source": [
    "# Establish aberrations\n",
    "\n",
    "def establish_aberrations(ab=10.0, defocus=175.0):\n",
    "    \"\"\"Create a list of aberrations. Initialise with starting values.\"\"\"\n",
    "\n",
    "    aberrations = []\n",
    "\n",
    "    # Initial guesses for aberrations\n",
    "    defocus = defocus\n",
    "    Cs = ab\n",
    "\n",
    "    # Krivanek aberration coefficient, Haider aberration coefficient, colloquial name, amplitude, angle, n, m\n",
    "    # n and m are constants (shouldn't be differentiable), amplitude and angle should be\n",
    "\n",
    "    aberrations.append(aberration(\"C10\", \"C1\", \"Defocus          \", torch.tensor([df], requires_grad = True), 0.0, 1, 0.0))\n",
    "    aberrations.append(aberration(\"C30\", \"C3\", \"3rd order spher. \", torch.tensor([Cs], requires_grad = True), 0.0, 3, 0.0))\n",
    "    defocus = aberrations[0].amplitude\n",
    "    \n",
    "    return aberrations\n"
   ]
  },
  {
   "cell_type": "code",
   "execution_count": 7,
   "metadata": {},
   "outputs": [],
   "source": [
    "# Set up our initial guess for the crystal HRTEM\n",
    "# It uses the aberrations (including defocus) as set above\n",
    "\n",
    "def create_initial_guess(aberrations):\n",
    "\n",
    "    output = pyms.HRTEM(\n",
    "        crystal,\n",
    "        gridshape,\n",
    "        eV,\n",
    "        app,\n",
    "        thicknesses,\n",
    "        subslices=subslices,\n",
    "        aberrations=aberrations,\n",
    "        df= aberrations[0].amplitude,\n",
    "        tiling=tiling,\n",
    "        nfph=1,\n",
    "        showProgress='notebook', \n",
    "        apply_ctf = False,\n",
    "    )\n",
    "    #plt.imshow(torch.abs(output).detach().cpu().numpy(), vmax = 10)\n",
    "    \n",
    "    return output"
   ]
  },
  {
   "cell_type": "code",
   "execution_count": 14,
   "metadata": {},
   "outputs": [],
   "source": [
    "def optimise(aberrations, output, ref_data, n_iters):\n",
    "    \"\"\"Go through and refine the aberrations to minimise difference between initial guess (output) and experimental image\"\"\"\n",
    "\n",
    "    bw_limit_size = size_of_bandwidth_limited_array(gridshape)\n",
    "    rsize = np.asarray(crystal.unitcell[:2]) * np.asarray(tiling)\n",
    "\n",
    "    curves = []\n",
    "    params = []\n",
    "\n",
    "    # Generic form allows more flexibility if we decided to not include some aberrations in the future.\n",
    "    for i in range(0, len(aberrations)):\n",
    "        params.append(aberrations[i].amplitude)\n",
    "        curves.append([])\n",
    "\n",
    "    optimizer = torch.optim.Adam(params, lr = 1e-1)\n",
    "    criterion = torch.nn.MSELoss()\n",
    "\n",
    "    loss_curve = []\n",
    "\n",
    "\n",
    "    start = time.time()\n",
    "\n",
    "    for iter in range(n_iters):\n",
    "        ctf = (\n",
    "                torch.stack(\n",
    "                    [\n",
    "                        make_contrast_transfer_function(\n",
    "                            bw_limit_size, rsize, eV, app, df=aberrations[0].amplitude, aberrations=aberrations\n",
    "                        )\n",
    "                    ]\n",
    "                )\n",
    "            .type(torch.complex128)\n",
    "            .to('cpu') # changed cuda to cpu\n",
    "        )\n",
    "\n",
    "        sim_image = amplitude(torch.fft.ifftn(ctf * output, dim=(-2, -1)))\n",
    "\n",
    "        optimizer.zero_grad()\n",
    "\n",
    "        loss = criterion(sim_image, ref_data)*1000000000\n",
    "\n",
    "        loss.backward()\n",
    "\n",
    "        optimizer.step()\n",
    "\n",
    "        loss_curve.append(loss.item())\n",
    "\n",
    "\n",
    "        for i in range(0,len(curves)):\n",
    "            curves[i].append(aberrations[i].amplitude.item())\n",
    "\n",
    "\n",
    "    end = time.time()\n",
    "\n",
    "    print(\"Time to run:\", str((end - start)))\n",
    "    print(\"Loss\", str(loss.item())) # Final loss value\n",
    "    print(\"Final defocus value\", str(aberrations[0].amplitude.item()))"
   ]
  },
  {
   "cell_type": "code",
   "execution_count": 5,
   "metadata": {},
   "outputs": [],
   "source": [
    "def main(n_iter):\n",
    "    aberrations = establish_aberrations()\n",
    "    output = create_initial_guess(aberrations)\n",
    "    \n",
    "    # Load in \"experimental\" data\n",
    "    path = '/home/hremadmin/Documents/Project/differentiable/df_200_test_data.npy'\n",
    "    ref_data = np.load(path)\n",
    "    ref_data = torch.tensor(ref_data).to('cpu')\n",
    "    \n",
    "    optimise(aberrations, output, ref_data, n_iter)\n",
    "    "
   ]
  },
  {
   "cell_type": "code",
   "execution_count": 6,
   "metadata": {},
   "outputs": [
    {
     "name": "stdout",
     "output_type": "stream",
     "text": [
      "Lowena-modified code\n",
      "True\n"
     ]
    },
    {
     "data": {
      "application/vnd.jupyter.widget-view+json": {
       "model_id": "b7fe90dcbd9041f89d1ca2e58e107558",
       "version_major": 2,
       "version_minor": 0
      },
      "text/plain": [
       "Making projected potentials:   0%|          | 0/5 [00:00<?, ?it/s]"
      ]
     },
     "metadata": {},
     "output_type": "display_data"
    },
    {
     "name": "stdout",
     "output_type": "stream",
     "text": [
      "14\n"
     ]
    },
    {
     "name": "stderr",
     "output_type": "stream",
     "text": [
      "/home/hremadmin/py_multislice_differentiable/py_multislice_differentiable_tem/pyms/Premixed_routines.py:1520: UserWarning: To copy construct from a tensor, it is recommended to use sourceTensor.clone().detach() or sourceTensor.clone().detach().requires_grad_(True), rather than torch.tensor(sourceTensor).\n",
      "  for df_ in defocii\n"
     ]
    },
    {
     "data": {
      "application/vnd.jupyter.widget-view+json": {
       "model_id": "3110db66518d4f1cbda4d2819b3a7ae2",
       "version_major": 2,
       "version_minor": 0
      },
      "text/plain": [
       "Frozen phonon iteration:   0%|          | 0/1 [00:00<?, ?it/s]"
      ]
     },
     "metadata": {},
     "output_type": "display_data"
    },
    {
     "name": "stderr",
     "output_type": "stream",
     "text": [
      "/home/hremadmin/miniconda3/envs/pyms_2/lib/python3.6/site-packages/torch/nn/modules/loss.py:520: UserWarning: Using a target size (torch.Size([683, 683])) that is different to the input size (torch.Size([1, 683, 683])). This will likely lead to incorrect results due to broadcasting. Please ensure they have the same size.\n",
      "  return F.mse_loss(input, target, reduction=self.reduction)\n"
     ]
    },
    {
     "name": "stdout",
     "output_type": "stream",
     "text": [
      "Time to run: 0.7270116806030273\n",
      "Loss 0.0029995360724306037\n",
      "Lowena-modified code\n",
      "True\n"
     ]
    },
    {
     "data": {
      "application/vnd.jupyter.widget-view+json": {
       "model_id": "088fda6dbaa94309930e0e111e2db698",
       "version_major": 2,
       "version_minor": 0
      },
      "text/plain": [
       "Making projected potentials:   0%|          | 0/5 [00:00<?, ?it/s]"
      ]
     },
     "metadata": {},
     "output_type": "display_data"
    },
    {
     "name": "stdout",
     "output_type": "stream",
     "text": [
      "14\n"
     ]
    },
    {
     "data": {
      "application/vnd.jupyter.widget-view+json": {
       "model_id": "14590509381442b595d31b8a942725d8",
       "version_major": 2,
       "version_minor": 0
      },
      "text/plain": [
       "Frozen phonon iteration:   0%|          | 0/1 [00:00<?, ?it/s]"
      ]
     },
     "metadata": {},
     "output_type": "display_data"
    },
    {
     "name": "stdout",
     "output_type": "stream",
     "text": [
      "Time to run: 6.7720046043396\n",
      "Loss 0.0024479168602273625\n",
      "Lowena-modified code\n",
      "True\n"
     ]
    },
    {
     "data": {
      "application/vnd.jupyter.widget-view+json": {
       "model_id": "de291fd929f7420184a45d4ed3c69b6b",
       "version_major": 2,
       "version_minor": 0
      },
      "text/plain": [
       "Making projected potentials:   0%|          | 0/5 [00:00<?, ?it/s]"
      ]
     },
     "metadata": {},
     "output_type": "display_data"
    },
    {
     "name": "stdout",
     "output_type": "stream",
     "text": [
      "14\n"
     ]
    },
    {
     "data": {
      "application/vnd.jupyter.widget-view+json": {
       "model_id": "a43fb8db349c41d4abc69aae54a76dfd",
       "version_major": 2,
       "version_minor": 0
      },
      "text/plain": [
       "Frozen phonon iteration:   0%|          | 0/1 [00:00<?, ?it/s]"
      ]
     },
     "metadata": {},
     "output_type": "display_data"
    },
    {
     "name": "stdout",
     "output_type": "stream",
     "text": [
      "Time to run: 68.77355885505676\n",
      "Loss 0.0009811864824772311\n",
      "Lowena-modified code\n",
      "True\n"
     ]
    },
    {
     "data": {
      "application/vnd.jupyter.widget-view+json": {
       "model_id": "c4d373baacb84f528859cc2486d01936",
       "version_major": 2,
       "version_minor": 0
      },
      "text/plain": [
       "Making projected potentials:   0%|          | 0/5 [00:00<?, ?it/s]"
      ]
     },
     "metadata": {},
     "output_type": "display_data"
    },
    {
     "name": "stdout",
     "output_type": "stream",
     "text": [
      "14\n"
     ]
    },
    {
     "data": {
      "application/vnd.jupyter.widget-view+json": {
       "model_id": "dcd95a28f8444df994d9278bfc263b1b",
       "version_major": 2,
       "version_minor": 0
      },
      "text/plain": [
       "Frozen phonon iteration:   0%|          | 0/1 [00:00<?, ?it/s]"
      ]
     },
     "metadata": {},
     "output_type": "display_data"
    },
    {
     "name": "stdout",
     "output_type": "stream",
     "text": [
      "Time to run: 141.9217939376831\n",
      "Loss 0.0009530550099200214\n",
      "Lowena-modified code\n",
      "True\n"
     ]
    },
    {
     "data": {
      "application/vnd.jupyter.widget-view+json": {
       "model_id": "83dc3c553ba2435dbaab5ac1c84f4884",
       "version_major": 2,
       "version_minor": 0
      },
      "text/plain": [
       "Making projected potentials:   0%|          | 0/5 [00:00<?, ?it/s]"
      ]
     },
     "metadata": {},
     "output_type": "display_data"
    },
    {
     "name": "stdout",
     "output_type": "stream",
     "text": [
      "14\n"
     ]
    },
    {
     "data": {
      "application/vnd.jupyter.widget-view+json": {
       "model_id": "695aeb5eca124b0eb4754cd0d22ec861",
       "version_major": 2,
       "version_minor": 0
      },
      "text/plain": [
       "Frozen phonon iteration:   0%|          | 0/1 [00:00<?, ?it/s]"
      ]
     },
     "metadata": {},
     "output_type": "display_data"
    },
    {
     "name": "stdout",
     "output_type": "stream",
     "text": [
      "Time to run: 349.62275075912476\n",
      "Loss 0.0009682134506680149\n",
      "Lowena-modified code\n",
      "True\n"
     ]
    },
    {
     "data": {
      "application/vnd.jupyter.widget-view+json": {
       "model_id": "d8457bc590dd4079a5ca52cda4cc8a25",
       "version_major": 2,
       "version_minor": 0
      },
      "text/plain": [
       "Making projected potentials:   0%|          | 0/5 [00:00<?, ?it/s]"
      ]
     },
     "metadata": {},
     "output_type": "display_data"
    },
    {
     "name": "stdout",
     "output_type": "stream",
     "text": [
      "14\n"
     ]
    },
    {
     "data": {
      "application/vnd.jupyter.widget-view+json": {
       "model_id": "f191eedc761446419dea8737ce14a63d",
       "version_major": 2,
       "version_minor": 0
      },
      "text/plain": [
       "Frozen phonon iteration:   0%|          | 0/1 [00:00<?, ?it/s]"
      ]
     },
     "metadata": {},
     "output_type": "display_data"
    },
    {
     "name": "stdout",
     "output_type": "stream",
     "text": [
      "Time to run: 705.4273769855499\n",
      "Loss 0.0009162577932571209\n"
     ]
    }
   ],
   "source": [
    "main(10)\n",
    "main(100)\n",
    "main(1000)\n",
    "main(2000)\n",
    "main(5000)\n",
    "main(10000)"
   ]
  },
  {
   "cell_type": "code",
   "execution_count": 9,
   "metadata": {},
   "outputs": [
    {
     "data": {
      "image/png": "[encoded data removed]",
      "text/plain": [
       "<Figure size 432x288 with 1 Axes>"
      ]
     },
     "metadata": {
      "needs_background": "light"
     },
     "output_type": "display_data"
    }
   ],
   "source": [
    "plt.plot(iterations, losses)\n",
    "plt.ylabel('Loss')\n",
    "plt.xlabel('Number of iterations')\n",
    "plt.show()"
   ]
  }
 ],
 "metadata": {
  "kernelspec": {
   "display_name": "Python 3",
   "language": "python",
   "name": "python3"
  },
  "language_info": {
   "codemirror_mode": {
    "name": "ipython",
    "version": 3
   },
   "file_extension": ".py",
   "mimetype": "text/x-python",
   "name": "python",
   "nbconvert_exporter": "python",
   "pygments_lexer": "ipython3",
   "version": "3.6.13"
  }
 },
 "nbformat": 4,
 "nbformat_minor": 2
}
