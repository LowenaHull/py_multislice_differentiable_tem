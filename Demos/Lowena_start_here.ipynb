{
 "cells": [
  {
   "cell_type": "code",
   "execution_count": 1,
   "metadata": {},
   "outputs": [],
   "source": [
    "import pyms\n",
    "import numpy as np\n",
    "import torch\n",
    "\n",
    "\n",
    "from pyms.utils.torch_utils import (\n",
    "    amplitude,\n",
    "    crop_to_bandwidth_limit_torch,\n",
    "    size_of_bandwidth_limited_array,\n",
    "    amplitude,\n",
    ")\n",
    "\n",
    "from pyms.Probe import (\n",
    "    make_contrast_transfer_function,\n",
    ")\n",
    "\n",
    "crystal = pyms.structure.fromfile(\n",
    "    \"Structures/SrTiO3_CeO2_interface.xyz\", atomic_coordinates=\"cartesian\"\n",
    ")\n",
    "\n",
    "# A few maniupulations to remove vaccuum at edges and create a psuedo-periodic\n",
    "# structure\n",
    "crystal = crystal.resize([0.1, 0.76], axis=0)\n",
    "from copy import deepcopy\n",
    "\n",
    "other = deepcopy(crystal).resize([0.017, 0.99], axis=0)\n",
    "other.reflect([0])\n",
    "crystal = crystal.concatenate(other, axis=0)\n",
    "\n",
    "\n",
    "# Quick plot of crystal\n",
    "# crystal.quickplot(atomscale=1e-5)\n",
    "\n",
    "# Subslicing of crystal for multislice\n",
    "subslices = [0.33, 0.66, 1.0]\n",
    "\n",
    "# Grid size in pixels\n",
    "gridshape = [1024, 1024]\n",
    "\n",
    "# Tile structure in multislice for a square grid\n",
    "tiling = [1, 7]\n",
    "\n",
    "# Probe accelerating voltage in eV\n",
    "eV = 3e5\n",
    "\n",
    "# Objective aperture in mrad\n",
    "app = 15\n",
    "\n",
    "# No aperture is also an option\n",
    "# app = None\n",
    "\n",
    "# Set up series of thicknesses\n",
    "thicknesses = np.array([100])\n"
   ]
  },
  {
   "cell_type": "code",
   "execution_count": 2,
   "metadata": {},
   "outputs": [],
   "source": [
    "from pyms.Probe import aberration\n",
    "\n",
    "# Establish aberrations\n",
    "\n",
    "df = 200.0 # 100 for later value, 200 to start so just changed 100 to 200\n",
    "\n",
    "aberrations = []\n",
    "\n",
    "# I've taken Cs from the 4D_STEM_Workshop demo\n",
    "Cs = float(1.2e7)\n",
    "\n",
    "# still need values for these, have default assumed zero but this might cause issues\n",
    "A1 = 10.0 # changing this value to 100 and 1e8 had no effect so that isn't the problem\n",
    "A2 = 10.0\n",
    "B2 = 10.0\n",
    "A3 = 10.0\n",
    "S3 = 10.0\n",
    "A4 = 10.0\n",
    "D4 = 10.0\n",
    "B4 = 10.0\n",
    "C5 = 10.0\n",
    "A5 = 10.0\n",
    "S5 = 10.0\n",
    "R5 = 10.0\n",
    "\n",
    "#aberrations = pyms.Probe.aberration_starter_pack()\n",
    "\n",
    "# Krivanek aberration coefficient, Haider aberration coefficient, colloquial name, amplitude, angle, n, m\n",
    "# n and m are constants (shouldn't be differentiable), amplitude and angle should be\n",
    "\n",
    "# Assuming angle for defocus is 0?\n",
    "\n",
    "# focus on just getting one other aberration to work for now\n",
    "\n",
    "aberrations.append(aberration(\"C10\", \"C1\", \"Defocus          \", df, 0.0, 1, 0))\n",
    "aberrations.append(aberration(\"C12\", \"A1\", \"2-Fold astig.    \", A1, 0.0, 1, 0)) # changed angle to a value (5) but made no difference so changed i back to 0\n",
    "\n",
    "# I've put all the angles as 0 and put variables for the amplitudes\n",
    "\n",
    "aberrations.append(aberration(\"C23\", \"A2\", \"3-Fold astig.    \", A2, 0.0, 2, 3))\n",
    "aberrations.append(aberration(\"C21\", \"B2\", \"Axial coma       \", B2, 0.0, 2, 1))\n",
    "aberrations.append(aberration(\"C30\", \"C3\", \"3rd order spher. \", Cs, 0.0, 3, 0))\n",
    "\n",
    "#aberrations.append(aberration(\"C34\", \"A3\", \"4-Fold astig.    \", A3, 0.0, 3, 4))\n",
    "#aberrations.append(aberration(\"C32\", \"S3\", \"Axial star aber. \", S3, 0.0, 3, 2))\n",
    "\n",
    "# temporarily removed some aberrations to hopefully make it run faster to check it works\n",
    "#aberrations.append(aberration(\"C45\", \"A4\", \"5-Fold astig.    \", A4, 0.0, 4, 5))\n",
    "#aberrations.append(aberration(\"C43\", \"D4\", \"3-Lobe aberr.    \", D4, 0.0, 4, 3))\n",
    "#aberrations.append(aberration(\"C41\", \"B4\", \"4th order coma   \", B4, 0.0, 4, 1))\n",
    "#aberrations.append(aberration(\"C50\", \"C5\", \"5th order spher. \", C5, 0.0, 5, 0))\n",
    "#aberrations.append(aberration(\"C56\", \"A5\", \"6-Fold astig.    \", A5, 0.0, 5, 6))\n",
    "#aberrations.append(aberration(\"C52\", \"S5\", \"5th order star   \", S5, 0.0, 5, 2))\n",
    "#aberrations.append(aberration(\"C54\", \"R5\", \"5th order rosette\", R5, 0.0, 5, 4))\n",
    "\n",
    "\n",
    "\n",
    "defocus = torch.tensor([df], requires_grad = True)\n",
    "\n",
    "df = torch.tensor([200.0])\n",
    "# alternatively\n",
    "#defocus = aberrations[0].amplitude\n"
   ]
  },
  {
   "cell_type": "code",
   "execution_count": 3,
   "metadata": {},
   "outputs": [
    {
     "name": "stdout",
     "output_type": "stream",
     "text": [
      "Lowena-modified code\n",
      "True\n"
     ]
    },
    {
     "data": {
      "application/vnd.jupyter.widget-view+json": {
       "model_id": "bada2703946f4a71a6c7a956ccda69e8",
       "version_major": 2,
       "version_minor": 0
      },
      "text/plain": [
       "Making projected potentials:   0%|          | 0/5 [00:00<?, ?it/s]"
      ]
     },
     "metadata": {},
     "output_type": "display_data"
    },
    {
     "name": "stderr",
     "output_type": "stream",
     "text": [
      "/home/hremadmin/py_multislice_differentiable/py_multislice_differentiable_tem/pyms/Premixed_routines.py:1518: UserWarning: To copy construct from a tensor, it is recommended to use sourceTensor.clone().detach() or sourceTensor.clone().detach().requires_grad_(True), rather than torch.tensor(sourceTensor).\n",
      "  for df_ in defocii\n"
     ]
    },
    {
     "data": {
      "application/vnd.jupyter.widget-view+json": {
       "model_id": "aa8297d1db5d46a8943e05c786219363",
       "version_major": 2,
       "version_minor": 0
      },
      "text/plain": [
       "Frozen phonon iteration:   0%|          | 0/1 [00:00<?, ?it/s]"
      ]
     },
     "metadata": {},
     "output_type": "display_data"
    },
    {
     "name": "stdout",
     "output_type": "stream",
     "text": [
      "torch.Size([683, 683])\n"
     ]
    }
   ],
   "source": [
    "output = pyms.HRTEM(\n",
    "    crystal,\n",
    "    gridshape,\n",
    "    eV,\n",
    "    app,\n",
    "    thicknesses,\n",
    "    subslices=subslices,\n",
    "    aberrations=aberrations, # may issue is here the A1 value has requires_gradient = True, whereas defocus is just a number?\n",
    "    df=df,\n",
    "    tiling=tiling,\n",
    "    nfph=1,\n",
    "    showProgress='notebook', \n",
    "    apply_ctf = False,\n",
    ")\n",
    "\n",
    "import matplotlib.pyplot as plt\n",
    "%matplotlib inline\n",
    "#plt.imshow(output)\n",
    "\n",
    "print(output.size())"
   ]
  },
  {
   "cell_type": "code",
   "execution_count": 4,
   "metadata": {},
   "outputs": [
    {
     "data": {
      "text/plain": [
       "<matplotlib.image.AxesImage at 0x7fca07b27e80>"
      ]
     },
     "execution_count": 4,
     "metadata": {},
     "output_type": "execute_result"
    },
    {
     "data": {
      "image/png": "[encoded data removed]",
      "text/plain": [
       "<Figure size 432x288 with 1 Axes>"
      ]
     },
     "metadata": {
      "needs_background": "light"
     },
     "output_type": "display_data"
    }
   ],
   "source": [
    "plt.imshow(torch.abs(output).detach().cpu().numpy(), vmax = 10)"
   ]
  },
  {
   "cell_type": "code",
   "execution_count": 5,
   "metadata": {},
   "outputs": [],
   "source": [
    "path = '/home/hremadmin/Documents/Project/differentiable/df_200_test_data.npy'\n",
    "\n",
    "ref_data = np.load(path)\n",
    "ref_data = torch.tensor(ref_data).to('cpu') # change cuda to cpu"
   ]
  },
  {
   "cell_type": "code",
   "execution_count": 6,
   "metadata": {},
   "outputs": [
    {
     "data": {
      "text/plain": [
       "True"
      ]
     },
     "execution_count": 6,
     "metadata": {},
     "output_type": "execute_result"
    }
   ],
   "source": [
    "aberrations[1].amplitude.is_leaf\n",
    "# Okay so its a leaf node so it should be differentiable??? check if in the loop is still differentiable"
   ]
  },
  {
   "cell_type": "code",
   "execution_count": null,
   "metadata": {},
   "outputs": [
    {
     "name": "stderr",
     "output_type": "stream",
     "text": [
      "/home/hremadmin/miniconda3/envs/pyms_2/lib/python3.6/site-packages/torch/nn/modules/loss.py:520: UserWarning: Using a target size (torch.Size([683, 683])) that is different to the input size (torch.Size([1, 683, 683])). This will likely lead to incorrect results due to broadcasting. Please ensure they have the same size.\n",
      "  return F.mse_loss(input, target, reduction=self.reduction)\n"
     ]
    }
   ],
   "source": [
    "bw_limit_size = size_of_bandwidth_limited_array(gridshape)\n",
    "rsize = np.asarray(crystal.unitcell[:2]) * np.asarray(tiling)\n",
    "\n",
    "params = [defocus, aberrations[1].amplitude] \n",
    "# even when defocus is removed, so should be optimising just the other aberration the value doesn't change. hmmm\n",
    "\n",
    "optimizer = torch.optim.Adam(params, lr = 1e-1)\n",
    "criterion = torch.nn.MSELoss()\n",
    "n_iters = 2000\n",
    "\n",
    "\n",
    "loss_curve = []\n",
    "defocii_curve = []\n",
    "A1_curve = []\n",
    "\n",
    "#A2_curve = []\n",
    "#B2_curve = []\n",
    "#C3_curve = []\n",
    "\n",
    "\n",
    "for iter in range(n_iters):\n",
    "    #print(aberrations[1].amplitude.is_leaf) # True so should be differentiable\n",
    "    ctf = (\n",
    "            torch.stack(\n",
    "                [\n",
    "                    make_contrast_transfer_function(\n",
    "                        bw_limit_size, rsize, eV, app, df=defocus, aberrations=[defocus, [aberrations[1].amplitude, 1, 0, 0]] #previously aberrations\n",
    "                    )\n",
    "                ]\n",
    "            )\n",
    "        .type(torch.complex128)\n",
    "        .to('cpu') # changed cuda to cpu\n",
    "    )\n",
    "\n",
    "    sim_image = amplitude(torch.fft.ifftn(ctf * output, dim=(-2, -1))) # tried removing dimenions, no effect\n",
    "    \n",
    "    optimizer.zero_grad()\n",
    "    \n",
    "    loss = criterion(sim_image, ref_data)*1000000000\n",
    "    # mentions that the sim_image and ref_data have different dimensions and highlights this as an issue\n",
    "    # sim_image has size ([1, 83, 683]) andref_data has size ([683, 683])\n",
    "    # dim(-2, -1) has no effect on this?\n",
    "\n",
    "    loss.backward()\n",
    "\n",
    "    optimizer.step()\n",
    "\n",
    "    loss_curve.append(loss.item())\n",
    "    defocii_curve.append(defocus.item())\n",
    "    A1_curve.append(aberrations[1].amplitude.item())\n",
    "    \n",
    "    \n",
    "    #A2_curve.append(aberrations[2].amplitude.item())\n",
    "    #B2_curve.append(aberrations[3].amplitude.item())\n",
    "    #C3_curve.append(aberrations[4].amplitude.item())"
   ]
  },
  {
   "cell_type": "code",
   "execution_count": null,
   "metadata": {},
   "outputs": [],
   "source": [
    "print(aberrations[1].amplitude)\n",
    "# is not optimising this value even though its set-up in the same way as defocus- maybe in other parts of code?\n",
    "\n",
    "print(defocus)"
   ]
  },
  {
   "cell_type": "code",
   "execution_count": null,
   "metadata": {},
   "outputs": [],
   "source": [
    "plt.plot(loss_curve)"
   ]
  },
  {
   "cell_type": "code",
   "execution_count": null,
   "metadata": {},
   "outputs": [],
   "source": [
    "plt.plot(defocii_curve)"
   ]
  },
  {
   "cell_type": "code",
   "execution_count": null,
   "metadata": {},
   "outputs": [],
   "source": [
    "plt.plot(A1_curve)"
   ]
  },
  {
   "cell_type": "code",
   "execution_count": null,
   "metadata": {},
   "outputs": [],
   "source": [
    "plt.imshow(sim_image[0].detach().cpu().numpy())"
   ]
  }
 ],
 "metadata": {
  "kernelspec": {
   "display_name": "Python 3",
   "language": "python",
   "name": "python3"
  },
  "language_info": {
   "codemirror_mode": {
    "name": "ipython",
    "version": 3
   },
   "file_extension": ".py",
   "mimetype": "text/x-python",
   "name": "python",
   "nbconvert_exporter": "python",
   "pygments_lexer": "ipython3",
   "version": "3.6.13"
  }
 },
 "nbformat": 4,
 "nbformat_minor": 2
}
