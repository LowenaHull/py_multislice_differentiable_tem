{
 "cells": [
  {
   "cell_type": "markdown",
   "metadata": {},
   "source": [
    "# Work starting on January 19th: Part 1"
   ]
  },
  {
   "cell_type": "markdown",
   "metadata": {},
   "source": [
    "1. Just have the defocus (and no aberration) <br>\n",
    "    a. How does the performance vary with number of iterations? <br>\n",
    "    b. How does the performance vary with learning rate? <br>\n",
    "    c. How does the performance vary with loss multiplier? <br>\n",
    "    d. How does the performance vary with optimizer?\n",
    "        i. Research what SGD and Adam optimizers are.\n",
    "        ii. What are the benefits of Adam over SGD? In what cases are which more or less appropriate?\n",
    "    e. How does the performance vary with different starting values of defocus? <br>\n",
    "        i. Research what is typical uncertainty in the defocus value.\n",
    "\n",
    "2. Just take one aberration (spherical aberration) into account. Repeat above steps. <br>\n",
    "   Also track what happens to the aberration values- should tend towards the GT (0).\n",
    "\n",
    "3. Add some noise to the reference image. <br>\n",
    "    Generate image and add noise using the Demos/HRTEM.py program.\n",
    "\n",
    "4. Simulate a molecule instead of a crystal. <br>\n",
    "    \n",
    "While examining, collect the resultant images.    \n",
    "\n",
    "While examining, look at the gradients.\n",
    "The gradient if starting at a defocus of 200 (the ground truth) should be zero."
   ]
  },
  {
   "cell_type": "code",
   "execution_count": 4,
   "metadata": {},
   "outputs": [],
   "source": [
    "import pyms\n",
    "import numpy as np\n",
    "import torch\n",
    "import time\n",
    "from pyms.Probe import aberration\n",
    "from copy import deepcopy\n",
    "import matplotlib.pyplot as plt\n",
    "\n",
    "from pyms.utils.torch_utils import (\n",
    "    amplitude,\n",
    "    crop_to_bandwidth_limit_torch,\n",
    "    size_of_bandwidth_limited_array,\n",
    "    amplitude,\n",
    ")\n",
    "\n",
    "from pyms.Probe import (\n",
    "    make_contrast_transfer_function,\n",
    ")\n",
    "\n",
    "%matplotlib inline\n",
    "\n",
    "#crystal = pyms.structure.fromfile(\n",
    "#    \"Structures/SrTiO3_CeO2_interface.xyz\", atomic_coordinates=\"cartesian\"\n",
    "#)\n",
    "\n",
    "crystal = pyms.structure.fromfile(\n",
    "    \"/home/hremadmin/py_multislice_differentiable/py_multislice_differentiable_tem/Demos/Structures/SrTiO3_CeO2_interface.xyz\", atomic_coordinates=\"cartesian\"\n",
    ")\n",
    "\n",
    "# A few maniupulations to remove vaccuum at edges and create a psuedo-periodic structure\n",
    "crystal = crystal.resize([0.1, 0.76], axis=0)\n",
    "\n",
    "other = deepcopy(crystal).resize([0.017, 0.99], axis=0)\n",
    "other.reflect([0])\n",
    "crystal = crystal.concatenate(other, axis=0)\n",
    "\n",
    "# Subslicing of crystal for multislice\n",
    "subslices = [0.33, 0.66, 1.0]\n",
    "\n",
    "# Grid size in pixels\n",
    "gridshape = [1024, 1024]\n",
    "\n",
    "# Tile structure in multislice for a square grid\n",
    "tiling = [1, 7]\n",
    "\n",
    "# Probe accelerating voltage in eV\n",
    "eV = 3e5\n",
    "\n",
    "# Objective aperture in mrad\n",
    "app = 15\n",
    "\n",
    "# No aperture is also an option\n",
    "# app = None\n",
    "\n",
    "# Set up series of thicknesses\n",
    "thicknesses = np.array([100])\n"
   ]
  },
  {
   "cell_type": "code",
   "execution_count": 5,
   "metadata": {},
   "outputs": [],
   "source": [
    "# Establish aberrations\n",
    "# Just defocus for now\n",
    "\n",
    "def establish_aberrations():\n",
    "    \"\"\"Create a list of aberrations. Initialise with starting values.\"\"\"\n",
    "\n",
    "    aberrations = []\n",
    "\n",
    "    # Initial guesses for aberrations\n",
    "    df = 175.0\n",
    "\n",
    "    # Krivanek aberration coefficient, Haider aberration coefficient, colloquial name, amplitude, angle, n, m\n",
    "    # n and m are constants (shouldn't be differentiable), amplitude and angle should be\n",
    "\n",
    "    aberrations.append(aberration(\"C10\", \"C1\", \"Defocus          \", torch.tensor([df], requires_grad = True), 0.0, 1, 0.0))\n",
    "    \n",
    "    return aberrations\n"
   ]
  },
  {
   "cell_type": "code",
   "execution_count": 6,
   "metadata": {},
   "outputs": [],
   "source": [
    "# Set up our initial guess for the crystal HRTEM\n",
    "# It uses the aberrations (including defocus) as set above\n",
    "\n",
    "def create_initial_guess(aberrations):\n",
    "\n",
    "    output = pyms.HRTEM(\n",
    "        crystal,\n",
    "        gridshape,\n",
    "        eV,\n",
    "        app,\n",
    "        thicknesses,\n",
    "        subslices=subslices,\n",
    "        aberrations=aberrations,\n",
    "        df= aberrations[0].amplitude,\n",
    "        tiling=tiling,\n",
    "        nfph=1,\n",
    "        showProgress='notebook', \n",
    "        apply_ctf = False,\n",
    "    )\n",
    "    #plt.imshow(torch.abs(output).detach().cpu().numpy(), vmax = 10)\n",
    "    \n",
    "    return output"
   ]
  },
  {
   "cell_type": "code",
   "execution_count": 7,
   "metadata": {},
   "outputs": [],
   "source": [
    "def optimise(aberrations, output, ref_data, n_iters, learning_rate, loss_multiplier):\n",
    "    \"\"\"Go through and refine the aberrations to minimise difference between initial guess (output) and experimental image\"\"\"\n",
    "\n",
    "    bw_limit_size = size_of_bandwidth_limited_array(gridshape)\n",
    "    rsize = np.asarray(crystal.unitcell[:2]) * np.asarray(tiling)\n",
    "\n",
    "    curves = []\n",
    "    params = []\n",
    "\n",
    "    # Generic form allows more flexibility if we decided to not include some aberrations in the future.\n",
    "    for i in range(0, len(aberrations)):\n",
    "        params.append(aberrations[i].amplitude)\n",
    "        curves.append([])\n",
    "\n",
    "    optimizer = torch.optim.Adam(params, lr = learning_rate)\n",
    "    criterion = torch.nn.MSELoss()\n",
    "\n",
    "    loss_curve = []\n",
    "\n",
    "\n",
    "    start = time.time()\n",
    "\n",
    "    for iter in range(n_iters):\n",
    "        ctf = (\n",
    "                torch.stack(\n",
    "                    [\n",
    "                        make_contrast_transfer_function(\n",
    "                            bw_limit_size, rsize, eV, app, df=aberrations[0].amplitude, aberrations=aberrations\n",
    "                        )\n",
    "                    ]\n",
    "                )\n",
    "            .type(torch.complex128)\n",
    "            .to('cpu') # changed cuda to cpu\n",
    "        )\n",
    "\n",
    "        sim_image = amplitude(torch.fft.ifftn(ctf * output, dim=(-2, -1)))\n",
    "\n",
    "        optimizer.zero_grad()\n",
    "\n",
    "        loss = criterion(sim_image, ref_data)*loss_multiplier\n",
    "\n",
    "        loss.backward()\n",
    "\n",
    "        optimizer.step()\n",
    "\n",
    "        loss_curve.append(loss.item())\n",
    "\n",
    "\n",
    "        for i in range(0,len(curves)):\n",
    "            curves[i].append(aberrations[i].amplitude.item())\n",
    "\n",
    "\n",
    "    end = time.time()\n",
    "    \n",
    "    runtime = end-start\n",
    "    \n",
    "    return runtime, loss.item(), aberrations[0].amplitude.item()\n",
    "\n",
    "    #print(\"Time to run:\", str((end - start)))\n",
    "    #print(\"Loss\", str(loss.item())) # Final loss value\n",
    "    #print(\"Final defocus value\", str(aberrations[0].amplitude.item()))"
   ]
  },
  {
   "cell_type": "code",
   "execution_count": 8,
   "metadata": {},
   "outputs": [],
   "source": [
    "def main(n_iters, learning_rate, loss_multiplier):\n",
    "    aberrations = establish_aberrations()\n",
    "    output = create_initial_guess(aberrations)\n",
    "    \n",
    "    # Load in \"experimental\" data\n",
    "    path = '/home/hremadmin/Documents/Project/differentiable/df_200_test_data.npy'\n",
    "    ref_data = np.load(path)\n",
    "    ref_data = torch.tensor(ref_data).to('cpu')\n",
    "    \n",
    "    runtime, loss, defocus_final = optimise(aberrations, output, ref_data, n_iters, learning_rate, loss_multiplier)\n",
    "    return runtime, loss, defocus_final\n",
    "    \n",
    "    "
   ]
  },
  {
   "cell_type": "code",
   "execution_count": 9,
   "metadata": {},
   "outputs": [
    {
     "name": "stdout",
     "output_type": "stream",
     "text": [
      "Lowena-modified code\n",
      "True\n"
     ]
    },
    {
     "data": {
      "application/vnd.jupyter.widget-view+json": {
       "model_id": "e899a3a79bec4113b5dd0b64f475ce52",
       "version_major": 2,
       "version_minor": 0
      },
      "text/plain": [
       "Making projected potentials:   0%|          | 0/5 [00:00<?, ?it/s]"
      ]
     },
     "metadata": {},
     "output_type": "display_data"
    },
    {
     "name": "stdout",
     "output_type": "stream",
     "text": [
      "1\n"
     ]
    },
    {
     "name": "stderr",
     "output_type": "stream",
     "text": [
      "/home/hremadmin/py_multislice_differentiable/py_multislice_differentiable_tem/pyms/Premixed_routines.py:1520: UserWarning: To copy construct from a tensor, it is recommended to use sourceTensor.clone().detach() or sourceTensor.clone().detach().requires_grad_(True), rather than torch.tensor(sourceTensor).\n",
      "  for df_ in defocii\n"
     ]
    },
    {
     "data": {
      "application/vnd.jupyter.widget-view+json": {
       "model_id": "f9d1518be448463293b7ec2d154d28ef",
       "version_major": 2,
       "version_minor": 0
      },
      "text/plain": [
       "Frozen phonon iteration:   0%|          | 0/1 [00:00<?, ?it/s]"
      ]
     },
     "metadata": {},
     "output_type": "display_data"
    },
    {
     "name": "stderr",
     "output_type": "stream",
     "text": [
      "/home/hremadmin/miniconda3/envs/pyms_2/lib/python3.6/site-packages/torch/nn/modules/loss.py:520: UserWarning: Using a target size (torch.Size([683, 683])) that is different to the input size (torch.Size([1, 683, 683])). This will likely lead to incorrect results due to broadcasting. Please ensure they have the same size.\n",
      "  return F.mse_loss(input, target, reduction=self.reduction)\n"
     ]
    },
    {
     "name": "stdout",
     "output_type": "stream",
     "text": [
      "Lowena-modified code\n",
      "True\n"
     ]
    },
    {
     "data": {
      "application/vnd.jupyter.widget-view+json": {
       "model_id": "dc4f9aafb68c49bbadc703e93622daa0",
       "version_major": 2,
       "version_minor": 0
      },
      "text/plain": [
       "Making projected potentials:   0%|          | 0/5 [00:00<?, ?it/s]"
      ]
     },
     "metadata": {},
     "output_type": "display_data"
    },
    {
     "name": "stdout",
     "output_type": "stream",
     "text": [
      "1\n"
     ]
    },
    {
     "data": {
      "application/vnd.jupyter.widget-view+json": {
       "model_id": "8b4acb27382d4f24afb7d78553220871",
       "version_major": 2,
       "version_minor": 0
      },
      "text/plain": [
       "Frozen phonon iteration:   0%|          | 0/1 [00:00<?, ?it/s]"
      ]
     },
     "metadata": {},
     "output_type": "display_data"
    },
    {
     "name": "stdout",
     "output_type": "stream",
     "text": [
      "Lowena-modified code\n",
      "True\n"
     ]
    },
    {
     "data": {
      "application/vnd.jupyter.widget-view+json": {
       "model_id": "aab3e8f76ad24a789a0ddb950ece6437",
       "version_major": 2,
       "version_minor": 0
      },
      "text/plain": [
       "Making projected potentials:   0%|          | 0/5 [00:00<?, ?it/s]"
      ]
     },
     "metadata": {},
     "output_type": "display_data"
    },
    {
     "name": "stdout",
     "output_type": "stream",
     "text": [
      "1\n"
     ]
    },
    {
     "data": {
      "application/vnd.jupyter.widget-view+json": {
       "model_id": "10ca8148d1554dfa9ade1888b135cc6f",
       "version_major": 2,
       "version_minor": 0
      },
      "text/plain": [
       "Frozen phonon iteration:   0%|          | 0/1 [00:00<?, ?it/s]"
      ]
     },
     "metadata": {},
     "output_type": "display_data"
    },
    {
     "name": "stdout",
     "output_type": "stream",
     "text": [
      "Lowena-modified code\n",
      "True\n"
     ]
    },
    {
     "data": {
      "application/vnd.jupyter.widget-view+json": {
       "model_id": "2f38f645a5904d8291685694bc4e2061",
       "version_major": 2,
       "version_minor": 0
      },
      "text/plain": [
       "Making projected potentials:   0%|          | 0/5 [00:00<?, ?it/s]"
      ]
     },
     "metadata": {},
     "output_type": "display_data"
    },
    {
     "name": "stdout",
     "output_type": "stream",
     "text": [
      "1\n"
     ]
    },
    {
     "data": {
      "application/vnd.jupyter.widget-view+json": {
       "model_id": "503fe5c239b04fdf9fe321e54547d9d3",
       "version_major": 2,
       "version_minor": 0
      },
      "text/plain": [
       "Frozen phonon iteration:   0%|          | 0/1 [00:00<?, ?it/s]"
      ]
     },
     "metadata": {},
     "output_type": "display_data"
    },
    {
     "name": "stdout",
     "output_type": "stream",
     "text": [
      "Lowena-modified code\n",
      "True\n"
     ]
    },
    {
     "data": {
      "application/vnd.jupyter.widget-view+json": {
       "model_id": "c3d64c99164c49d286a610c17e5740d4",
       "version_major": 2,
       "version_minor": 0
      },
      "text/plain": [
       "Making projected potentials:   0%|          | 0/5 [00:00<?, ?it/s]"
      ]
     },
     "metadata": {},
     "output_type": "display_data"
    },
    {
     "name": "stdout",
     "output_type": "stream",
     "text": [
      "1\n"
     ]
    },
    {
     "data": {
      "application/vnd.jupyter.widget-view+json": {
       "model_id": "2e24862a3ba1480e92efb7bf73702ac7",
       "version_major": 2,
       "version_minor": 0
      },
      "text/plain": [
       "Frozen phonon iteration:   0%|          | 0/1 [00:00<?, ?it/s]"
      ]
     },
     "metadata": {},
     "output_type": "display_data"
    },
    {
     "name": "stdout",
     "output_type": "stream",
     "text": [
      "Lowena-modified code\n",
      "True\n"
     ]
    },
    {
     "data": {
      "application/vnd.jupyter.widget-view+json": {
       "model_id": "42f373e1b43847079b5d21a6ed4912c4",
       "version_major": 2,
       "version_minor": 0
      },
      "text/plain": [
       "Making projected potentials:   0%|          | 0/5 [00:00<?, ?it/s]"
      ]
     },
     "metadata": {},
     "output_type": "display_data"
    },
    {
     "name": "stdout",
     "output_type": "stream",
     "text": [
      "1\n"
     ]
    },
    {
     "data": {
      "application/vnd.jupyter.widget-view+json": {
       "model_id": "c75c8ee653994bd99847a4fea07e5c22",
       "version_major": 2,
       "version_minor": 0
      },
      "text/plain": [
       "Frozen phonon iteration:   0%|          | 0/1 [00:00<?, ?it/s]"
      ]
     },
     "metadata": {},
     "output_type": "display_data"
    }
   ],
   "source": [
    "n_iterations = [10, 100, 1000, 2000, 5000, 10000]\n",
    "\n",
    "# Constants\n",
    "learning_rate = 1e-1\n",
    "loss_multiplier = 1e9\n",
    "\n",
    "runtimes = []\n",
    "losses = []\n",
    "defocus_values = []\n",
    "\n",
    "for i in n_iterations:\n",
    "    runtime, loss, defocus_final = main(i, learning_rate, loss_multiplier)\n",
    "    runtimes.append(runtime)\n",
    "    losses.append(loss)\n",
    "    defocus_values.append(defocus_final)\n"
   ]
  },
  {
   "cell_type": "markdown",
   "metadata": {},
   "source": [
    "I want to save this data somewhere so I don't have to rerun stuff to get the data."
   ]
  },
  {
   "cell_type": "code",
   "execution_count": 17,
   "metadata": {},
   "outputs": [],
   "source": [
    "# Saving data to file code\n",
    "\n",
    "filename = \"Variation_iterations.txt\"\n",
    "\n",
    "f = open(filename, \"a\")\n",
    "x = \"Number of Iterations, Loss, Final defocus value, time to run\"\n",
    "f.write(x)\n",
    "f.write(\"\\n\")\n",
    "\n",
    "for i in range(0, len(n_iterations)):\n",
    "    line = str(n_iterations[i]) +  \", \" + str(losses[i]) + \", \" + str(defocus_values[i]) + \", \" + str(runtimes[i])\n",
    "    f.write(line)\n",
    "    f.write(\"\\n\")\n",
    "\n",
    "f.close() "
   ]
  },
  {
   "cell_type": "code",
   "execution_count": 18,
   "metadata": {},
   "outputs": [
    {
     "data": {
      "image/png": "[encoded data removed]",
      "text/plain": [
       "<Figure size 432x288 with 1 Axes>"
      ]
     },
     "metadata": {
      "needs_background": "light"
     },
     "output_type": "display_data"
    }
   ],
   "source": [
    "plt.plot(n_iterations, losses)\n",
    "plt.ylabel('Loss')\n",
    "plt.xlabel('Number of iterations')\n",
    "\n",
    "filepath = \"/home/hremadmin/Documents/Project/ML_files/Work_Jan_19/Part_1_just_df/Variation_with_iterations/Loss.jpg\"\n",
    "plt.savefig(filepath, dpi=500)\n",
    "\n",
    "plt.show()"
   ]
  },
  {
   "cell_type": "code",
   "execution_count": 19,
   "metadata": {},
   "outputs": [
    {
     "data": {
      "image/png": "[encoded data removed]",
      "text/plain": [
       "<Figure size 432x288 with 1 Axes>"
      ]
     },
     "metadata": {
      "needs_background": "light"
     },
     "output_type": "display_data"
    }
   ],
   "source": [
    "plt.plot(n_iterations, defocus_values)\n",
    "plt.ylabel('Final defocus value')\n",
    "plt.xlabel('Number of iterations')\n",
    "\n",
    "filepath = \"/home/hremadmin/Documents/Project/ML_files/Work_Jan_19/Part_1_just_df/Variation_with_iterations/Defocus.jpg\"\n",
    "plt.savefig(filepath, dpi=500)\n",
    "\n",
    "plt.show()"
   ]
  },
  {
   "cell_type": "code",
   "execution_count": 20,
   "metadata": {},
   "outputs": [
    {
     "data": {
      "image/png": "[encoded data removed]",
      "text/plain": [
       "<Figure size 432x288 with 1 Axes>"
      ]
     },
     "metadata": {
      "needs_background": "light"
     },
     "output_type": "display_data"
    }
   ],
   "source": [
    "y_data = [x-100 for x in defocus_values]\n",
    "\n",
    "plt.plot(n_iterations, y_data)\n",
    "plt.ylabel('Difference in defocus value from ground truth')\n",
    "plt.xlabel('Number of iterations')\n",
    "\n",
    "filepath = \"/home/hremadmin/Documents/Project/ML_files/Work_Jan_19/Part_1_just_df/Variation_with_iterations/Defocus-change.jpg\"\n",
    "plt.savefig(filepath, dpi=500)\n",
    "\n",
    "plt.show()"
   ]
  },
  {
   "cell_type": "code",
   "execution_count": null,
   "metadata": {},
   "outputs": [],
   "source": []
  },
  {
   "cell_type": "markdown",
   "metadata": {},
   "source": [
    "Get image?"
   ]
  },
  {
   "cell_type": "markdown",
   "metadata": {},
   "source": [
    "Use final ctf to create an image?"
   ]
  }
 ],
 "metadata": {
  "kernelspec": {
   "display_name": "Python 3",
   "language": "python",
   "name": "python3"
  },
  "language_info": {
   "codemirror_mode": {
    "name": "ipython",
    "version": 3
   },
   "file_extension": ".py",
   "mimetype": "text/x-python",
   "name": "python",
   "nbconvert_exporter": "python",
   "pygments_lexer": "ipython3",
   "version": "3.6.13"
  }
 },
 "nbformat": 4,
 "nbformat_minor": 2
}
