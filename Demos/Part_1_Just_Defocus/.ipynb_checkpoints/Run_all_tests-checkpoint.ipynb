{
 "cells": [
  {
   "cell_type": "markdown",
   "metadata": {},
   "source": [
    "# Big file to run all tests"
   ]
  },
  {
   "cell_type": "markdown",
   "metadata": {},
   "source": [
    "Several test types: Iterations, Learning_Rate, Loss_Multiplier, Initial_Value"
   ]
  },
  {
   "cell_type": "code",
   "execution_count": 1,
   "metadata": {},
   "outputs": [],
   "source": [
    "import pyms\n",
    "import numpy as np\n",
    "import torch\n",
    "import time\n",
    "from pyms.Probe import aberration\n",
    "from copy import deepcopy\n",
    "import matplotlib.pyplot as plt\n",
    "import math\n",
    "\n",
    "from pyms.utils.torch_utils import (\n",
    "    amplitude,\n",
    "    crop_to_bandwidth_limit_torch,\n",
    "    size_of_bandwidth_limited_array,\n",
    "    amplitude,\n",
    ")\n",
    "\n",
    "from pyms.Probe import (\n",
    "    make_contrast_transfer_function,\n",
    ")\n",
    "\n",
    "%matplotlib inline\n",
    "\n",
    "\n",
    "crystal = pyms.structure.fromfile(\n",
    "    \"/home/hremadmin/py_multislice_differentiable/py_multislice_differentiable_tem/Demos/Structures/SrTiO3_CeO2_interface.xyz\", atomic_coordinates=\"cartesian\"\n",
    ")\n",
    "\n",
    "# A few maniupulations to remove vaccuum at edges and create a psuedo-periodic structure\n",
    "crystal = crystal.resize([0.1, 0.76], axis=0)\n",
    "\n",
    "other = deepcopy(crystal).resize([0.017, 0.99], axis=0)\n",
    "other.reflect([0])\n",
    "crystal = crystal.concatenate(other, axis=0)\n",
    "\n",
    "# Subslicing of crystal for multislice\n",
    "subslices = [0.33, 0.66, 1.0]\n",
    "\n",
    "# Grid size in pixels\n",
    "gridshape = [1024, 1024]\n",
    "\n",
    "# Tile structure in multislice for a square grid\n",
    "tiling = [1, 7]\n",
    "\n",
    "# Probe accelerating voltage in eV\n",
    "eV = 3e5\n",
    "\n",
    "# Objective aperture in mrad\n",
    "app = 15\n",
    "\n",
    "# Set up series of thicknesses\n",
    "thicknesses = np.array([100])\n"
   ]
  },
  {
   "cell_type": "code",
   "execution_count": 2,
   "metadata": {},
   "outputs": [],
   "source": [
    "# Establish aberrations\n",
    "# Just defocus for now\n",
    "\n",
    "# So with the new dummy experimental data, the Cs is non-zero (it is 1 micron), \n",
    "# however I do not want it to optimise it w.r.t Cs as well, so I am not including it within the list of aberrations\n",
    "# I have modified the code in the optimisation loop to take account of this\n",
    "\n",
    "def establish_aberrations(df_value):\n",
    "    \"\"\"Create a list of aberrations. Initialise with starting values.\"\"\"\n",
    "\n",
    "    aberrations = []\n",
    "\n",
    "    # Initial guesses for aberrations\n",
    "    df = df_value\n",
    "\n",
    "    # Krivanek aberration coefficient, Haider aberration coefficient, colloquial name, amplitude, angle, n, m\n",
    "    # n and m are constants (shouldn't be differentiable), amplitude and angle should be\n",
    "\n",
    "    aberrations.append(aberration(\"C10\", \"C1\", \"Defocus          \", torch.tensor([df], requires_grad = True), 0.0, 1, 0.0))\n",
    "    \n",
    "    return aberrations\n"
   ]
  },
  {
   "cell_type": "code",
   "execution_count": 3,
   "metadata": {},
   "outputs": [],
   "source": [
    "# Set up our initial guess for the crystal HRTEM\n",
    "# It uses the aberrations (including defocus) as set above\n",
    "\n",
    "def create_initial_guess(aberrations):\n",
    "\n",
    "    output = pyms.HRTEM(\n",
    "        crystal,\n",
    "        gridshape,\n",
    "        eV,\n",
    "        app,\n",
    "        thicknesses,\n",
    "        subslices=subslices,\n",
    "        aberrations=aberrations,\n",
    "        df= aberrations[0].amplitude,\n",
    "        tiling=tiling,\n",
    "        nfph=1,\n",
    "        showProgress='notebook', \n",
    "        apply_ctf = False,\n",
    "    )\n",
    "    \n",
    "    return output"
   ]
  },
  {
   "cell_type": "code",
   "execution_count": 4,
   "metadata": {},
   "outputs": [],
   "source": [
    "def save_sim_image(sim_image, value, test_type):\n",
    "    plt.imshow(sim_image[0].detach().cpu().numpy())\n",
    "    \n",
    "    if test_type == \"Iterations\":\n",
    "        plt.title(u'Simulated image of SrTiO\\u2083/CeO\\u2082 interface\\n after {value} interations'.format(value=value), fontsize=15)\n",
    "        filepath = \"/home/hremadmin/Documents/Project/ML_files/Work_Jan_29/Iterations/simulated_image_\"+ str(value) + \".jpg\"\n",
    "        filepath_2 = \"/home/hremadmin/Documents/Project/ML_files/Work_Jan_29/Iterations/Torch_Data/image_data_\"+ str(value) + \".pt\"\n",
    "    \n",
    "    elif test_type == \"Learning_Rate\":\n",
    "        plt.title(u'Simulated image of SrTiO\\u2083/CeO\\u2082 interface\\n with an initial learning rate of {value}'.format(value=value), fontsize=15)\n",
    "        filepath = \"/home/hremadmin/Documents/Project/ML_files/Work_Jan_29/LR/simulated_image_\"+ str(value) + \".jpg\"\n",
    "        filepath_2 = \"/home/hremadmin/Documents/Project/ML_files/Work_Jan_29/LR/Torch_Data/image_ data_\"+ str(value) + \".pt\"\n",
    "    \n",
    "    elif test_type == \"Loss_Multiplier\":\n",
    "        plt.title(u'Simulated image of SrTiO\\u2083/CeO\\u2082 interface\\n with loss multiplier of {value}'.format(value=value), fontsize=15)\n",
    "        filepath = \"/home/hremadmin/Documents/Project/ML_files/Work_Jan_29/LM/simulated_image_\"+ str(value) + \".jpg\"\n",
    "        filepath_2 = \"/home/hremadmin/Documents/Project/ML_files/Work_Jan_29/LM/Torch_Data/image_ data_\"+ str(value) + \".pt\"\n",
    "    \n",
    "    else:\n",
    "        plt.title(u'Simulated image of SrTiO\\u2083/CeO\\u2082 interface\\n with initial defocus value of {value}'.format(value=value), fontsize=15)\n",
    "        filepath = \"/home/hremadmin/Documents/Project/ML_files/Work_Jan_29/Initial_defocus/simulated_image_\"+ str(value) + \".jpg\"\n",
    "        filepath_2 = \"/home/hremadmin/Documents/Project/ML_files/Work_Jan_29/Initial_defocus/Torch_Data/image_ data_\"+ str(value) + \".pt\"\n",
    "    \n",
    "    plt.xticks([])\n",
    "    plt.yticks([])\n",
    "\n",
    "    plt.savefig(filepath, dpi=500)\n",
    "    torch.save(sim_image, filepath_2)\n"
   ]
  },
  {
   "cell_type": "code",
   "execution_count": 5,
   "metadata": {},
   "outputs": [],
   "source": [
    "def optimise(aberrations, output, ref_data, n_iters, learning_rate, loss_multiplier, df_value, test_type):\n",
    "    \"\"\"Go through and refine the aberrations to minimise difference between initial guess (output) and experimental image\"\"\"\n",
    "\n",
    "    bw_limit_size = size_of_bandwidth_limited_array(gridshape)\n",
    "    rsize = np.asarray(crystal.unitcell[:2]) * np.asarray(tiling)\n",
    "\n",
    "    curves = []\n",
    "    params = []\n",
    "\n",
    "    # Generic form allows more flexibility if we decided to not include some aberrations in the future.\n",
    "    for i in range(0, len(aberrations)):\n",
    "        if aberrations[i].amplitude.requires_grad == True:\n",
    "            params.append(aberrations[i].amplitude)\n",
    "            curves.append([])\n",
    "\n",
    "    optimizer = torch.optim.Adam(params, lr = learning_rate)\n",
    "    criterion = torch.nn.MSELoss()\n",
    "\n",
    "    loss_curve = []\n",
    "\n",
    "\n",
    "    start = time.time()\n",
    "\n",
    "    for iter in range(n_iters):\n",
    "        ctf = (\n",
    "                torch.stack(\n",
    "                    [\n",
    "                        make_contrast_transfer_function(\n",
    "                            bw_limit_size, rsize, eV, app, df=aberrations[0].amplitude, aberrations=aberrations\n",
    "                        )\n",
    "                    ]\n",
    "                )\n",
    "            .type(torch.complex128)\n",
    "            .to('cpu') # changed cuda to cpu\n",
    "        )\n",
    "\n",
    "        sim_image = amplitude(torch.fft.ifftn(ctf * output, dim=(-2, -1)))\n",
    "\n",
    "        optimizer.zero_grad()\n",
    "\n",
    "        loss = criterion(sim_image, ref_data)*loss_multiplier\n",
    "\n",
    "        loss.backward()\n",
    "\n",
    "        optimizer.step()\n",
    "\n",
    "        loss_curve.append(loss.item())\n",
    "\n",
    "\n",
    "        for i in range(0,len(curves)):\n",
    "            curves[i].append(aberrations[i].amplitude.item())\n",
    "\n",
    "\n",
    "    end = time.time()\n",
    "    \n",
    "    runtime = end-start\n",
    "    \n",
    "    if test_type == \"Iterations\":\n",
    "        save_sim_image(sim_image, n_iters, test_type)\n",
    "    elif test_type == \"Learning_Rate\":\n",
    "        save_sim_image(sim_image, learning_rate, test_type)\n",
    "    elif test_type == \"Loss_Multiplier\":\n",
    "        save_sim_image(sim_image, loss_multiplier, test_type)\n",
    "    else:\n",
    "        save_sim_image(sim_image, df_value, test_type)\n",
    "    \n",
    "    #print((aberrations[0].amplitude.grad)) # should be zero for a df=200 (GT) starting point\n",
    "    \n",
    "    return runtime, loss.item(), aberrations[0].amplitude.item()\n"
   ]
  },
  {
   "cell_type": "code",
   "execution_count": 6,
   "metadata": {},
   "outputs": [],
   "source": [
    "def main(n_iters, learning_rate, loss_multiplier, df_value, test_type):\n",
    "    aberrations = establish_aberrations(df_value)\n",
    "    output = create_initial_guess(aberrations)\n",
    "    \n",
    "    # Load in \"experimental\" data\n",
    "    # CHANGE THIS TO LOAD IN THE NEW DATA\n",
    "    path = '/home/hremadmin/Documents/Project/differentiable/df_200_test_data.npy'\n",
    "    \n",
    "    \n",
    "    \n",
    "    ref_data = np.load(path)\n",
    "    ref_data = torch.tensor(ref_data).to('cpu')\n",
    "    \n",
    "    runtime, loss, defocus_final = optimise(aberrations, output, ref_data, n_iters, learning_rate, loss_multiplier, df_value, test_type)\n",
    "    return runtime, loss, defocus_final\n",
    "    \n",
    "    "
   ]
  },
  {
   "cell_type": "code",
   "execution_count": null,
   "metadata": {},
   "outputs": [],
   "source": [
    "def save_data(test_type, variable, runtimes, losses, defocus_values):\n",
    "    filename_root = \"/home/hremadmin/Documents/Project/ML_files/Work_Jan_29/Defocus_Only/\"\n",
    "    \n",
    "    if test_type == \"Iterations\":\n",
    "        filename = filename_root + \"Iterations/Iterations.txt\"\n",
    "        x = \"Iterations, Loss, Final defocus value, time to run\"\n",
    "    elif test_type == \"Learning_Rate\":\n",
    "        filename = filename_root + \"LR/Learning_rates.txt\"\n",
    "        x = \"Learning rate, Loss, Final defocus value, time to run\"\n",
    "    elif test_type == \"Loss_Multiplier\":\n",
    "        filename = filename_root + \"LM/Loss_multiplier.txt\"\n",
    "        x = \"Loss multiplier, Loss, Final defocus value, time to run\"\n",
    "    else:\n",
    "        filename = filename_root + \"Initial_defocus/Initial_defocus.txt\"\n",
    "        x = \"Initial defocus value, Loss, Final defocus value, time to run\"\n",
    "\n",
    "    f = open(filename, \"a\")\n",
    "    f.write(x)\n",
    "    f.write(\"\\n\")\n",
    "\n",
    "    for i in range(0, len(variables)):\n",
    "        line = str(variables[i]) +  \", \" + str(losses[i]) + \", \" + str(defocus_values[i]) + \", \" + str(runtimes[i])\n",
    "        f.write(line)\n",
    "        f.write(\"\\n\")\n",
    "\n",
    "    f.close() \n",
    "    "
   ]
  },
  {
   "cell_type": "code",
   "execution_count": null,
   "metadata": {},
   "outputs": [],
   "source": [
    "def save_plots(test_type, variable_data, losses, defocus_values):\n",
    "    y_label_1 = \"Loss\"\n",
    "    y_label_2 = \"Final defocus value\"\n",
    "    \n",
    "    if test_type == \"Iterations\":\n",
    "        filepath_1 = \"/home/hremadmin/Documents/Project/ML_files/Work_Jan_29/Iterations/Loss.jpg\"\n",
    "        filepath_2 = \"/home/hremadmin/Documents/Project/ML_files/Work_Jan_29/Iterations/Defocus.jpg\"\n",
    "        x_data = variable_data\n",
    "        x_label = \"Number of iterations\"\n",
    "        \n",
    "    elif test_type == \"Learning_Rate\":\n",
    "        filepath_1 = \"/home/hremadmin/Documents/Project/ML_files/Work_Jan_29/LR/Loss.jpg\"\n",
    "        filepath_2 = \"/home/hremadmin/Documents/Project/ML_files/Work_Jan_29/LR/Defocus.jpg\"\n",
    "        x_data = [round(math.log(i, 10)) for i in variable_data]\n",
    "        x_label = \"log(Learning rate)\"\n",
    "        \n",
    "    elif test_type == \"Loss_Multiplier\":\n",
    "        filepath_1 = \"/home/hremadmin/Documents/Project/ML_files/Work_Jan_29/LM/Loss.jpg\"\n",
    "        filepath_2 = \"/home/hremadmin/Documents/Project/ML_files/Work_Jan_29/LM/Defocus.jpg\"\n",
    "        x_data = [round(math.log(i, 10)) for i in variable_data]\n",
    "        losses = [math.log(i, 10) for i in losses]\n",
    "        x_label = \"log(Loss multiplier)\"\n",
    "        y_label_1 = \"log(Losses)\"\n",
    "        \n",
    "    else:\n",
    "        filepath_1 = \"/home/hremadmin/Documents/Project/ML_files/Work_Jan_29/Initial_defocus/Loss.jpg\"\n",
    "        filepath_2 = \"/home/hremadmin/Documents/Project/ML_files/Work_Jan_29/Initial_defocus/Defocus.jpg\"\n",
    "        x_data = variable_data\n",
    "        x_label = \"Initial Defocus Value\"\n",
    "    \n",
    "    # First plot\n",
    "    plt.plot(x_data, losses)\n",
    "    plt.ylabel(y_label_1)\n",
    "    plt.xlabel(x_label)\n",
    "    plt.savefig(filepath_1, dpi=500, bbox_inches=\"tight\")\n",
    "    plt.clf()\n",
    "    \n",
    "    plt.plot(x_data, defocus_values)\n",
    "    plt.ylabel(y_label_2)\n",
    "    plt.xlabel(x_label)\n",
    "    plt.savefig(filepath_2, dpi=500, bbox_inches=\"tight\")\n",
    "    plt.show()\n",
    "    "
   ]
  },
  {
   "cell_type": "code",
   "execution_count": 7,
   "metadata": {},
   "outputs": [
    {
     "name": "stdout",
     "output_type": "stream",
     "text": [
      "Lowena-modified code\n",
      "True\n"
     ]
    },
    {
     "data": {
      "application/vnd.jupyter.widget-view+json": {
       "model_id": "261e2e2f1fc54098940a70869a57369e",
       "version_major": 2,
       "version_minor": 0
      },
      "text/plain": [
       "Making projected potentials:   0%|          | 0/5 [00:00<?, ?it/s]"
      ]
     },
     "metadata": {},
     "output_type": "display_data"
    },
    {
     "name": "stdout",
     "output_type": "stream",
     "text": [
      "1\n"
     ]
    },
    {
     "name": "stderr",
     "output_type": "stream",
     "text": [
      "/home/hremadmin/py_multislice_differentiable/py_multislice_differentiable_tem/pyms/Premixed_routines.py:1520: UserWarning: To copy construct from a tensor, it is recommended to use sourceTensor.clone().detach() or sourceTensor.clone().detach().requires_grad_(True), rather than torch.tensor(sourceTensor).\n",
      "  for df_ in defocii\n"
     ]
    },
    {
     "data": {
      "application/vnd.jupyter.widget-view+json": {
       "model_id": "d2e17c9ba18d4d0bbf61ecb37abdfabb",
       "version_major": 2,
       "version_minor": 0
      },
      "text/plain": [
       "Frozen phonon iteration:   0%|          | 0/1 [00:00<?, ?it/s]"
      ]
     },
     "metadata": {},
     "output_type": "display_data"
    },
    {
     "name": "stderr",
     "output_type": "stream",
     "text": [
      "/home/hremadmin/miniconda3/envs/pyms_2/lib/python3.6/site-packages/torch/nn/modules/loss.py:520: UserWarning: Using a target size (torch.Size([683, 683])) that is different to the input size (torch.Size([1, 683, 683])). This will likely lead to incorrect results due to broadcasting. Please ensure they have the same size.\n",
      "  return F.mse_loss(input, target, reduction=self.reduction)\n"
     ]
    },
    {
     "name": "stdout",
     "output_type": "stream",
     "text": [
      "Lowena-modified code\n",
      "True\n"
     ]
    },
    {
     "data": {
      "application/vnd.jupyter.widget-view+json": {
       "model_id": "79cc32ff078b43ba9c4ab646dc8411ba",
       "version_major": 2,
       "version_minor": 0
      },
      "text/plain": [
       "Making projected potentials:   0%|          | 0/5 [00:00<?, ?it/s]"
      ]
     },
     "metadata": {},
     "output_type": "display_data"
    },
    {
     "name": "stdout",
     "output_type": "stream",
     "text": [
      "1\n"
     ]
    },
    {
     "data": {
      "application/vnd.jupyter.widget-view+json": {
       "model_id": "3634def82daf46109f8fad5c0fbe3bb3",
       "version_major": 2,
       "version_minor": 0
      },
      "text/plain": [
       "Frozen phonon iteration:   0%|          | 0/1 [00:00<?, ?it/s]"
      ]
     },
     "metadata": {},
     "output_type": "display_data"
    },
    {
     "name": "stdout",
     "output_type": "stream",
     "text": [
      "Lowena-modified code\n",
      "True\n"
     ]
    },
    {
     "data": {
      "application/vnd.jupyter.widget-view+json": {
       "model_id": "237c1b4f023a4a57849622526a1d176c",
       "version_major": 2,
       "version_minor": 0
      },
      "text/plain": [
       "Making projected potentials:   0%|          | 0/5 [00:00<?, ?it/s]"
      ]
     },
     "metadata": {},
     "output_type": "display_data"
    },
    {
     "name": "stdout",
     "output_type": "stream",
     "text": [
      "1\n"
     ]
    },
    {
     "data": {
      "application/vnd.jupyter.widget-view+json": {
       "model_id": "08521eacf6ea41eb9e5f030516ca2104",
       "version_major": 2,
       "version_minor": 0
      },
      "text/plain": [
       "Frozen phonon iteration:   0%|          | 0/1 [00:00<?, ?it/s]"
      ]
     },
     "metadata": {},
     "output_type": "display_data"
    },
    {
     "name": "stdout",
     "output_type": "stream",
     "text": [
      "Lowena-modified code\n",
      "True\n"
     ]
    },
    {
     "data": {
      "application/vnd.jupyter.widget-view+json": {
       "model_id": "4e2f407a693b47ea8fc48d2fb7e2c3b8",
       "version_major": 2,
       "version_minor": 0
      },
      "text/plain": [
       "Making projected potentials:   0%|          | 0/5 [00:00<?, ?it/s]"
      ]
     },
     "metadata": {},
     "output_type": "display_data"
    },
    {
     "name": "stdout",
     "output_type": "stream",
     "text": [
      "1\n"
     ]
    },
    {
     "data": {
      "application/vnd.jupyter.widget-view+json": {
       "model_id": "a0aa85391cec4388a15ad8351f5110e1",
       "version_major": 2,
       "version_minor": 0
      },
      "text/plain": [
       "Frozen phonon iteration:   0%|          | 0/1 [00:00<?, ?it/s]"
      ]
     },
     "metadata": {},
     "output_type": "display_data"
    },
    {
     "name": "stdout",
     "output_type": "stream",
     "text": [
      "Lowena-modified code\n",
      "True\n"
     ]
    },
    {
     "data": {
      "application/vnd.jupyter.widget-view+json": {
       "model_id": "4885faba0da44ec7a07a89540e50c712",
       "version_major": 2,
       "version_minor": 0
      },
      "text/plain": [
       "Making projected potentials:   0%|          | 0/5 [00:00<?, ?it/s]"
      ]
     },
     "metadata": {},
     "output_type": "display_data"
    },
    {
     "name": "stdout",
     "output_type": "stream",
     "text": [
      "1\n"
     ]
    },
    {
     "data": {
      "application/vnd.jupyter.widget-view+json": {
       "model_id": "6186e57f57bc4572937732e625fa597e",
       "version_major": 2,
       "version_minor": 0
      },
      "text/plain": [
       "Frozen phonon iteration:   0%|          | 0/1 [00:00<?, ?it/s]"
      ]
     },
     "metadata": {},
     "output_type": "display_data"
    },
    {
     "name": "stdout",
     "output_type": "stream",
     "text": [
      "Lowena-modified code\n",
      "True\n"
     ]
    },
    {
     "data": {
      "application/vnd.jupyter.widget-view+json": {
       "model_id": "c927c18c38a14ec6a484ec0c9070dc2f",
       "version_major": 2,
       "version_minor": 0
      },
      "text/plain": [
       "Making projected potentials:   0%|          | 0/5 [00:00<?, ?it/s]"
      ]
     },
     "metadata": {},
     "output_type": "display_data"
    },
    {
     "name": "stdout",
     "output_type": "stream",
     "text": [
      "1\n"
     ]
    },
    {
     "data": {
      "application/vnd.jupyter.widget-view+json": {
       "model_id": "53ffe90dbc91490bb4cd9c08e1f6e0ca",
       "version_major": 2,
       "version_minor": 0
      },
      "text/plain": [
       "Frozen phonon iteration:   0%|          | 0/1 [00:00<?, ?it/s]"
      ]
     },
     "metadata": {},
     "output_type": "display_data"
    },
    {
     "name": "stdout",
     "output_type": "stream",
     "text": [
      "Lowena-modified code\n",
      "True\n"
     ]
    },
    {
     "data": {
      "application/vnd.jupyter.widget-view+json": {
       "model_id": "35799efaedff4d529f6c76cfc7f7e1aa",
       "version_major": 2,
       "version_minor": 0
      },
      "text/plain": [
       "Making projected potentials:   0%|          | 0/5 [00:00<?, ?it/s]"
      ]
     },
     "metadata": {},
     "output_type": "display_data"
    },
    {
     "name": "stdout",
     "output_type": "stream",
     "text": [
      "1\n"
     ]
    },
    {
     "data": {
      "application/vnd.jupyter.widget-view+json": {
       "model_id": "90b3d93740e04e838ec24a8d2441150c",
       "version_major": 2,
       "version_minor": 0
      },
      "text/plain": [
       "Frozen phonon iteration:   0%|          | 0/1 [00:00<?, ?it/s]"
      ]
     },
     "metadata": {},
     "output_type": "display_data"
    },
    {
     "name": "stdout",
     "output_type": "stream",
     "text": [
      "Lowena-modified code\n",
      "True\n"
     ]
    },
    {
     "data": {
      "application/vnd.jupyter.widget-view+json": {
       "model_id": "9144a6fe00c7497ea05815884379b8fd",
       "version_major": 2,
       "version_minor": 0
      },
      "text/plain": [
       "Making projected potentials:   0%|          | 0/5 [00:00<?, ?it/s]"
      ]
     },
     "metadata": {},
     "output_type": "display_data"
    },
    {
     "name": "stdout",
     "output_type": "stream",
     "text": [
      "1\n"
     ]
    },
    {
     "data": {
      "application/vnd.jupyter.widget-view+json": {
       "model_id": "9b68cea2d77b47238a94170675bbd377",
       "version_major": 2,
       "version_minor": 0
      },
      "text/plain": [
       "Frozen phonon iteration:   0%|          | 0/1 [00:00<?, ?it/s]"
      ]
     },
     "metadata": {},
     "output_type": "display_data"
    },
    {
     "name": "stdout",
     "output_type": "stream",
     "text": [
      "Lowena-modified code\n",
      "True\n"
     ]
    },
    {
     "data": {
      "application/vnd.jupyter.widget-view+json": {
       "model_id": "2ccac686fa494e8dab80849f04e2398d",
       "version_major": 2,
       "version_minor": 0
      },
      "text/plain": [
       "Making projected potentials:   0%|          | 0/5 [00:00<?, ?it/s]"
      ]
     },
     "metadata": {},
     "output_type": "display_data"
    },
    {
     "name": "stdout",
     "output_type": "stream",
     "text": [
      "1\n"
     ]
    },
    {
     "data": {
      "application/vnd.jupyter.widget-view+json": {
       "model_id": "58cff82727c5416ab912f086bacb9884",
       "version_major": 2,
       "version_minor": 0
      },
      "text/plain": [
       "Frozen phonon iteration:   0%|          | 0/1 [00:00<?, ?it/s]"
      ]
     },
     "metadata": {},
     "output_type": "display_data"
    },
    {
     "name": "stdout",
     "output_type": "stream",
     "text": [
      "Lowena-modified code\n",
      "True\n"
     ]
    },
    {
     "data": {
      "application/vnd.jupyter.widget-view+json": {
       "model_id": "b0c55f1ee3ab46b5b4962b1bbda23541",
       "version_major": 2,
       "version_minor": 0
      },
      "text/plain": [
       "Making projected potentials:   0%|          | 0/5 [00:00<?, ?it/s]"
      ]
     },
     "metadata": {},
     "output_type": "display_data"
    },
    {
     "name": "stdout",
     "output_type": "stream",
     "text": [
      "1\n"
     ]
    },
    {
     "data": {
      "application/vnd.jupyter.widget-view+json": {
       "model_id": "57d17c5ee64e49a58713cec9f91b5c9b",
       "version_major": 2,
       "version_minor": 0
      },
      "text/plain": [
       "Frozen phonon iteration:   0%|          | 0/1 [00:00<?, ?it/s]"
      ]
     },
     "metadata": {},
     "output_type": "display_data"
    },
    {
     "name": "stdout",
     "output_type": "stream",
     "text": [
      "Lowena-modified code\n",
      "True\n"
     ]
    },
    {
     "data": {
      "application/vnd.jupyter.widget-view+json": {
       "model_id": "3eafaf25ca154309909068087fdd3a46",
       "version_major": 2,
       "version_minor": 0
      },
      "text/plain": [
       "Making projected potentials:   0%|          | 0/5 [00:00<?, ?it/s]"
      ]
     },
     "metadata": {},
     "output_type": "display_data"
    },
    {
     "name": "stdout",
     "output_type": "stream",
     "text": [
      "1\n"
     ]
    },
    {
     "data": {
      "application/vnd.jupyter.widget-view+json": {
       "model_id": "f3c5487fa3fa417e8d825094b20c6850",
       "version_major": 2,
       "version_minor": 0
      },
      "text/plain": [
       "Frozen phonon iteration:   0%|          | 0/1 [00:00<?, ?it/s]"
      ]
     },
     "metadata": {},
     "output_type": "display_data"
    },
    {
     "name": "stdout",
     "output_type": "stream",
     "text": [
      "Lowena-modified code\n",
      "True\n"
     ]
    },
    {
     "data": {
      "application/vnd.jupyter.widget-view+json": {
       "model_id": "e2575dd4cd5d40c99f8f331493203bd2",
       "version_major": 2,
       "version_minor": 0
      },
      "text/plain": [
       "Making projected potentials:   0%|          | 0/5 [00:00<?, ?it/s]"
      ]
     },
     "metadata": {},
     "output_type": "display_data"
    },
    {
     "name": "stdout",
     "output_type": "stream",
     "text": [
      "1\n"
     ]
    },
    {
     "data": {
      "application/vnd.jupyter.widget-view+json": {
       "model_id": "13d37f4654784dc792993b33b85d0252",
       "version_major": 2,
       "version_minor": 0
      },
      "text/plain": [
       "Frozen phonon iteration:   0%|          | 0/1 [00:00<?, ?it/s]"
      ]
     },
     "metadata": {},
     "output_type": "display_data"
    },
    {
     "name": "stdout",
     "output_type": "stream",
     "text": [
      "Lowena-modified code\n",
      "True\n"
     ]
    },
    {
     "data": {
      "application/vnd.jupyter.widget-view+json": {
       "model_id": "bd276f24404e408f9e8469d953b75141",
       "version_major": 2,
       "version_minor": 0
      },
      "text/plain": [
       "Making projected potentials:   0%|          | 0/5 [00:00<?, ?it/s]"
      ]
     },
     "metadata": {},
     "output_type": "display_data"
    },
    {
     "name": "stdout",
     "output_type": "stream",
     "text": [
      "1\n"
     ]
    },
    {
     "data": {
      "application/vnd.jupyter.widget-view+json": {
       "model_id": "39c87cac0ff3461ebc8cca1a8975e113",
       "version_major": 2,
       "version_minor": 0
      },
      "text/plain": [
       "Frozen phonon iteration:   0%|          | 0/1 [00:00<?, ?it/s]"
      ]
     },
     "metadata": {},
     "output_type": "display_data"
    },
    {
     "name": "stdout",
     "output_type": "stream",
     "text": [
      "Lowena-modified code\n",
      "True\n"
     ]
    },
    {
     "data": {
      "application/vnd.jupyter.widget-view+json": {
       "model_id": "d3798694e91544df8afcc3c8fb08dc02",
       "version_major": 2,
       "version_minor": 0
      },
      "text/plain": [
       "Making projected potentials:   0%|          | 0/5 [00:00<?, ?it/s]"
      ]
     },
     "metadata": {},
     "output_type": "display_data"
    },
    {
     "name": "stdout",
     "output_type": "stream",
     "text": [
      "1\n"
     ]
    },
    {
     "data": {
      "application/vnd.jupyter.widget-view+json": {
       "model_id": "53e89b6f2c604b91b2609f7699a5ea31",
       "version_major": 2,
       "version_minor": 0
      },
      "text/plain": [
       "Frozen phonon iteration:   0%|          | 0/1 [00:00<?, ?it/s]"
      ]
     },
     "metadata": {},
     "output_type": "display_data"
    },
    {
     "name": "stdout",
     "output_type": "stream",
     "text": [
      "Lowena-modified code\n",
      "True\n"
     ]
    },
    {
     "data": {
      "application/vnd.jupyter.widget-view+json": {
       "model_id": "3a2773f4e2704a8e957c17eae77295ad",
       "version_major": 2,
       "version_minor": 0
      },
      "text/plain": [
       "Making projected potentials:   0%|          | 0/5 [00:00<?, ?it/s]"
      ]
     },
     "metadata": {},
     "output_type": "display_data"
    },
    {
     "name": "stdout",
     "output_type": "stream",
     "text": [
      "1\n"
     ]
    },
    {
     "data": {
      "application/vnd.jupyter.widget-view+json": {
       "model_id": "c2103fa841644a748b1c3c483c5a816d",
       "version_major": 2,
       "version_minor": 0
      },
      "text/plain": [
       "Frozen phonon iteration:   0%|          | 0/1 [00:00<?, ?it/s]"
      ]
     },
     "metadata": {},
     "output_type": "display_data"
    },
    {
     "name": "stdout",
     "output_type": "stream",
     "text": [
      "Lowena-modified code\n",
      "True\n"
     ]
    },
    {
     "data": {
      "application/vnd.jupyter.widget-view+json": {
       "model_id": "5ebb7ee78b2d4190b5cd94885b221893",
       "version_major": 2,
       "version_minor": 0
      },
      "text/plain": [
       "Making projected potentials:   0%|          | 0/5 [00:00<?, ?it/s]"
      ]
     },
     "metadata": {},
     "output_type": "display_data"
    },
    {
     "name": "stdout",
     "output_type": "stream",
     "text": [
      "1\n"
     ]
    },
    {
     "data": {
      "application/vnd.jupyter.widget-view+json": {
       "model_id": "5b895630ebb8412c9081361f695bc47c",
       "version_major": 2,
       "version_minor": 0
      },
      "text/plain": [
       "Frozen phonon iteration:   0%|          | 0/1 [00:00<?, ?it/s]"
      ]
     },
     "metadata": {},
     "output_type": "display_data"
    },
    {
     "name": "stdout",
     "output_type": "stream",
     "text": [
      "Lowena-modified code\n",
      "True\n"
     ]
    },
    {
     "data": {
      "application/vnd.jupyter.widget-view+json": {
       "model_id": "6f0cd4e328144e17ad1f6620b67f4b0e",
       "version_major": 2,
       "version_minor": 0
      },
      "text/plain": [
       "Making projected potentials:   0%|          | 0/5 [00:00<?, ?it/s]"
      ]
     },
     "metadata": {},
     "output_type": "display_data"
    },
    {
     "name": "stdout",
     "output_type": "stream",
     "text": [
      "1\n"
     ]
    },
    {
     "data": {
      "application/vnd.jupyter.widget-view+json": {
       "model_id": "e6732354ad36413db9335424c67d6623",
       "version_major": 2,
       "version_minor": 0
      },
      "text/plain": [
       "Frozen phonon iteration:   0%|          | 0/1 [00:00<?, ?it/s]"
      ]
     },
     "metadata": {},
     "output_type": "display_data"
    },
    {
     "data": {
      "image/png": "[encoded data removed]",
      "text/plain": [
       "<Figure size 432x288 with 1 Axes>"
      ]
     },
     "metadata": {},
     "output_type": "display_data"
    }
   ],
   "source": [
    "# Test 1: Number of Iterations\n",
    "test_type = \"Iterations\"\n",
    "\n",
    "n_iterations = [10, 100, 1000, 2000, 5000, 10000]\n",
    "\n",
    "# Constants\n",
    "learning_rate = 1e-1\n",
    "loss_multiplier = 1e9\n",
    "\n",
    "runtimes = []\n",
    "losses = []\n",
    "defocus_values = []\n",
    "\n",
    "for i in n_iterations:\n",
    "    runtime, loss, defocus_final = main(i, learning_rate, loss_multiplier)\n",
    "    runtimes.append(runtime)\n",
    "    losses.append(loss)\n",
    "    defocus_values.append(defocus_final)\n",
    "\n",
    "save_data(test_type, n_iterations, runtimes, losses, defocus_values)\n",
    "save_plots(test_type, n_iterations, losses, defocus_values)\n",
    "\n",
    "\n",
    "# Test 2: Learning rate\n",
    "test_type = \"Learning_Rate\"\n",
    "\n",
    "lrs = [1e-5, 1e-4, 1e-3, 1e-2, 1e-1, 1e0, 1e1, 1e2, 1e3, 1e4]\n",
    "\n",
    "# Constants\n",
    "n_iters = 2000\n",
    "loss_multiplier = 1e9\n",
    "\n",
    "runtimes = []\n",
    "losses = []\n",
    "defocus_values = []\n",
    "\n",
    "for i in lrs:\n",
    "    runtime, loss, defocus_final = main(n_iters, i, loss_multiplier)\n",
    "    runtimes.append(runtime)\n",
    "    losses.append(loss)\n",
    "    defocus_values.append(defocus_final)\n",
    "    \n",
    "save_data(test_type, lrs, runtimes, losses, defocus_values)\n",
    "save_plots(test_type, lrs, losses, defocus_values)\n",
    "\n",
    "# Test 3: Loss multiplier\n",
    "test_type = \"Loss_Multiplier\"\n",
    "\n",
    "lm = [1e5, 1e6, 1e7, 1e8, 1e9, 1e10, 1e11, 1e12, 1e13, 1e14]\n",
    "\n",
    "# Constants\n",
    "n_iters = 2000\n",
    "learning_rate = 1e-1\n",
    "\n",
    "runtimes = []\n",
    "losses = []\n",
    "defocus_values = []\n",
    "\n",
    "for i in lm:\n",
    "    runtime, loss, defocus_final = main(n_iters, learning_rate, i)\n",
    "    runtimes.append(runtime)\n",
    "    losses.append(loss)\n",
    "    defocus_values.append(defocus_final)\n",
    "    \n",
    "save_data(test_type, lm, runtimes, losses, defocus_values)\n",
    "save_plots(test_type, lm, losses, defocus_values)\n",
    "\n",
    "# Test 4: Initial defocus value\n",
    "test_type = \"Initial_Value\"\n",
    "\n",
    "df_values = [0.0, 25.0, 50.0, 75.0, 100.0, 125.0, 150.0, 175.0, 200.0, 225.0, 250.0, 275.0, 300.0, 325.0, 350.0, 375.0, 400.0]\n",
    "\n",
    "# Constants\n",
    "n_iterations = 2000\n",
    "learning_rate = 1e-1\n",
    "loss_multiplier = 1e9\n",
    "\n",
    "runtimes = []\n",
    "losses = []\n",
    "defocus_values = []\n",
    "\n",
    "for i in df_values:\n",
    "    runtime, loss, defocus_final = main(n_iterations, learning_rate, loss_multiplier, i)\n",
    "    runtimes.append(runtime)\n",
    "    losses.append(loss)\n",
    "    defocus_values.append(defocus_final)\n",
    "\n",
    "save_data(test_type, df_values, runtimes, losses, defocus_values)\n",
    "save_plots(test_type, df_values, losses, defocus_values)"
   ]
  }
 ],
 "metadata": {
  "kernelspec": {
   "display_name": "Python 3",
   "language": "python",
   "name": "python3"
  },
  "language_info": {
   "codemirror_mode": {
    "name": "ipython",
    "version": 3
   },
   "file_extension": ".py",
   "mimetype": "text/x-python",
   "name": "python",
   "nbconvert_exporter": "python",
   "pygments_lexer": "ipython3",
   "version": "3.6.13"
  }
 },
 "nbformat": 4,
 "nbformat_minor": 2
}
