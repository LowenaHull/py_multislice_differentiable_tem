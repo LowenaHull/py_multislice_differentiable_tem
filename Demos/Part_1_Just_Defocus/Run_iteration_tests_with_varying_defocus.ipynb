{
 "cells": [
  {
   "cell_type": "markdown",
   "metadata": {},
   "source": [
    "# Work 2nd-5th February"
   ]
  },
  {
   "cell_type": "markdown",
   "metadata": {},
   "source": [
    "Determine the number of iterations needed to reach convergence and the final loss value attained for a series of defocus values."
   ]
  },
  {
   "cell_type": "code",
   "execution_count": 1,
   "metadata": {},
   "outputs": [],
   "source": [
    "import pyms\n",
    "import numpy as np\n",
    "import torch\n",
    "import time\n",
    "from pyms.Probe import aberration\n",
    "from copy import deepcopy\n",
    "import matplotlib.pyplot as plt\n",
    "import math\n",
    "\n",
    "from pyms.utils.torch_utils import (\n",
    "    amplitude,\n",
    "    crop_to_bandwidth_limit_torch,\n",
    "    size_of_bandwidth_limited_array,\n",
    "    amplitude,\n",
    ")\n",
    "\n",
    "from pyms.Probe import (\n",
    "    make_contrast_transfer_function,\n",
    ")\n",
    "\n",
    "%matplotlib inline\n",
    "\n",
    "\n",
    "crystal = pyms.structure.fromfile(\n",
    "    \"/home/hremadmin/py_multislice_differentiable/py_multislice_differentiable_tem/Demos/Structures/SrTiO3_CeO2_interface.xyz\", atomic_coordinates=\"cartesian\"\n",
    ")\n",
    "\n",
    "# A few maniupulations to remove vaccuum at edges and create a psuedo-periodic structure\n",
    "crystal = crystal.resize([0.1, 0.76], axis=0)\n",
    "\n",
    "other = deepcopy(crystal).resize([0.017, 0.99], axis=0)\n",
    "other.reflect([0])\n",
    "crystal = crystal.concatenate(other, axis=0)\n",
    "\n",
    "# Subslicing of crystal for multislice\n",
    "subslices = [0.33, 0.66, 1.0]\n",
    "\n",
    "# Grid size in pixels\n",
    "gridshape = [1024, 1024]\n",
    "\n",
    "# Tile structure in multislice for a square grid\n",
    "tiling = [1, 7]\n",
    "\n",
    "# Probe accelerating voltage in eV\n",
    "eV = 3e5\n",
    "\n",
    "# Objective aperture in mrad\n",
    "app = 15\n",
    "\n",
    "# Set up series of thicknesses\n",
    "thicknesses = np.array([100])\n"
   ]
  },
  {
   "cell_type": "code",
   "execution_count": 2,
   "metadata": {},
   "outputs": [],
   "source": [
    "# Establish aberrations\n",
    "\n",
    "def establish_aberrations(df_value):\n",
    "    \"\"\"Create a list of aberrations. Initialise with starting values.\"\"\"\n",
    "\n",
    "    aberrations = []\n",
    "\n",
    "    # Initial guesses for aberrations\n",
    "    df = df_value # This will set the aberrations to the GT (i.e. the optimization SHOULD change nothing, but this wasn't what was seen)\n",
    "    \n",
    "    # Cs = 1 mm\n",
    "    cs = 1e7\n",
    "    \n",
    "\n",
    "    # Krivanek aberration coefficient, Haider aberration coefficient, colloquial name, amplitude, angle, n, m\n",
    "    # n and m are constants (shouldn't be differentiable), amplitude and angle should be\n",
    "\n",
    "    aberrations.append(aberration(\"C10\", \"C1\", \"Defocus          \", torch.tensor([df], requires_grad = True), 0.0, 1, 0.0))\n",
    "    aberrations.append(aberration(\"C30\", \"C3\", \"3rd order spher. \", torch.tensor([cs], requires_grad = False), 0.0, 3, 0))\n",
    "    \n",
    "    return aberrations\n"
   ]
  },
  {
   "cell_type": "code",
   "execution_count": 4,
   "metadata": {},
   "outputs": [],
   "source": [
    "# Set up our initial guess for the crystal HRTEM\n",
    "# It uses the aberrations (including defocus) as set above\n",
    "\n",
    "def create_initial_guess(aberrations, aperture):\n",
    "\n",
    "    output = pyms.HRTEM(\n",
    "        crystal,\n",
    "        gridshape,\n",
    "        eV,\n",
    "        aperture,\n",
    "        thicknesses,\n",
    "        subslices=subslices,\n",
    "        aberrations=aberrations,\n",
    "        df= aberrations[0].amplitude,\n",
    "        tiling=tiling,\n",
    "        nfph=1,\n",
    "        showProgress='notebook', \n",
    "        apply_ctf = False,\n",
    "    )\n",
    "    \n",
    "    return output"
   ]
  },
  {
   "cell_type": "code",
   "execution_count": 5,
   "metadata": {},
   "outputs": [],
   "source": [
    "def save_sim_image(sim_image, defocus, aperture):\n",
    "    plt.imshow(sim_image[0].detach().cpu().numpy())\n",
    "    \n",
    "    plt.title(u'Simulated image of SrTiO\\u2083/CeO\\u2082 interface\\n after 2000 iterations')\n",
    "    \n",
    "    filepath = \"/home/hremadmin/Documents/Project/ML_files/Work_Feb_5/Images/simulated_image_\"+ str(defocus) + \"_\" + str(aperture) + \".jpg\"\n",
    "    filepath_2 = \"/home/hremadmin/Documents/Project/ML_files/Work_Feb_5/Torch_Data/image_data_\"+ str(defocus) + \"_\" + str(aperture) + \".pt\"\n",
    "    \n",
    "    plt.xticks([])\n",
    "    plt.yticks([])\n",
    "\n",
    "    plt.savefig(filepath, dpi=500)\n",
    "    torch.save(sim_image, filepath_2)\n"
   ]
  },
  {
   "cell_type": "code",
   "execution_count": 6,
   "metadata": {},
   "outputs": [],
   "source": [
    "def optimise(aberrations, output, ref_data, n_iters, learning_rate, loss_multiplier, defocus, aperture):\n",
    "    \"\"\"Go through and refine the aberrations to minimise difference between initial guess (output) and experimental image\"\"\"\n",
    "\n",
    "    bw_limit_size = size_of_bandwidth_limited_array(gridshape)\n",
    "    rsize = np.asarray(crystal.unitcell[:2]) * np.asarray(tiling)\n",
    "\n",
    "    curves = []\n",
    "    params = []\n",
    "\n",
    "    for i in range(0, len(aberrations)):\n",
    "        if aberrations[i].amplitude.requires_grad == True:\n",
    "            params.append(aberrations[i].amplitude)\n",
    "            curves.append([])\n",
    "\n",
    "    optimizer = torch.optim.Adam(params, lr = learning_rate)\n",
    "    criterion = torch.nn.MSELoss()\n",
    "\n",
    "    loss_curve = []\n",
    "\n",
    "\n",
    "    start = time.time()\n",
    "\n",
    "    for iter in range(n_iters):\n",
    "        ctf = (\n",
    "                torch.stack(\n",
    "                    [\n",
    "                        make_contrast_transfer_function(\n",
    "                            bw_limit_size, rsize, eV, app, df=aberrations[0].amplitude, aberrations=aberrations\n",
    "                        )\n",
    "                    ]\n",
    "                )\n",
    "            .type(torch.complex128)\n",
    "            .to('cpu')\n",
    "        )\n",
    "\n",
    "        sim_image = amplitude(torch.fft.ifftn(ctf * output, dim=(-2, -1)))\n",
    "\n",
    "        optimizer.zero_grad()\n",
    "\n",
    "        loss = criterion(sim_image, ref_data)*loss_multiplier\n",
    "\n",
    "        loss.backward()\n",
    "\n",
    "        optimizer.step()\n",
    "\n",
    "        loss_curve.append(loss.item())\n",
    "\n",
    "        \n",
    "        # What do I want to do with this data? Maybe keep it on hold until \n",
    "        for i in range(0,len(curves)):\n",
    "            curves[i].append(aberrations[i].amplitude.item())\n",
    "\n",
    "\n",
    "    end = time.time()\n",
    "    \n",
    "    runtime = end-start\n",
    "    \n",
    "    save_sim_image(sim_image, defocus, aperture)\n",
    "    \n",
    "    return runtime, loss.item(), aberrations[0].amplitude.item()\n"
   ]
  },
  {
   "cell_type": "code",
   "execution_count": null,
   "metadata": {},
   "outputs": [],
   "source": [
    "def generate_experimental_data(defocus, aperture):\n",
    "    \"\"\"Generate different starting experimental 'dummy' images\"\"\"\n",
    "    \n",
    "    subslices = [0.33, 0.66, 1.0]\n",
    "    gridshape = [1024, 1024]\n",
    "    tiling = [1, 7]\n",
    "    eV = 3e5\n",
    "    app = aperture\n",
    "    thicknesses = np.array([100])\n",
    "    df = np.array([defocus])\n",
    "\n",
    "    aberrations = []\n",
    "    aberrations.append(aberration(\"C10\", \"C1\", \"Defocus          \", defocus, 0.0, 1, 0.0))\n",
    "    aberrations.append(aberration(\"C30\", \"C3\", \"3rd order spher. \", 1e7, 0.0, 3, 0))\n",
    "    \n",
    "    output = pyms.HRTEM(\n",
    "        crystal,\n",
    "        gridshape,\n",
    "        eV,\n",
    "        app,\n",
    "        thicknesses,\n",
    "        subslices=subslices,\n",
    "        aberrations=aberrations,\n",
    "        df=df,\n",
    "        tiling=tiling,\n",
    "        nfph=1,\n",
    "        showProgress='notebook'\n",
    "    )\n",
    "    \n",
    "    plt.imshow(output, vmin=0)# failing on this line if df is a tensor, fine if its a np array\n",
    "\n",
    "    plt.title(u'Dummy image for SrTiO\\u2083/CeO\\u2082 interface\\n defocus={defocus}Å 1 frozen phonon pass Cs = 1mm\\naperture={aperture}mrad'.format(defocus=defocus, aperture=aperture), fontsize=15)\n",
    "    plt.xticks([])\n",
    "    plt.yticks([])\n",
    "\n",
    "    filepath = '/home/hremadmin/Documents/Project/ML_files/Work_Feb_5/experimental_images/def_{defocus}_ap_{aperture}.jpg'.format(defocus=int(defocus), aperture=int(aperture))\n",
    "    \n",
    "    plt.savefig(filepath, dpi=500, bbox_inches=\"tight\")\n",
    "    \n",
    "    return output"
   ]
  },
  {
   "cell_type": "code",
   "execution_count": 8,
   "metadata": {},
   "outputs": [],
   "source": [
    "def main(n_iters, learning_rate, loss_multiplier, defocus, aperture):\n",
    "    aberrations = establish_aberrations(defocus)\n",
    "    output = create_initial_guess(aberrations, aperture) # Modified to use the same aperture as the experimental data\n",
    "    \n",
    "    # Load in \"experimental\" data\n",
    "    \n",
    "    ref_data = generate_experimental_data(defocus, aperture)\n",
    "    ref_data = torch.tensor(ref_data).to('cpu')\n",
    "    \n",
    "    runtime, loss, defocus_final = optimise(aberrations, output, ref_data, n_iters, learning_rate, loss_multiplier, defocus, aperture)\n",
    "    return runtime, loss, defocus_final\n",
    "    \n",
    "    "
   ]
  },
  {
   "cell_type": "code",
   "execution_count": 9,
   "metadata": {},
   "outputs": [],
   "source": [
    "def save_data(variables, runtimes, losses, defocus_values, defocus, aperture):\n",
    "    filename = '/home/hremadmin/Documents/Project/ML_files/Work_Feb_5/CSV_data/Iterations_{defocus}_{aperture}.csv'.format(defocus=defocus, aperture=aperture)\n",
    "    x= \"Iterations, Loss, Final defocus value, time to run\"\n",
    "    \n",
    "    f = open(filename, \"a\")\n",
    "    f.write(x)\n",
    "    f.write(\"\\n\")\n",
    "\n",
    "    for i in range(0, len(variables)):\n",
    "        line = str(variables[i]) +  \", \" + str(losses[i]) + \", \" + str(defocus_values[i]) + \", \" + str(runtimes[i])\n",
    "        f.write(line)\n",
    "        f.write(\"\\n\")\n",
    "\n",
    "    f.close() \n",
    "    "
   ]
  },
  {
   "cell_type": "code",
   "execution_count": 10,
   "metadata": {},
   "outputs": [],
   "source": [
    "def save_plots(variable_data, losses, defocus_values, defocus, aperture):\n",
    "    y_label_1 = \"Loss\"\n",
    "    y_label_2 = \"Final defocus value\"\n",
    "    x_label = \"Number of iterations\"\n",
    "    \n",
    "    filepath_1 = '/home/hremadmin/Documents/Project/ML_files/Work_Feb_5/Loss_{defocus}_{aperture}.jpg'.format(defocus=defocus, aperture=aperture)\n",
    "    filepath_2 = '/home/hremadmin/Documents/Project/ML_files/Work_Feb_5/Defocus_{defocus}_{aperture}.jpg'.format(defocus=defocus, aperture=aperture)\n",
    "    \n",
    "    plt.clf()\n",
    "    plt.plot(variable_data, losses)\n",
    "    plt.ylabel(y_label_1)\n",
    "    plt.xlabel(x_label)\n",
    "    plt.savefig(filepath_1, dpi=500, bbox_inches=\"tight\")\n",
    "    plt.clf()\n",
    "    \n",
    "    plt.plot(variable_data, defocus_values)\n",
    "    plt.ylabel(y_label_2)\n",
    "    plt.xlabel(x_label)\n",
    "    plt.savefig(filepath_2, dpi=500, bbox_inches=\"tight\")\n",
    "    plt.show()\n",
    "    "
   ]
  },
  {
   "cell_type": "markdown",
   "metadata": {},
   "source": [
    "# Quick madness interlude"
   ]
  },
  {
   "cell_type": "code",
   "execution_count": 28,
   "metadata": {},
   "outputs": [
    {
     "name": "stdout",
     "output_type": "stream",
     "text": [
      "0.0414125\n",
      "151.64503471174163\n",
      "0.07784304511278195\n",
      "7.784304511278195e-05\n"
     ]
    }
   ],
   "source": [
    "E = 3e5 * 1.6e-19\n",
    "c = 3e8\n",
    "h = 6.626e-34\n",
    "wavelength = (c*h)/E * 1e10 # in angstroms\n",
    "\n",
    "print(wavelength)\n",
    "\n",
    "wavevector = 1/wavelength  * 2 * 3.14\n",
    "print(wavevector)\n",
    "\n",
    "# g= k * theta\n",
    "#g = 15e-3 * wavevector\n",
    "\n",
    "g = 1/532 * 2 * 3.14\n",
    "\n",
    "theta = g / wavevector\n",
    "\n",
    "print(theta*1000)\n",
    "\n",
    "print(wavelength/532)\n"
   ]
  },
  {
   "cell_type": "code",
   "execution_count": 32,
   "metadata": {},
   "outputs": [
    {
     "name": "stdout",
     "output_type": "stream",
     "text": [
      "44.642857142857146\n",
      "0.6696428571428572\n"
     ]
    }
   ],
   "source": [
    "wavelength = 0.0224\n",
    "wavevector = 1/wavelength \n",
    "print(wavevector)\n",
    "\n",
    "g = 15e-3 * wavevector\n",
    "\n",
    "print(g)"
   ]
  },
  {
   "cell_type": "markdown",
   "metadata": {},
   "source": [
    "# End of madness interlude"
   ]
  },
  {
   "cell_type": "code",
   "execution_count": 14,
   "metadata": {
    "scrolled": true
   },
   "outputs": [
    {
     "name": "stdout",
     "output_type": "stream",
     "text": [
      "Lowena-modified code\n",
      "True\n"
     ]
    },
    {
     "data": {
      "application/vnd.jupyter.widget-view+json": {
       "model_id": "f4c4de5bf7b044e3b17212755d48f7eb",
       "version_major": 2,
       "version_minor": 0
      },
      "text/plain": [
       "Making projected potentials:   0%|          | 0/5 [00:00<?, ?it/s]"
      ]
     },
     "metadata": {},
     "output_type": "display_data"
    },
    {
     "name": "stdout",
     "output_type": "stream",
     "text": [
      "2\n"
     ]
    },
    {
     "data": {
      "application/vnd.jupyter.widget-view+json": {
       "model_id": "b8e8d9d8fcbd4b81b4b74be5eb005a1d",
       "version_major": 2,
       "version_minor": 0
      },
      "text/plain": [
       "Frozen phonon iteration:   0%|          | 0/1 [00:00<?, ?it/s]"
      ]
     },
     "metadata": {},
     "output_type": "display_data"
    },
    {
     "name": "stdout",
     "output_type": "stream",
     "text": [
      "Lowena-modified code\n",
      "False\n"
     ]
    },
    {
     "data": {
      "application/vnd.jupyter.widget-view+json": {
       "model_id": "ffbad639f7dc418b81074145e165eb7e",
       "version_major": 2,
       "version_minor": 0
      },
      "text/plain": [
       "Making projected potentials:   0%|          | 0/5 [00:00<?, ?it/s]"
      ]
     },
     "metadata": {},
     "output_type": "display_data"
    },
    {
     "name": "stdout",
     "output_type": "stream",
     "text": [
      "2\n"
     ]
    },
    {
     "data": {
      "application/vnd.jupyter.widget-view+json": {
       "model_id": "b4634fd1a5524c89865860326fcb3d2a",
       "version_major": 2,
       "version_minor": 0
      },
      "text/plain": [
       "Frozen phonon iteration:   0%|          | 0/1 [00:00<?, ?it/s]"
      ]
     },
     "metadata": {},
     "output_type": "display_data"
    },
    {
     "name": "stdout",
     "output_type": "stream",
     "text": [
      "Lowena-modified code\n",
      "True\n"
     ]
    },
    {
     "data": {
      "application/vnd.jupyter.widget-view+json": {
       "model_id": "bb709f8d19d64e2d86cfe9c0da76e792",
       "version_major": 2,
       "version_minor": 0
      },
      "text/plain": [
       "Making projected potentials:   0%|          | 0/5 [00:00<?, ?it/s]"
      ]
     },
     "metadata": {},
     "output_type": "display_data"
    },
    {
     "name": "stdout",
     "output_type": "stream",
     "text": [
      "2\n"
     ]
    },
    {
     "data": {
      "application/vnd.jupyter.widget-view+json": {
       "model_id": "b1a64287cba14bf8866d8fa90e7bd9ec",
       "version_major": 2,
       "version_minor": 0
      },
      "text/plain": [
       "Frozen phonon iteration:   0%|          | 0/1 [00:00<?, ?it/s]"
      ]
     },
     "metadata": {},
     "output_type": "display_data"
    },
    {
     "name": "stdout",
     "output_type": "stream",
     "text": [
      "Lowena-modified code\n",
      "False\n"
     ]
    },
    {
     "data": {
      "application/vnd.jupyter.widget-view+json": {
       "model_id": "c1297e858101471d986c2802dc92f5a9",
       "version_major": 2,
       "version_minor": 0
      },
      "text/plain": [
       "Making projected potentials:   0%|          | 0/5 [00:00<?, ?it/s]"
      ]
     },
     "metadata": {},
     "output_type": "display_data"
    },
    {
     "name": "stdout",
     "output_type": "stream",
     "text": [
      "2\n"
     ]
    },
    {
     "data": {
      "application/vnd.jupyter.widget-view+json": {
       "model_id": "beb354e0e6d64c70a0ecee86f61421dd",
       "version_major": 2,
       "version_minor": 0
      },
      "text/plain": [
       "Frozen phonon iteration:   0%|          | 0/1 [00:00<?, ?it/s]"
      ]
     },
     "metadata": {},
     "output_type": "display_data"
    },
    {
     "name": "stdout",
     "output_type": "stream",
     "text": [
      "Lowena-modified code\n",
      "True\n"
     ]
    },
    {
     "data": {
      "application/vnd.jupyter.widget-view+json": {
       "model_id": "7fb1b2191e1e4f568006e8e40f930710",
       "version_major": 2,
       "version_minor": 0
      },
      "text/plain": [
       "Making projected potentials:   0%|          | 0/5 [00:00<?, ?it/s]"
      ]
     },
     "metadata": {},
     "output_type": "display_data"
    },
    {
     "name": "stdout",
     "output_type": "stream",
     "text": [
      "2\n"
     ]
    },
    {
     "data": {
      "application/vnd.jupyter.widget-view+json": {
       "model_id": "514ccfa3a3b743489937e9fb38f43356",
       "version_major": 2,
       "version_minor": 0
      },
      "text/plain": [
       "Frozen phonon iteration:   0%|          | 0/1 [00:00<?, ?it/s]"
      ]
     },
     "metadata": {},
     "output_type": "display_data"
    },
    {
     "name": "stdout",
     "output_type": "stream",
     "text": [
      "Lowena-modified code\n",
      "False\n"
     ]
    },
    {
     "data": {
      "application/vnd.jupyter.widget-view+json": {
       "model_id": "84be56bd65fe476780574ff7d2856f5a",
       "version_major": 2,
       "version_minor": 0
      },
      "text/plain": [
       "Making projected potentials:   0%|          | 0/5 [00:00<?, ?it/s]"
      ]
     },
     "metadata": {},
     "output_type": "display_data"
    },
    {
     "name": "stdout",
     "output_type": "stream",
     "text": [
      "2\n"
     ]
    },
    {
     "data": {
      "application/vnd.jupyter.widget-view+json": {
       "model_id": "e855320065a944fa9231c57684ebdf61",
       "version_major": 2,
       "version_minor": 0
      },
      "text/plain": [
       "Frozen phonon iteration:   0%|          | 0/1 [00:00<?, ?it/s]"
      ]
     },
     "metadata": {},
     "output_type": "display_data"
    },
    {
     "name": "stdout",
     "output_type": "stream",
     "text": [
      "Lowena-modified code\n",
      "True\n"
     ]
    },
    {
     "data": {
      "application/vnd.jupyter.widget-view+json": {
       "model_id": "5473f9403de840eea4e16e966e69f723",
       "version_major": 2,
       "version_minor": 0
      },
      "text/plain": [
       "Making projected potentials:   0%|          | 0/5 [00:00<?, ?it/s]"
      ]
     },
     "metadata": {},
     "output_type": "display_data"
    },
    {
     "name": "stdout",
     "output_type": "stream",
     "text": [
      "2\n"
     ]
    },
    {
     "data": {
      "application/vnd.jupyter.widget-view+json": {
       "model_id": "bdb0d1a3d7af42ed8ab130d1a2d12ce0",
       "version_major": 2,
       "version_minor": 0
      },
      "text/plain": [
       "Frozen phonon iteration:   0%|          | 0/1 [00:00<?, ?it/s]"
      ]
     },
     "metadata": {},
     "output_type": "display_data"
    },
    {
     "name": "stdout",
     "output_type": "stream",
     "text": [
      "Lowena-modified code\n",
      "False\n"
     ]
    },
    {
     "data": {
      "application/vnd.jupyter.widget-view+json": {
       "model_id": "a23cca5845e5483186fe8a82e290e524",
       "version_major": 2,
       "version_minor": 0
      },
      "text/plain": [
       "Making projected potentials:   0%|          | 0/5 [00:00<?, ?it/s]"
      ]
     },
     "metadata": {},
     "output_type": "display_data"
    },
    {
     "name": "stdout",
     "output_type": "stream",
     "text": [
      "2\n"
     ]
    },
    {
     "data": {
      "application/vnd.jupyter.widget-view+json": {
       "model_id": "2b2cd340803740cbb7d3c1cdb3644dc7",
       "version_major": 2,
       "version_minor": 0
      },
      "text/plain": [
       "Frozen phonon iteration:   0%|          | 0/1 [00:00<?, ?it/s]"
      ]
     },
     "metadata": {},
     "output_type": "display_data"
    },
    {
     "name": "stdout",
     "output_type": "stream",
     "text": [
      "Lowena-modified code\n",
      "True\n"
     ]
    },
    {
     "data": {
      "application/vnd.jupyter.widget-view+json": {
       "model_id": "f4a3815be6924ad9aa6474c609d63039",
       "version_major": 2,
       "version_minor": 0
      },
      "text/plain": [
       "Making projected potentials:   0%|          | 0/5 [00:00<?, ?it/s]"
      ]
     },
     "metadata": {},
     "output_type": "display_data"
    },
    {
     "name": "stdout",
     "output_type": "stream",
     "text": [
      "2\n"
     ]
    },
    {
     "data": {
      "application/vnd.jupyter.widget-view+json": {
       "model_id": "69f2a100f98f43be82d1c88abe5dfe35",
       "version_major": 2,
       "version_minor": 0
      },
      "text/plain": [
       "Frozen phonon iteration:   0%|          | 0/1 [00:00<?, ?it/s]"
      ]
     },
     "metadata": {},
     "output_type": "display_data"
    },
    {
     "name": "stdout",
     "output_type": "stream",
     "text": [
      "Lowena-modified code\n",
      "False\n"
     ]
    },
    {
     "data": {
      "application/vnd.jupyter.widget-view+json": {
       "model_id": "a0b906d956bb42ee863ecbb4ec1e65fb",
       "version_major": 2,
       "version_minor": 0
      },
      "text/plain": [
       "Making projected potentials:   0%|          | 0/5 [00:00<?, ?it/s]"
      ]
     },
     "metadata": {},
     "output_type": "display_data"
    },
    {
     "name": "stdout",
     "output_type": "stream",
     "text": [
      "2\n"
     ]
    },
    {
     "data": {
      "application/vnd.jupyter.widget-view+json": {
       "model_id": "3096cb280a0e4a25b75e17b4d0977f29",
       "version_major": 2,
       "version_minor": 0
      },
      "text/plain": [
       "Frozen phonon iteration:   0%|          | 0/1 [00:00<?, ?it/s]"
      ]
     },
     "metadata": {},
     "output_type": "display_data"
    },
    {
     "name": "stdout",
     "output_type": "stream",
     "text": [
      "Lowena-modified code\n",
      "True\n"
     ]
    },
    {
     "data": {
      "application/vnd.jupyter.widget-view+json": {
       "model_id": "05cafc22d697452194b6d932cb1649ee",
       "version_major": 2,
       "version_minor": 0
      },
      "text/plain": [
       "Making projected potentials:   0%|          | 0/5 [00:00<?, ?it/s]"
      ]
     },
     "metadata": {},
     "output_type": "display_data"
    },
    {
     "name": "stdout",
     "output_type": "stream",
     "text": [
      "2\n"
     ]
    },
    {
     "data": {
      "application/vnd.jupyter.widget-view+json": {
       "model_id": "251a585366e546b88b83d2d405f59d5a",
       "version_major": 2,
       "version_minor": 0
      },
      "text/plain": [
       "Frozen phonon iteration:   0%|          | 0/1 [00:00<?, ?it/s]"
      ]
     },
     "metadata": {},
     "output_type": "display_data"
    },
    {
     "name": "stdout",
     "output_type": "stream",
     "text": [
      "Lowena-modified code\n",
      "False\n"
     ]
    },
    {
     "data": {
      "application/vnd.jupyter.widget-view+json": {
       "model_id": "9b41379c29f84276b4c3e982490c0c08",
       "version_major": 2,
       "version_minor": 0
      },
      "text/plain": [
       "Making projected potentials:   0%|          | 0/5 [00:00<?, ?it/s]"
      ]
     },
     "metadata": {},
     "output_type": "display_data"
    },
    {
     "name": "stdout",
     "output_type": "stream",
     "text": [
      "2\n"
     ]
    },
    {
     "data": {
      "application/vnd.jupyter.widget-view+json": {
       "model_id": "b139e84640154f848a7646ac24a4da98",
       "version_major": 2,
       "version_minor": 0
      },
      "text/plain": [
       "Frozen phonon iteration:   0%|          | 0/1 [00:00<?, ?it/s]"
      ]
     },
     "metadata": {},
     "output_type": "display_data"
    },
    {
     "data": {
      "image/png": "[encoded data removed]",
      "text/plain": [
       "<Figure size 432x288 with 1 Axes>"
      ]
     },
     "metadata": {
      "needs_background": "light"
     },
     "output_type": "display_data"
    },
    {
     "name": "stdout",
     "output_type": "stream",
     "text": [
      "Lowena-modified code\n",
      "True\n"
     ]
    },
    {
     "data": {
      "application/vnd.jupyter.widget-view+json": {
       "model_id": "dc1bb2a4a54746c0ac5b29959cf4e40a",
       "version_major": 2,
       "version_minor": 0
      },
      "text/plain": [
       "Making projected potentials:   0%|          | 0/5 [00:00<?, ?it/s]"
      ]
     },
     "metadata": {},
     "output_type": "display_data"
    },
    {
     "name": "stdout",
     "output_type": "stream",
     "text": [
      "2\n"
     ]
    },
    {
     "data": {
      "application/vnd.jupyter.widget-view+json": {
       "model_id": "77ee09ef54d14e3793821a5312add0fd",
       "version_major": 2,
       "version_minor": 0
      },
      "text/plain": [
       "Frozen phonon iteration:   0%|          | 0/1 [00:00<?, ?it/s]"
      ]
     },
     "metadata": {},
     "output_type": "display_data"
    },
    {
     "name": "stdout",
     "output_type": "stream",
     "text": [
      "Lowena-modified code\n",
      "False\n"
     ]
    },
    {
     "data": {
      "application/vnd.jupyter.widget-view+json": {
       "model_id": "b822db3337494498b67cf13e3bf62298",
       "version_major": 2,
       "version_minor": 0
      },
      "text/plain": [
       "Making projected potentials:   0%|          | 0/5 [00:00<?, ?it/s]"
      ]
     },
     "metadata": {},
     "output_type": "display_data"
    },
    {
     "name": "stdout",
     "output_type": "stream",
     "text": [
      "2\n"
     ]
    },
    {
     "data": {
      "application/vnd.jupyter.widget-view+json": {
       "model_id": "0e5ea411ca1244719f8079626b4bc4d9",
       "version_major": 2,
       "version_minor": 0
      },
      "text/plain": [
       "Frozen phonon iteration:   0%|          | 0/1 [00:00<?, ?it/s]"
      ]
     },
     "metadata": {},
     "output_type": "display_data"
    },
    {
     "name": "stdout",
     "output_type": "stream",
     "text": [
      "Lowena-modified code\n",
      "True\n"
     ]
    },
    {
     "data": {
      "application/vnd.jupyter.widget-view+json": {
       "model_id": "4d7ad0ba575a4b9aa42bf3de9408f9e5",
       "version_major": 2,
       "version_minor": 0
      },
      "text/plain": [
       "Making projected potentials:   0%|          | 0/5 [00:00<?, ?it/s]"
      ]
     },
     "metadata": {},
     "output_type": "display_data"
    },
    {
     "name": "stdout",
     "output_type": "stream",
     "text": [
      "2\n"
     ]
    },
    {
     "data": {
      "application/vnd.jupyter.widget-view+json": {
       "model_id": "447c0a98c09341cfbe8eeb55684b9301",
       "version_major": 2,
       "version_minor": 0
      },
      "text/plain": [
       "Frozen phonon iteration:   0%|          | 0/1 [00:00<?, ?it/s]"
      ]
     },
     "metadata": {},
     "output_type": "display_data"
    },
    {
     "name": "stdout",
     "output_type": "stream",
     "text": [
      "Lowena-modified code\n",
      "False\n"
     ]
    },
    {
     "data": {
      "application/vnd.jupyter.widget-view+json": {
       "model_id": "03258afe0dfb418b863726d48c7ab69d",
       "version_major": 2,
       "version_minor": 0
      },
      "text/plain": [
       "Making projected potentials:   0%|          | 0/5 [00:00<?, ?it/s]"
      ]
     },
     "metadata": {},
     "output_type": "display_data"
    },
    {
     "name": "stdout",
     "output_type": "stream",
     "text": [
      "2\n"
     ]
    },
    {
     "data": {
      "application/vnd.jupyter.widget-view+json": {
       "model_id": "8f7ea08721ea41e98b88e5b87e0c3d06",
       "version_major": 2,
       "version_minor": 0
      },
      "text/plain": [
       "Frozen phonon iteration:   0%|          | 0/1 [00:00<?, ?it/s]"
      ]
     },
     "metadata": {},
     "output_type": "display_data"
    },
    {
     "name": "stdout",
     "output_type": "stream",
     "text": [
      "Lowena-modified code\n",
      "True\n"
     ]
    },
    {
     "data": {
      "application/vnd.jupyter.widget-view+json": {
       "model_id": "247a5ddf6ff6465a8d7eee760a992288",
       "version_major": 2,
       "version_minor": 0
      },
      "text/plain": [
       "Making projected potentials:   0%|          | 0/5 [00:00<?, ?it/s]"
      ]
     },
     "metadata": {},
     "output_type": "display_data"
    },
    {
     "name": "stdout",
     "output_type": "stream",
     "text": [
      "2\n"
     ]
    },
    {
     "data": {
      "application/vnd.jupyter.widget-view+json": {
       "model_id": "59f83cebc3b54ca48e2e3904ac9fcb49",
       "version_major": 2,
       "version_minor": 0
      },
      "text/plain": [
       "Frozen phonon iteration:   0%|          | 0/1 [00:00<?, ?it/s]"
      ]
     },
     "metadata": {},
     "output_type": "display_data"
    },
    {
     "name": "stdout",
     "output_type": "stream",
     "text": [
      "Lowena-modified code\n",
      "False\n"
     ]
    },
    {
     "data": {
      "application/vnd.jupyter.widget-view+json": {
       "model_id": "d68d530b85dd4b97bc8dfa148fe5a9dc",
       "version_major": 2,
       "version_minor": 0
      },
      "text/plain": [
       "Making projected potentials:   0%|          | 0/5 [00:00<?, ?it/s]"
      ]
     },
     "metadata": {},
     "output_type": "display_data"
    },
    {
     "name": "stdout",
     "output_type": "stream",
     "text": [
      "2\n"
     ]
    },
    {
     "data": {
      "application/vnd.jupyter.widget-view+json": {
       "model_id": "3ccbeb52b6534348a949b3fe0f60ba87",
       "version_major": 2,
       "version_minor": 0
      },
      "text/plain": [
       "Frozen phonon iteration:   0%|          | 0/1 [00:00<?, ?it/s]"
      ]
     },
     "metadata": {},
     "output_type": "display_data"
    },
    {
     "name": "stdout",
     "output_type": "stream",
     "text": [
      "Lowena-modified code\n",
      "True\n"
     ]
    },
    {
     "data": {
      "application/vnd.jupyter.widget-view+json": {
       "model_id": "4c0a4ef566d04dada7ec9946f6d63744",
       "version_major": 2,
       "version_minor": 0
      },
      "text/plain": [
       "Making projected potentials:   0%|          | 0/5 [00:00<?, ?it/s]"
      ]
     },
     "metadata": {},
     "output_type": "display_data"
    },
    {
     "name": "stdout",
     "output_type": "stream",
     "text": [
      "2\n"
     ]
    },
    {
     "data": {
      "application/vnd.jupyter.widget-view+json": {
       "model_id": "bad14e4e0cd14d3b9adae0e8adc5aa5a",
       "version_major": 2,
       "version_minor": 0
      },
      "text/plain": [
       "Frozen phonon iteration:   0%|          | 0/1 [00:00<?, ?it/s]"
      ]
     },
     "metadata": {},
     "output_type": "display_data"
    },
    {
     "name": "stdout",
     "output_type": "stream",
     "text": [
      "Lowena-modified code\n",
      "False\n"
     ]
    },
    {
     "data": {
      "application/vnd.jupyter.widget-view+json": {
       "model_id": "f98618a3cbd44793a05074278473e2b3",
       "version_major": 2,
       "version_minor": 0
      },
      "text/plain": [
       "Making projected potentials:   0%|          | 0/5 [00:00<?, ?it/s]"
      ]
     },
     "metadata": {},
     "output_type": "display_data"
    },
    {
     "name": "stdout",
     "output_type": "stream",
     "text": [
      "2\n"
     ]
    },
    {
     "data": {
      "application/vnd.jupyter.widget-view+json": {
       "model_id": "32a0d62ce43a47bda29cf417a2e5f329",
       "version_major": 2,
       "version_minor": 0
      },
      "text/plain": [
       "Frozen phonon iteration:   0%|          | 0/1 [00:00<?, ?it/s]"
      ]
     },
     "metadata": {},
     "output_type": "display_data"
    },
    {
     "name": "stdout",
     "output_type": "stream",
     "text": [
      "Lowena-modified code\n",
      "True\n"
     ]
    },
    {
     "data": {
      "application/vnd.jupyter.widget-view+json": {
       "model_id": "d898478f02134b0b9633661c1c303c7f",
       "version_major": 2,
       "version_minor": 0
      },
      "text/plain": [
       "Making projected potentials:   0%|          | 0/5 [00:00<?, ?it/s]"
      ]
     },
     "metadata": {},
     "output_type": "display_data"
    },
    {
     "name": "stdout",
     "output_type": "stream",
     "text": [
      "2\n"
     ]
    },
    {
     "data": {
      "application/vnd.jupyter.widget-view+json": {
       "model_id": "151eebf933dc4b488781a95e73cfa19a",
       "version_major": 2,
       "version_minor": 0
      },
      "text/plain": [
       "Frozen phonon iteration:   0%|          | 0/1 [00:00<?, ?it/s]"
      ]
     },
     "metadata": {},
     "output_type": "display_data"
    },
    {
     "name": "stdout",
     "output_type": "stream",
     "text": [
      "Lowena-modified code\n",
      "False\n"
     ]
    },
    {
     "data": {
      "application/vnd.jupyter.widget-view+json": {
       "model_id": "576e93cdecc8472aaf9a6d83a65c820b",
       "version_major": 2,
       "version_minor": 0
      },
      "text/plain": [
       "Making projected potentials:   0%|          | 0/5 [00:00<?, ?it/s]"
      ]
     },
     "metadata": {},
     "output_type": "display_data"
    },
    {
     "name": "stdout",
     "output_type": "stream",
     "text": [
      "2\n"
     ]
    },
    {
     "data": {
      "application/vnd.jupyter.widget-view+json": {
       "model_id": "944de25d48ad49689f5c93a678bf6211",
       "version_major": 2,
       "version_minor": 0
      },
      "text/plain": [
       "Frozen phonon iteration:   0%|          | 0/1 [00:00<?, ?it/s]"
      ]
     },
     "metadata": {},
     "output_type": "display_data"
    },
    {
     "name": "stdout",
     "output_type": "stream",
     "text": [
      "Lowena-modified code\n",
      "True\n"
     ]
    },
    {
     "data": {
      "application/vnd.jupyter.widget-view+json": {
       "model_id": "c6afdbb0c8ce43ebbf312fe199822c69",
       "version_major": 2,
       "version_minor": 0
      },
      "text/plain": [
       "Making projected potentials:   0%|          | 0/5 [00:00<?, ?it/s]"
      ]
     },
     "metadata": {},
     "output_type": "display_data"
    },
    {
     "name": "stdout",
     "output_type": "stream",
     "text": [
      "2\n"
     ]
    },
    {
     "data": {
      "application/vnd.jupyter.widget-view+json": {
       "model_id": "391a6ff42db747baaa78e21873ae3186",
       "version_major": 2,
       "version_minor": 0
      },
      "text/plain": [
       "Frozen phonon iteration:   0%|          | 0/1 [00:00<?, ?it/s]"
      ]
     },
     "metadata": {},
     "output_type": "display_data"
    },
    {
     "name": "stdout",
     "output_type": "stream",
     "text": [
      "Lowena-modified code\n",
      "False\n"
     ]
    },
    {
     "data": {
      "application/vnd.jupyter.widget-view+json": {
       "model_id": "3b6df9fb77fb4f1ebcc961b157097499",
       "version_major": 2,
       "version_minor": 0
      },
      "text/plain": [
       "Making projected potentials:   0%|          | 0/5 [00:00<?, ?it/s]"
      ]
     },
     "metadata": {},
     "output_type": "display_data"
    },
    {
     "name": "stdout",
     "output_type": "stream",
     "text": [
      "2\n"
     ]
    },
    {
     "data": {
      "application/vnd.jupyter.widget-view+json": {
       "model_id": "ec60bdb0460f4fb4949a9d5c6e5a2e40",
       "version_major": 2,
       "version_minor": 0
      },
      "text/plain": [
       "Frozen phonon iteration:   0%|          | 0/1 [00:00<?, ?it/s]"
      ]
     },
     "metadata": {},
     "output_type": "display_data"
    },
    {
     "data": {
      "image/png": "[encoded data removed]",
      "text/plain": [
       "<Figure size 432x288 with 1 Axes>"
      ]
     },
     "metadata": {
      "needs_background": "light"
     },
     "output_type": "display_data"
    },
    {
     "name": "stdout",
     "output_type": "stream",
     "text": [
      "Lowena-modified code\n",
      "True\n"
     ]
    },
    {
     "data": {
      "application/vnd.jupyter.widget-view+json": {
       "model_id": "7ff83dfe07564a6b8f097096ddb88d8e",
       "version_major": 2,
       "version_minor": 0
      },
      "text/plain": [
       "Making projected potentials:   0%|          | 0/5 [00:00<?, ?it/s]"
      ]
     },
     "metadata": {},
     "output_type": "display_data"
    },
    {
     "name": "stdout",
     "output_type": "stream",
     "text": [
      "2\n"
     ]
    },
    {
     "data": {
      "application/vnd.jupyter.widget-view+json": {
       "model_id": "8535bb6c06474fa8905d741eb28d2429",
       "version_major": 2,
       "version_minor": 0
      },
      "text/plain": [
       "Frozen phonon iteration:   0%|          | 0/1 [00:00<?, ?it/s]"
      ]
     },
     "metadata": {},
     "output_type": "display_data"
    },
    {
     "name": "stdout",
     "output_type": "stream",
     "text": [
      "Lowena-modified code\n",
      "False\n"
     ]
    },
    {
     "data": {
      "application/vnd.jupyter.widget-view+json": {
       "model_id": "88618dbfdd344c19982cf343d9133869",
       "version_major": 2,
       "version_minor": 0
      },
      "text/plain": [
       "Making projected potentials:   0%|          | 0/5 [00:00<?, ?it/s]"
      ]
     },
     "metadata": {},
     "output_type": "display_data"
    },
    {
     "name": "stdout",
     "output_type": "stream",
     "text": [
      "2\n"
     ]
    },
    {
     "data": {
      "application/vnd.jupyter.widget-view+json": {
       "model_id": "585541a836a04b77a9912088c7f1dd50",
       "version_major": 2,
       "version_minor": 0
      },
      "text/plain": [
       "Frozen phonon iteration:   0%|          | 0/1 [00:00<?, ?it/s]"
      ]
     },
     "metadata": {},
     "output_type": "display_data"
    },
    {
     "name": "stdout",
     "output_type": "stream",
     "text": [
      "Lowena-modified code\n",
      "True\n"
     ]
    },
    {
     "data": {
      "application/vnd.jupyter.widget-view+json": {
       "model_id": "1931c15913044f1b98b63d6d56580e25",
       "version_major": 2,
       "version_minor": 0
      },
      "text/plain": [
       "Making projected potentials:   0%|          | 0/5 [00:00<?, ?it/s]"
      ]
     },
     "metadata": {},
     "output_type": "display_data"
    },
    {
     "name": "stdout",
     "output_type": "stream",
     "text": [
      "2\n"
     ]
    },
    {
     "data": {
      "application/vnd.jupyter.widget-view+json": {
       "model_id": "de26fcf2758b4f20aea5dc6a6ce46744",
       "version_major": 2,
       "version_minor": 0
      },
      "text/plain": [
       "Frozen phonon iteration:   0%|          | 0/1 [00:00<?, ?it/s]"
      ]
     },
     "metadata": {},
     "output_type": "display_data"
    },
    {
     "name": "stdout",
     "output_type": "stream",
     "text": [
      "Lowena-modified code\n",
      "False\n"
     ]
    },
    {
     "data": {
      "application/vnd.jupyter.widget-view+json": {
       "model_id": "f82f6edbc831417ab12579b383d8eb2b",
       "version_major": 2,
       "version_minor": 0
      },
      "text/plain": [
       "Making projected potentials:   0%|          | 0/5 [00:00<?, ?it/s]"
      ]
     },
     "metadata": {},
     "output_type": "display_data"
    },
    {
     "name": "stdout",
     "output_type": "stream",
     "text": [
      "2\n"
     ]
    },
    {
     "data": {
      "application/vnd.jupyter.widget-view+json": {
       "model_id": "c3e8cb592bf44cdca6f70fe2fe391efa",
       "version_major": 2,
       "version_minor": 0
      },
      "text/plain": [
       "Frozen phonon iteration:   0%|          | 0/1 [00:00<?, ?it/s]"
      ]
     },
     "metadata": {},
     "output_type": "display_data"
    },
    {
     "name": "stdout",
     "output_type": "stream",
     "text": [
      "Lowena-modified code\n",
      "True\n"
     ]
    },
    {
     "data": {
      "application/vnd.jupyter.widget-view+json": {
       "model_id": "60d2e85ef27a4bb69c84aa1390c67716",
       "version_major": 2,
       "version_minor": 0
      },
      "text/plain": [
       "Making projected potentials:   0%|          | 0/5 [00:00<?, ?it/s]"
      ]
     },
     "metadata": {},
     "output_type": "display_data"
    },
    {
     "name": "stdout",
     "output_type": "stream",
     "text": [
      "2\n"
     ]
    },
    {
     "data": {
      "application/vnd.jupyter.widget-view+json": {
       "model_id": "cc308cf91c314e15bcf7088bc3be79c3",
       "version_major": 2,
       "version_minor": 0
      },
      "text/plain": [
       "Frozen phonon iteration:   0%|          | 0/1 [00:00<?, ?it/s]"
      ]
     },
     "metadata": {},
     "output_type": "display_data"
    },
    {
     "name": "stdout",
     "output_type": "stream",
     "text": [
      "Lowena-modified code\n",
      "False\n"
     ]
    },
    {
     "data": {
      "application/vnd.jupyter.widget-view+json": {
       "model_id": "0037669b17dd413aaa092ba08a8a66fd",
       "version_major": 2,
       "version_minor": 0
      },
      "text/plain": [
       "Making projected potentials:   0%|          | 0/5 [00:00<?, ?it/s]"
      ]
     },
     "metadata": {},
     "output_type": "display_data"
    },
    {
     "name": "stdout",
     "output_type": "stream",
     "text": [
      "2\n"
     ]
    },
    {
     "data": {
      "application/vnd.jupyter.widget-view+json": {
       "model_id": "938a98feffa044b188aeefa01fac157f",
       "version_major": 2,
       "version_minor": 0
      },
      "text/plain": [
       "Frozen phonon iteration:   0%|          | 0/1 [00:00<?, ?it/s]"
      ]
     },
     "metadata": {},
     "output_type": "display_data"
    },
    {
     "name": "stdout",
     "output_type": "stream",
     "text": [
      "Lowena-modified code\n",
      "True\n"
     ]
    },
    {
     "data": {
      "application/vnd.jupyter.widget-view+json": {
       "model_id": "7dfdd9a2999e4ecc9fd8e5a62395544e",
       "version_major": 2,
       "version_minor": 0
      },
      "text/plain": [
       "Making projected potentials:   0%|          | 0/5 [00:00<?, ?it/s]"
      ]
     },
     "metadata": {},
     "output_type": "display_data"
    },
    {
     "name": "stdout",
     "output_type": "stream",
     "text": [
      "2\n"
     ]
    },
    {
     "data": {
      "application/vnd.jupyter.widget-view+json": {
       "model_id": "67ad6ec61e854e5caaa6aa4e4722e133",
       "version_major": 2,
       "version_minor": 0
      },
      "text/plain": [
       "Frozen phonon iteration:   0%|          | 0/1 [00:00<?, ?it/s]"
      ]
     },
     "metadata": {},
     "output_type": "display_data"
    },
    {
     "name": "stdout",
     "output_type": "stream",
     "text": [
      "Lowena-modified code\n",
      "False\n"
     ]
    },
    {
     "data": {
      "application/vnd.jupyter.widget-view+json": {
       "model_id": "e6abd2ee4d694989b107d312922aebed",
       "version_major": 2,
       "version_minor": 0
      },
      "text/plain": [
       "Making projected potentials:   0%|          | 0/5 [00:00<?, ?it/s]"
      ]
     },
     "metadata": {},
     "output_type": "display_data"
    },
    {
     "name": "stdout",
     "output_type": "stream",
     "text": [
      "2\n"
     ]
    },
    {
     "data": {
      "application/vnd.jupyter.widget-view+json": {
       "model_id": "66f8714c3d0845a6acb3810b20538945",
       "version_major": 2,
       "version_minor": 0
      },
      "text/plain": [
       "Frozen phonon iteration:   0%|          | 0/1 [00:00<?, ?it/s]"
      ]
     },
     "metadata": {},
     "output_type": "display_data"
    },
    {
     "name": "stdout",
     "output_type": "stream",
     "text": [
      "Lowena-modified code\n",
      "True\n"
     ]
    },
    {
     "data": {
      "application/vnd.jupyter.widget-view+json": {
       "model_id": "39da3d04a65e491c890df6cff9690672",
       "version_major": 2,
       "version_minor": 0
      },
      "text/plain": [
       "Making projected potentials:   0%|          | 0/5 [00:00<?, ?it/s]"
      ]
     },
     "metadata": {},
     "output_type": "display_data"
    },
    {
     "name": "stdout",
     "output_type": "stream",
     "text": [
      "2\n"
     ]
    },
    {
     "data": {
      "application/vnd.jupyter.widget-view+json": {
       "model_id": "b0ae1f96ba7048f29a4666c76fdf517f",
       "version_major": 2,
       "version_minor": 0
      },
      "text/plain": [
       "Frozen phonon iteration:   0%|          | 0/1 [00:00<?, ?it/s]"
      ]
     },
     "metadata": {},
     "output_type": "display_data"
    },
    {
     "name": "stdout",
     "output_type": "stream",
     "text": [
      "Lowena-modified code\n",
      "False\n"
     ]
    },
    {
     "data": {
      "application/vnd.jupyter.widget-view+json": {
       "model_id": "0b10e5ab6193401583577b0cbf5e9173",
       "version_major": 2,
       "version_minor": 0
      },
      "text/plain": [
       "Making projected potentials:   0%|          | 0/5 [00:00<?, ?it/s]"
      ]
     },
     "metadata": {},
     "output_type": "display_data"
    },
    {
     "name": "stdout",
     "output_type": "stream",
     "text": [
      "2\n"
     ]
    },
    {
     "data": {
      "application/vnd.jupyter.widget-view+json": {
       "model_id": "d28766d37f6948f09d65f34cb3331ad0",
       "version_major": 2,
       "version_minor": 0
      },
      "text/plain": [
       "Frozen phonon iteration:   0%|          | 0/1 [00:00<?, ?it/s]"
      ]
     },
     "metadata": {},
     "output_type": "display_data"
    },
    {
     "name": "stdout",
     "output_type": "stream",
     "text": [
      "Lowena-modified code\n",
      "True\n"
     ]
    },
    {
     "data": {
      "application/vnd.jupyter.widget-view+json": {
       "model_id": "c5ba38c457ac43609b9ac768f97c8dc3",
       "version_major": 2,
       "version_minor": 0
      },
      "text/plain": [
       "Making projected potentials:   0%|          | 0/5 [00:00<?, ?it/s]"
      ]
     },
     "metadata": {},
     "output_type": "display_data"
    },
    {
     "name": "stdout",
     "output_type": "stream",
     "text": [
      "2\n"
     ]
    },
    {
     "data": {
      "application/vnd.jupyter.widget-view+json": {
       "model_id": "065d7c071d5a4244af064c29cdd9ea2d",
       "version_major": 2,
       "version_minor": 0
      },
      "text/plain": [
       "Frozen phonon iteration:   0%|          | 0/1 [00:00<?, ?it/s]"
      ]
     },
     "metadata": {},
     "output_type": "display_data"
    },
    {
     "name": "stdout",
     "output_type": "stream",
     "text": [
      "Lowena-modified code\n",
      "False\n"
     ]
    },
    {
     "data": {
      "application/vnd.jupyter.widget-view+json": {
       "model_id": "a5431ccf35904f828eeac962da3e8b3c",
       "version_major": 2,
       "version_minor": 0
      },
      "text/plain": [
       "Making projected potentials:   0%|          | 0/5 [00:00<?, ?it/s]"
      ]
     },
     "metadata": {},
     "output_type": "display_data"
    },
    {
     "name": "stdout",
     "output_type": "stream",
     "text": [
      "2\n"
     ]
    },
    {
     "data": {
      "application/vnd.jupyter.widget-view+json": {
       "model_id": "34202b3710234fa5844f8ee424aef357",
       "version_major": 2,
       "version_minor": 0
      },
      "text/plain": [
       "Frozen phonon iteration:   0%|          | 0/1 [00:00<?, ?it/s]"
      ]
     },
     "metadata": {},
     "output_type": "display_data"
    },
    {
     "data": {
      "image/png": "[encoded data removed]",
      "text/plain": [
       "<Figure size 432x288 with 1 Axes>"
      ]
     },
     "metadata": {
      "needs_background": "light"
     },
     "output_type": "display_data"
    },
    {
     "name": "stdout",
     "output_type": "stream",
     "text": [
      "Lowena-modified code\n",
      "True\n"
     ]
    },
    {
     "data": {
      "application/vnd.jupyter.widget-view+json": {
       "model_id": "02c5ce70bb5e425e92323850b56127b4",
       "version_major": 2,
       "version_minor": 0
      },
      "text/plain": [
       "Making projected potentials:   0%|          | 0/5 [00:00<?, ?it/s]"
      ]
     },
     "metadata": {},
     "output_type": "display_data"
    },
    {
     "name": "stdout",
     "output_type": "stream",
     "text": [
      "2\n"
     ]
    },
    {
     "data": {
      "application/vnd.jupyter.widget-view+json": {
       "model_id": "8be46a2c906f4c62b4bd86c83a55b185",
       "version_major": 2,
       "version_minor": 0
      },
      "text/plain": [
       "Frozen phonon iteration:   0%|          | 0/1 [00:00<?, ?it/s]"
      ]
     },
     "metadata": {},
     "output_type": "display_data"
    },
    {
     "name": "stdout",
     "output_type": "stream",
     "text": [
      "Lowena-modified code\n",
      "False\n"
     ]
    },
    {
     "data": {
      "application/vnd.jupyter.widget-view+json": {
       "model_id": "186a09f0cd1c4b9aaf4ff686e3b5a764",
       "version_major": 2,
       "version_minor": 0
      },
      "text/plain": [
       "Making projected potentials:   0%|          | 0/5 [00:00<?, ?it/s]"
      ]
     },
     "metadata": {},
     "output_type": "display_data"
    },
    {
     "name": "stdout",
     "output_type": "stream",
     "text": [
      "2\n"
     ]
    },
    {
     "data": {
      "application/vnd.jupyter.widget-view+json": {
       "model_id": "49ee487abe9c4acda70b84e0621efa26",
       "version_major": 2,
       "version_minor": 0
      },
      "text/plain": [
       "Frozen phonon iteration:   0%|          | 0/1 [00:00<?, ?it/s]"
      ]
     },
     "metadata": {},
     "output_type": "display_data"
    },
    {
     "name": "stdout",
     "output_type": "stream",
     "text": [
      "Lowena-modified code\n",
      "True\n"
     ]
    },
    {
     "data": {
      "application/vnd.jupyter.widget-view+json": {
       "model_id": "fb705161f1744569ae6786370de75273",
       "version_major": 2,
       "version_minor": 0
      },
      "text/plain": [
       "Making projected potentials:   0%|          | 0/5 [00:00<?, ?it/s]"
      ]
     },
     "metadata": {},
     "output_type": "display_data"
    },
    {
     "name": "stdout",
     "output_type": "stream",
     "text": [
      "2\n"
     ]
    },
    {
     "data": {
      "application/vnd.jupyter.widget-view+json": {
       "model_id": "dabf27af4707488cbad96b4997032926",
       "version_major": 2,
       "version_minor": 0
      },
      "text/plain": [
       "Frozen phonon iteration:   0%|          | 0/1 [00:00<?, ?it/s]"
      ]
     },
     "metadata": {},
     "output_type": "display_data"
    },
    {
     "name": "stdout",
     "output_type": "stream",
     "text": [
      "Lowena-modified code\n",
      "False\n"
     ]
    },
    {
     "data": {
      "application/vnd.jupyter.widget-view+json": {
       "model_id": "bb9c0210db744dee90a8f5fceee2a7fe",
       "version_major": 2,
       "version_minor": 0
      },
      "text/plain": [
       "Making projected potentials:   0%|          | 0/5 [00:00<?, ?it/s]"
      ]
     },
     "metadata": {},
     "output_type": "display_data"
    },
    {
     "name": "stdout",
     "output_type": "stream",
     "text": [
      "2\n"
     ]
    },
    {
     "data": {
      "application/vnd.jupyter.widget-view+json": {
       "model_id": "cc3ec0ead65b4d94b9878bfaad1edee8",
       "version_major": 2,
       "version_minor": 0
      },
      "text/plain": [
       "Frozen phonon iteration:   0%|          | 0/1 [00:00<?, ?it/s]"
      ]
     },
     "metadata": {},
     "output_type": "display_data"
    },
    {
     "name": "stdout",
     "output_type": "stream",
     "text": [
      "Lowena-modified code\n",
      "True\n"
     ]
    },
    {
     "data": {
      "application/vnd.jupyter.widget-view+json": {
       "model_id": "059323fd75f44a0dbe5bbaec356ac3a0",
       "version_major": 2,
       "version_minor": 0
      },
      "text/plain": [
       "Making projected potentials:   0%|          | 0/5 [00:00<?, ?it/s]"
      ]
     },
     "metadata": {},
     "output_type": "display_data"
    },
    {
     "name": "stdout",
     "output_type": "stream",
     "text": [
      "2\n"
     ]
    },
    {
     "data": {
      "application/vnd.jupyter.widget-view+json": {
       "model_id": "c3620d58de98413d9c9c427dd282a577",
       "version_major": 2,
       "version_minor": 0
      },
      "text/plain": [
       "Frozen phonon iteration:   0%|          | 0/1 [00:00<?, ?it/s]"
      ]
     },
     "metadata": {},
     "output_type": "display_data"
    },
    {
     "name": "stdout",
     "output_type": "stream",
     "text": [
      "Lowena-modified code\n",
      "False\n"
     ]
    },
    {
     "data": {
      "application/vnd.jupyter.widget-view+json": {
       "model_id": "2034c0da47474df99d66c85fa977b056",
       "version_major": 2,
       "version_minor": 0
      },
      "text/plain": [
       "Making projected potentials:   0%|          | 0/5 [00:00<?, ?it/s]"
      ]
     },
     "metadata": {},
     "output_type": "display_data"
    },
    {
     "name": "stdout",
     "output_type": "stream",
     "text": [
      "2\n"
     ]
    },
    {
     "data": {
      "application/vnd.jupyter.widget-view+json": {
       "model_id": "80793f18447b4a458ffa99f27c97736c",
       "version_major": 2,
       "version_minor": 0
      },
      "text/plain": [
       "Frozen phonon iteration:   0%|          | 0/1 [00:00<?, ?it/s]"
      ]
     },
     "metadata": {},
     "output_type": "display_data"
    },
    {
     "name": "stdout",
     "output_type": "stream",
     "text": [
      "Lowena-modified code\n",
      "True\n"
     ]
    },
    {
     "data": {
      "application/vnd.jupyter.widget-view+json": {
       "model_id": "a7885b97cc344271b08790691909612b",
       "version_major": 2,
       "version_minor": 0
      },
      "text/plain": [
       "Making projected potentials:   0%|          | 0/5 [00:00<?, ?it/s]"
      ]
     },
     "metadata": {},
     "output_type": "display_data"
    },
    {
     "name": "stdout",
     "output_type": "stream",
     "text": [
      "2\n"
     ]
    },
    {
     "data": {
      "application/vnd.jupyter.widget-view+json": {
       "model_id": "15a1317f387d45548b4e618585beb918",
       "version_major": 2,
       "version_minor": 0
      },
      "text/plain": [
       "Frozen phonon iteration:   0%|          | 0/1 [00:00<?, ?it/s]"
      ]
     },
     "metadata": {},
     "output_type": "display_data"
    },
    {
     "name": "stdout",
     "output_type": "stream",
     "text": [
      "Lowena-modified code\n",
      "False\n"
     ]
    },
    {
     "data": {
      "application/vnd.jupyter.widget-view+json": {
       "model_id": "c62ffa1901f641aeaefc59af60381c0c",
       "version_major": 2,
       "version_minor": 0
      },
      "text/plain": [
       "Making projected potentials:   0%|          | 0/5 [00:00<?, ?it/s]"
      ]
     },
     "metadata": {},
     "output_type": "display_data"
    },
    {
     "name": "stdout",
     "output_type": "stream",
     "text": [
      "2\n"
     ]
    },
    {
     "data": {
      "application/vnd.jupyter.widget-view+json": {
       "model_id": "12724eddf3b5413f9d85faabf0c9c065",
       "version_major": 2,
       "version_minor": 0
      },
      "text/plain": [
       "Frozen phonon iteration:   0%|          | 0/1 [00:00<?, ?it/s]"
      ]
     },
     "metadata": {},
     "output_type": "display_data"
    },
    {
     "name": "stdout",
     "output_type": "stream",
     "text": [
      "Lowena-modified code\n",
      "True\n"
     ]
    },
    {
     "data": {
      "application/vnd.jupyter.widget-view+json": {
       "model_id": "27e83835e0994a768657a32caedd4f9e",
       "version_major": 2,
       "version_minor": 0
      },
      "text/plain": [
       "Making projected potentials:   0%|          | 0/5 [00:00<?, ?it/s]"
      ]
     },
     "metadata": {},
     "output_type": "display_data"
    },
    {
     "name": "stdout",
     "output_type": "stream",
     "text": [
      "2\n"
     ]
    },
    {
     "data": {
      "application/vnd.jupyter.widget-view+json": {
       "model_id": "83dd732bac454feb9bc92ad344e2d44d",
       "version_major": 2,
       "version_minor": 0
      },
      "text/plain": [
       "Frozen phonon iteration:   0%|          | 0/1 [00:00<?, ?it/s]"
      ]
     },
     "metadata": {},
     "output_type": "display_data"
    },
    {
     "name": "stdout",
     "output_type": "stream",
     "text": [
      "Lowena-modified code\n",
      "False\n"
     ]
    },
    {
     "data": {
      "application/vnd.jupyter.widget-view+json": {
       "model_id": "9265b77c15fc477a98cd7fc3678a8f49",
       "version_major": 2,
       "version_minor": 0
      },
      "text/plain": [
       "Making projected potentials:   0%|          | 0/5 [00:00<?, ?it/s]"
      ]
     },
     "metadata": {},
     "output_type": "display_data"
    },
    {
     "name": "stdout",
     "output_type": "stream",
     "text": [
      "2\n"
     ]
    },
    {
     "data": {
      "application/vnd.jupyter.widget-view+json": {
       "model_id": "a02e2b7b7e3d42518e39671e1dc0a36d",
       "version_major": 2,
       "version_minor": 0
      },
      "text/plain": [
       "Frozen phonon iteration:   0%|          | 0/1 [00:00<?, ?it/s]"
      ]
     },
     "metadata": {},
     "output_type": "display_data"
    },
    {
     "name": "stdout",
     "output_type": "stream",
     "text": [
      "Lowena-modified code\n",
      "True\n"
     ]
    },
    {
     "data": {
      "application/vnd.jupyter.widget-view+json": {
       "model_id": "461953bcad674b249e9a78383fd86ec6",
       "version_major": 2,
       "version_minor": 0
      },
      "text/plain": [
       "Making projected potentials:   0%|          | 0/5 [00:00<?, ?it/s]"
      ]
     },
     "metadata": {},
     "output_type": "display_data"
    },
    {
     "name": "stdout",
     "output_type": "stream",
     "text": [
      "2\n"
     ]
    },
    {
     "data": {
      "application/vnd.jupyter.widget-view+json": {
       "model_id": "c3f05da7c9504e1d8253b4dc673ac39f",
       "version_major": 2,
       "version_minor": 0
      },
      "text/plain": [
       "Frozen phonon iteration:   0%|          | 0/1 [00:00<?, ?it/s]"
      ]
     },
     "metadata": {},
     "output_type": "display_data"
    },
    {
     "name": "stdout",
     "output_type": "stream",
     "text": [
      "Lowena-modified code\n",
      "False\n"
     ]
    },
    {
     "data": {
      "application/vnd.jupyter.widget-view+json": {
       "model_id": "a38f1667c63845ef977e91db7cde9fbb",
       "version_major": 2,
       "version_minor": 0
      },
      "text/plain": [
       "Making projected potentials:   0%|          | 0/5 [00:00<?, ?it/s]"
      ]
     },
     "metadata": {},
     "output_type": "display_data"
    },
    {
     "name": "stdout",
     "output_type": "stream",
     "text": [
      "2\n"
     ]
    },
    {
     "data": {
      "application/vnd.jupyter.widget-view+json": {
       "model_id": "fc4c843b30994db190d9e9dd1b1a45e5",
       "version_major": 2,
       "version_minor": 0
      },
      "text/plain": [
       "Frozen phonon iteration:   0%|          | 0/1 [00:00<?, ?it/s]"
      ]
     },
     "metadata": {},
     "output_type": "display_data"
    },
    {
     "data": {
      "image/png": "[encoded data removed]",
      "text/plain": [
       "<Figure size 432x288 with 1 Axes>"
      ]
     },
     "metadata": {
      "needs_background": "light"
     },
     "output_type": "display_data"
    },
    {
     "name": "stdout",
     "output_type": "stream",
     "text": [
      "Total runtime:  4532.113437652588\n"
     ]
    }
   ],
   "source": [
    "n_iterations = [10, 100, 1000, 2000, 5000, 10000]\n",
    "\n",
    "# Constants\n",
    "learning_rate = 1e-1\n",
    "loss_multiplier = 1e9\n",
    "\n",
    "experimental_defocus = [-1000.0, -532.0, -300.0, 0.0]\n",
    "experimental_apertures = [4.25, 9.3, 6.3, 7.9] # corrected the aperture for the Scherzer defocus to be 9.3 instead of 5.5\n",
    "\n",
    "# -532, app = 9.3\n",
    "# -1000 app = 4.25\n",
    "# -300 app = 6.3\n",
    "# 0 app = 7.9\n",
    "\n",
    "st = time.time()\n",
    "\n",
    "for x in range(0, len(experimental_defocus)):\n",
    "    exp_defocus = experimental_defocus[x]\n",
    "    exp_aperture = experimental_apertures[x]\n",
    "    runtimes = []\n",
    "    losses = []\n",
    "    defocus_values = []\n",
    "    for j in n_iterations:\n",
    "        runtime, loss, defocus_final = main(j, learning_rate, loss_multiplier, exp_defocus, exp_aperture)\n",
    "        runtimes.append(runtime)\n",
    "        losses.append(loss)\n",
    "        defocus_values.append(defocus_final)\n",
    "        \n",
    "    save_data(n_iterations, runtimes, losses, defocus_values, exp_defocus, exp_aperture)\n",
    "    save_plots(n_iterations, losses, defocus_values, exp_defocus, exp_aperture)\n",
    "\n",
    "et = time.time()\n",
    "\n",
    "time_to_run = et - st\n",
    "\n",
    "print(\"Total runtime: \", str(time_to_run))"
   ]
  },
  {
   "cell_type": "markdown",
   "metadata": {},
   "source": [
    "Okay comments: <br>\n",
    "\n",
    "We started our optimization at the GT in each case: this case probably not the best plan, instead we should probably start a set distance away (say 100) <br>\n",
    "\n",
    "From results what I noticed is that even though we started at GT, often we deviated significantly from it. <br>\n",
    "\n",
    "I wonder why. <br>\n"
   ]
  },
  {
   "cell_type": "markdown",
   "metadata": {},
   "source": [
    "I do NOT GET how to calculate the aperture."
   ]
  },
  {
   "cell_type": "code",
   "execution_count": 9,
   "metadata": {},
   "outputs": [
    {
     "name": "stdout",
     "output_type": "stream",
     "text": [
      "-532.4470209426454\n",
      "24.147298520977962\n",
      "-0.04535155155573512\n"
     ]
    }
   ],
   "source": [
    "# To calculate the Scherzer_defocus\n",
    "\n",
    "from pyms.Probe import (\n",
    "    make_contrast_transfer_function,\n",
    "    Scherzer_defocus\n",
    ")\n",
    "\n",
    "Cs = 1e7 # 1 mm\n",
    "eV = 3e5\n",
    "\n",
    "sdf = Scherzer_defocus(eV, Cs)\n",
    "print(sdf)\n",
    "\n",
    "energy = 3e5 * 1.6e-19\n",
    "c = 3e8\n",
    "h = 6.626e-34\n",
    "k = energy / (c*h)\n",
    "\n",
    "#print(k) # this is in m^-1\n",
    "\n",
    "k_A = k / 1e10\n",
    "print(k_A) # 24 A^-1\n",
    "\n",
    "# scherzer defocus to interplanar spacing?\n",
    "\n",
    "\n",
    "theta = k_A / sdf\n",
    "print(theta)\n"
   ]
  },
  {
   "cell_type": "markdown",
   "metadata": {},
   "source": [
    "300 keV == 300 * 1000 * 1.6 x 10^-19 = 4.8 x 10^-14 J\n",
    "E = hc/lambda\n",
    "Wavevector, k = 1/lambda = E/hc = 2.41 x 10^11 m??\n",
    "\n",
    "g = k * theta\n",
    "\n",
    "g is the planar spacing, k is the wavevector\n",
    "\n",
    "How do we know the planar spacing? of the crystal? waaa"
   ]
  }
 ],
 "metadata": {
  "kernelspec": {
   "display_name": "Python 3",
   "language": "python",
   "name": "python3"
  },
  "language_info": {
   "codemirror_mode": {
    "name": "ipython",
    "version": 3
   },
   "file_extension": ".py",
   "mimetype": "text/x-python",
   "name": "python",
   "nbconvert_exporter": "python",
   "pygments_lexer": "ipython3",
   "version": "3.6.13"
  }
 },
 "nbformat": 4,
 "nbformat_minor": 2
}
