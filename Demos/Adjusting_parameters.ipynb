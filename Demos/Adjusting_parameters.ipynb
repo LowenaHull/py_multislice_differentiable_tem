{
 "cells": [
  {
   "cell_type": "code",
   "execution_count": 5,
   "metadata": {},
   "outputs": [],
   "source": [
    "import pyms\n",
    "import numpy as np\n",
    "import torch\n",
    "import time\n",
    "from pyms.Probe import aberration\n",
    "from copy import deepcopy\n",
    "import matplotlib.pyplot as plt\n",
    "\n",
    "from pyms.utils.torch_utils import (\n",
    "    amplitude,\n",
    "    crop_to_bandwidth_limit_torch,\n",
    "    size_of_bandwidth_limited_array,\n",
    "    amplitude,\n",
    ")\n",
    "\n",
    "from pyms.Probe import (\n",
    "    make_contrast_transfer_function,\n",
    ")\n",
    "\n",
    "%matplotlib inline\n",
    "\n",
    "crystal = pyms.structure.fromfile(\n",
    "    \"Structures/SrTiO3_CeO2_interface.xyz\", atomic_coordinates=\"cartesian\"\n",
    ")\n",
    "\n",
    "# A few maniupulations to remove vaccuum at edges and create a psuedo-periodic structure\n",
    "crystal = crystal.resize([0.1, 0.76], axis=0)\n",
    "\n",
    "other = deepcopy(crystal).resize([0.017, 0.99], axis=0)\n",
    "other.reflect([0])\n",
    "crystal = crystal.concatenate(other, axis=0)\n",
    "\n",
    "# Subslicing of crystal for multislice\n",
    "subslices = [0.33, 0.66, 1.0]\n",
    "\n",
    "# Grid size in pixels\n",
    "gridshape = [1024, 1024]\n",
    "\n",
    "# Tile structure in multislice for a square grid\n",
    "tiling = [1, 7]\n",
    "\n",
    "# Probe accelerating voltage in eV\n",
    "eV = 3e5\n",
    "\n",
    "# Objective aperture in mrad\n",
    "app = 15\n",
    "\n",
    "# No aperture is also an option\n",
    "# app = None\n",
    "\n",
    "# Set up series of thicknesses\n",
    "thicknesses = np.array([100])\n"
   ]
  },
  {
   "cell_type": "code",
   "execution_count": 6,
   "metadata": {},
   "outputs": [],
   "source": [
    "# Establish aberrations\n",
    "\n",
    "def establish_aberrations():\n",
    "    \"\"\"Create a list of aberrations. Initialise with starting values.\"\"\"\n",
    "\n",
    "    aberrations = []\n",
    "\n",
    "    # Initial guesses for aberrations\n",
    "    df = 100.0\n",
    "    A1 = 10.0\n",
    "    A2 = 10.0\n",
    "    B2 = 10.0\n",
    "    Cs= 10.0\n",
    "    A3 = 10.0\n",
    "    S3 = 10.0\n",
    "    A4 = 10.0\n",
    "    D4 = 10.0\n",
    "    B4 = 10.0\n",
    "    C5 = 10.0\n",
    "    A5 = 10.0\n",
    "    S5 = 10.0\n",
    "    R5 = 10.0\n",
    "\n",
    "    # Krivanek aberration coefficient, Haider aberration coefficient, colloquial name, amplitude, angle, n, m\n",
    "    # n and m are constants (shouldn't be differentiable), amplitude and angle should be\n",
    "\n",
    "    aberrations.append(aberration(\"C10\", \"C1\", \"Defocus          \", torch.tensor([df], requires_grad = True), 0.0, 1, 0.0))\n",
    "    aberrations.append(aberration(\"C12\", \"A1\", \"2-Fold astig.    \", torch.tensor([A1], requires_grad = True), 0.0, 1, 0.0)) # changed angle to a value (5) but made no difference so changed i back to 0\n",
    "    aberrations.append(aberration(\"C23\", \"A2\", \"3-Fold astig.    \", torch.tensor([A2], requires_grad = True), 0.0, 2, 3.0))\n",
    "    aberrations.append(aberration(\"C21\", \"B2\", \"Axial coma       \", torch.tensor([B2], requires_grad = True), 0.0, 2, 1.0))\n",
    "    aberrations.append(aberration(\"C30\", \"C3\", \"3rd order spher. \", torch.tensor([Cs], requires_grad = True), 0.0, 3, 0.0))\n",
    "    aberrations.append(aberration(\"C34\", \"A3\", \"4-Fold astig.    \", torch.tensor([A3], requires_grad = True), 0.0, 3, 4.0))\n",
    "    aberrations.append(aberration(\"C32\", \"S3\", \"Axial star aber. \", torch.tensor([S3], requires_grad = True), 0.0, 3, 2.0))\n",
    "    aberrations.append(aberration(\"C45\", \"A4\", \"5-Fold astig.    \", torch.tensor([A4], requires_grad = True), 0.0, 4, 5.0))\n",
    "    aberrations.append(aberration(\"C43\", \"D4\", \"3-Lobe aberr.    \", torch.tensor([D4], requires_grad = True), 0.0, 4, 3.0))\n",
    "    aberrations.append(aberration(\"C41\", \"B4\", \"4th order coma   \", torch.tensor([B4], requires_grad = True), 0.0, 4, 1.0))\n",
    "    aberrations.append(aberration(\"C50\", \"C5\", \"5th order spher. \", torch.tensor([C5], requires_grad = True), 0.0, 5, 0.0))\n",
    "    aberrations.append(aberration(\"C56\", \"A5\", \"6-Fold astig.    \", torch.tensor([A5], requires_grad = True), 0.0, 5, 6.0))\n",
    "    aberrations.append(aberration(\"C52\", \"S5\", \"5th order star   \", torch.tensor([S5], requires_grad = True), 0.0, 5, 2.0))\n",
    "    aberrations.append(aberration(\"C54\", \"R5\", \"5th order rosette\", torch.tensor([R5], requires_grad = True), 0.0, 5, 4.0))\n",
    "\n",
    "    defocus = aberrations[0].amplitude\n",
    "    \n",
    "    return aberrations\n"
   ]
  },
  {
   "cell_type": "code",
   "execution_count": 7,
   "metadata": {},
   "outputs": [],
   "source": [
    "# Set up our initial guess for the crystal HRTEM\n",
    "# It uses the aberrations (including defocus) as set above\n",
    "\n",
    "def create_initial_guess(aberrations):\n",
    "\n",
    "    output = pyms.HRTEM(\n",
    "        crystal,\n",
    "        gridshape,\n",
    "        eV,\n",
    "        app,\n",
    "        thicknesses,\n",
    "        subslices=subslices,\n",
    "        aberrations=aberrations,\n",
    "        df= aberrations[0].amplitude,\n",
    "        tiling=tiling,\n",
    "        nfph=1,\n",
    "        showProgress='notebook', \n",
    "        apply_ctf = False,\n",
    "    )\n",
    "    #plt.imshow(torch.abs(output).detach().cpu().numpy(), vmax = 10)\n",
    "    \n",
    "    return output"
   ]
  },
  {
   "cell_type": "markdown",
   "metadata": {},
   "source": [
    "Let's do several experiments:\n",
    "1. How does the loss and time to train vary with number of iterations? At what point does it stagnate?\n",
    "2. How does the initial starting value of the aberrations affect the optimisation of the defocus value?\n",
    "3. How does the performance vary with optimiser? (currently Adam)"
   ]
  },
  {
   "cell_type": "markdown",
   "metadata": {},
   "source": [
    "## Task 1: effect of number of iterations on loss and time"
   ]
  },
  {
   "cell_type": "code",
   "execution_count": 14,
   "metadata": {},
   "outputs": [],
   "source": [
    "def optimise(aberrations, output, ref_data, n_iters):\n",
    "    \"\"\"Go through and refine the aberrations to minimise difference between initial guess (output) and experimental image\"\"\"\n",
    "\n",
    "    bw_limit_size = size_of_bandwidth_limited_array(gridshape)\n",
    "    rsize = np.asarray(crystal.unitcell[:2]) * np.asarray(tiling)\n",
    "\n",
    "    curves = []\n",
    "    params = []\n",
    "\n",
    "    # Generic form allows more flexibility if we decided to not include some aberrations in the future.\n",
    "    for i in range(0, len(aberrations)):\n",
    "        params.append(aberrations[i].amplitude)\n",
    "        curves.append([]) # create a curve for each differentiable quantity\n",
    "\n",
    "    optimizer = torch.optim.Adam(params, lr = 1e-1)\n",
    "    criterion = torch.nn.MSELoss()\n",
    "    \n",
    "    #n_iters = 2000\n",
    "\n",
    "    loss_curve = []\n",
    "\n",
    "\n",
    "    start = time.time()\n",
    "\n",
    "    for iter in range(n_iters):\n",
    "        ctf = (\n",
    "                torch.stack(\n",
    "                    [\n",
    "                        make_contrast_transfer_function(\n",
    "                            bw_limit_size, rsize, eV, app, df=aberrations[0].amplitude, aberrations=aberrations\n",
    "                        )\n",
    "                    ]\n",
    "                )\n",
    "            .type(torch.complex128)\n",
    "            .to('cpu') # changed cuda to cpu\n",
    "        )\n",
    "\n",
    "        sim_image = amplitude(torch.fft.ifftn(ctf * output, dim=(-2, -1)))\n",
    "\n",
    "        optimizer.zero_grad()\n",
    "\n",
    "        loss = criterion(sim_image, ref_data)*1000000000\n",
    "\n",
    "        loss.backward()\n",
    "\n",
    "        optimizer.step()\n",
    "\n",
    "        loss_curve.append(loss.item())\n",
    "\n",
    "\n",
    "        for i in range(0,len(curves)):\n",
    "            curves[i].append(aberrations[i].amplitude.item())\n",
    "\n",
    "\n",
    "    end = time.time()\n",
    "\n",
    "    print(\"Time to run:\", str((end - start)))\n",
    "    print(\"Loss\", str(loss.item())) # Final loss value\n",
    "    print(\"Final defocus value\", str(aberrations[0].amplitude.item()))"
   ]
  },
  {
   "cell_type": "code",
   "execution_count": 5,
   "metadata": {},
   "outputs": [],
   "source": [
    "def main(n_iter):\n",
    "    aberrations = establish_aberrations()\n",
    "    output = create_initial_guess(aberrations)\n",
    "    \n",
    "    # Load in \"experimental\" data\n",
    "    path = '/home/hremadmin/Documents/Project/differentiable/df_200_test_data.npy'\n",
    "    ref_data = np.load(path)\n",
    "    ref_data = torch.tensor(ref_data).to('cpu')\n",
    "    \n",
    "    optimise(aberrations, output, ref_data, n_iter)\n",
    "    "
   ]
  },
  {
   "cell_type": "code",
   "execution_count": 6,
   "metadata": {},
   "outputs": [
    {
     "name": "stdout",
     "output_type": "stream",
     "text": [
      "Lowena-modified code\n",
      "True\n"
     ]
    },
    {
     "data": {
      "application/vnd.jupyter.widget-view+json": {
       "model_id": "b7fe90dcbd9041f89d1ca2e58e107558",
       "version_major": 2,
       "version_minor": 0
      },
      "text/plain": [
       "Making projected potentials:   0%|          | 0/5 [00:00<?, ?it/s]"
      ]
     },
     "metadata": {},
     "output_type": "display_data"
    },
    {
     "name": "stdout",
     "output_type": "stream",
     "text": [
      "14\n"
     ]
    },
    {
     "name": "stderr",
     "output_type": "stream",
     "text": [
      "/home/hremadmin/py_multislice_differentiable/py_multislice_differentiable_tem/pyms/Premixed_routines.py:1520: UserWarning: To copy construct from a tensor, it is recommended to use sourceTensor.clone().detach() or sourceTensor.clone().detach().requires_grad_(True), rather than torch.tensor(sourceTensor).\n",
      "  for df_ in defocii\n"
     ]
    },
    {
     "data": {
      "application/vnd.jupyter.widget-view+json": {
       "model_id": "3110db66518d4f1cbda4d2819b3a7ae2",
       "version_major": 2,
       "version_minor": 0
      },
      "text/plain": [
       "Frozen phonon iteration:   0%|          | 0/1 [00:00<?, ?it/s]"
      ]
     },
     "metadata": {},
     "output_type": "display_data"
    },
    {
     "name": "stderr",
     "output_type": "stream",
     "text": [
      "/home/hremadmin/miniconda3/envs/pyms_2/lib/python3.6/site-packages/torch/nn/modules/loss.py:520: UserWarning: Using a target size (torch.Size([683, 683])) that is different to the input size (torch.Size([1, 683, 683])). This will likely lead to incorrect results due to broadcasting. Please ensure they have the same size.\n",
      "  return F.mse_loss(input, target, reduction=self.reduction)\n"
     ]
    },
    {
     "name": "stdout",
     "output_type": "stream",
     "text": [
      "Time to run: 0.7270116806030273\n",
      "Loss 0.0029995360724306037\n",
      "Lowena-modified code\n",
      "True\n"
     ]
    },
    {
     "data": {
      "application/vnd.jupyter.widget-view+json": {
       "model_id": "088fda6dbaa94309930e0e111e2db698",
       "version_major": 2,
       "version_minor": 0
      },
      "text/plain": [
       "Making projected potentials:   0%|          | 0/5 [00:00<?, ?it/s]"
      ]
     },
     "metadata": {},
     "output_type": "display_data"
    },
    {
     "name": "stdout",
     "output_type": "stream",
     "text": [
      "14\n"
     ]
    },
    {
     "data": {
      "application/vnd.jupyter.widget-view+json": {
       "model_id": "14590509381442b595d31b8a942725d8",
       "version_major": 2,
       "version_minor": 0
      },
      "text/plain": [
       "Frozen phonon iteration:   0%|          | 0/1 [00:00<?, ?it/s]"
      ]
     },
     "metadata": {},
     "output_type": "display_data"
    },
    {
     "name": "stdout",
     "output_type": "stream",
     "text": [
      "Time to run: 6.7720046043396\n",
      "Loss 0.0024479168602273625\n",
      "Lowena-modified code\n",
      "True\n"
     ]
    },
    {
     "data": {
      "application/vnd.jupyter.widget-view+json": {
       "model_id": "de291fd929f7420184a45d4ed3c69b6b",
       "version_major": 2,
       "version_minor": 0
      },
      "text/plain": [
       "Making projected potentials:   0%|          | 0/5 [00:00<?, ?it/s]"
      ]
     },
     "metadata": {},
     "output_type": "display_data"
    },
    {
     "name": "stdout",
     "output_type": "stream",
     "text": [
      "14\n"
     ]
    },
    {
     "data": {
      "application/vnd.jupyter.widget-view+json": {
       "model_id": "a43fb8db349c41d4abc69aae54a76dfd",
       "version_major": 2,
       "version_minor": 0
      },
      "text/plain": [
       "Frozen phonon iteration:   0%|          | 0/1 [00:00<?, ?it/s]"
      ]
     },
     "metadata": {},
     "output_type": "display_data"
    },
    {
     "name": "stdout",
     "output_type": "stream",
     "text": [
      "Time to run: 68.77355885505676\n",
      "Loss 0.0009811864824772311\n",
      "Lowena-modified code\n",
      "True\n"
     ]
    },
    {
     "data": {
      "application/vnd.jupyter.widget-view+json": {
       "model_id": "c4d373baacb84f528859cc2486d01936",
       "version_major": 2,
       "version_minor": 0
      },
      "text/plain": [
       "Making projected potentials:   0%|          | 0/5 [00:00<?, ?it/s]"
      ]
     },
     "metadata": {},
     "output_type": "display_data"
    },
    {
     "name": "stdout",
     "output_type": "stream",
     "text": [
      "14\n"
     ]
    },
    {
     "data": {
      "application/vnd.jupyter.widget-view+json": {
       "model_id": "dcd95a28f8444df994d9278bfc263b1b",
       "version_major": 2,
       "version_minor": 0
      },
      "text/plain": [
       "Frozen phonon iteration:   0%|          | 0/1 [00:00<?, ?it/s]"
      ]
     },
     "metadata": {},
     "output_type": "display_data"
    },
    {
     "name": "stdout",
     "output_type": "stream",
     "text": [
      "Time to run: 141.9217939376831\n",
      "Loss 0.0009530550099200214\n",
      "Lowena-modified code\n",
      "True\n"
     ]
    },
    {
     "data": {
      "application/vnd.jupyter.widget-view+json": {
       "model_id": "83dc3c553ba2435dbaab5ac1c84f4884",
       "version_major": 2,
       "version_minor": 0
      },
      "text/plain": [
       "Making projected potentials:   0%|          | 0/5 [00:00<?, ?it/s]"
      ]
     },
     "metadata": {},
     "output_type": "display_data"
    },
    {
     "name": "stdout",
     "output_type": "stream",
     "text": [
      "14\n"
     ]
    },
    {
     "data": {
      "application/vnd.jupyter.widget-view+json": {
       "model_id": "695aeb5eca124b0eb4754cd0d22ec861",
       "version_major": 2,
       "version_minor": 0
      },
      "text/plain": [
       "Frozen phonon iteration:   0%|          | 0/1 [00:00<?, ?it/s]"
      ]
     },
     "metadata": {},
     "output_type": "display_data"
    },
    {
     "name": "stdout",
     "output_type": "stream",
     "text": [
      "Time to run: 349.62275075912476\n",
      "Loss 0.0009682134506680149\n",
      "Lowena-modified code\n",
      "True\n"
     ]
    },
    {
     "data": {
      "application/vnd.jupyter.widget-view+json": {
       "model_id": "d8457bc590dd4079a5ca52cda4cc8a25",
       "version_major": 2,
       "version_minor": 0
      },
      "text/plain": [
       "Making projected potentials:   0%|          | 0/5 [00:00<?, ?it/s]"
      ]
     },
     "metadata": {},
     "output_type": "display_data"
    },
    {
     "name": "stdout",
     "output_type": "stream",
     "text": [
      "14\n"
     ]
    },
    {
     "data": {
      "application/vnd.jupyter.widget-view+json": {
       "model_id": "f191eedc761446419dea8737ce14a63d",
       "version_major": 2,
       "version_minor": 0
      },
      "text/plain": [
       "Frozen phonon iteration:   0%|          | 0/1 [00:00<?, ?it/s]"
      ]
     },
     "metadata": {},
     "output_type": "display_data"
    },
    {
     "name": "stdout",
     "output_type": "stream",
     "text": [
      "Time to run: 705.4273769855499\n",
      "Loss 0.0009162577932571209\n"
     ]
    }
   ],
   "source": [
    "main(10)\n",
    "main(100)\n",
    "main(1000)\n",
    "main(2000)\n",
    "main(5000)\n",
    "main(10000)"
   ]
  },
  {
   "cell_type": "code",
   "execution_count": 7,
   "metadata": {},
   "outputs": [],
   "source": [
    "times = [\n",
    "    0.727011680603027,\n",
    "    6.7720046043396,\n",
    "    68.7735588550568,\n",
    "    141.921793937683,\n",
    "    349.622750759125,\n",
    "    705.42737698555\n",
    "        ]\n",
    "\n",
    "losses = [\n",
    "    0.002999536072431,\n",
    "    0.002447916860227,\n",
    "    0.000981186482477,\n",
    "    0.00095305500992,\n",
    "    0.000968213450668,\n",
    "    0.000916257793257\n",
    "]\n",
    "\n",
    "iterations = [\n",
    "    10,\n",
    "    100,\n",
    "    1000,\n",
    "    2000,\n",
    "    5000,\n",
    "    10000\n",
    "]\n"
   ]
  },
  {
   "cell_type": "markdown",
   "metadata": {},
   "source": [
    "! Wish I had also got the final defocus values so I could see how close we get to the GT for each number of iterations."
   ]
  },
  {
   "cell_type": "code",
   "execution_count": 9,
   "metadata": {},
   "outputs": [
    {
     "data": {
      "image/png": "[encoded data removed]",
      "text/plain": [
       "<Figure size 432x288 with 1 Axes>"
      ]
     },
     "metadata": {
      "needs_background": "light"
     },
     "output_type": "display_data"
    }
   ],
   "source": [
    "plt.plot(iterations, losses)\n",
    "plt.ylabel('Loss')\n",
    "plt.xlabel('Number of iterations')\n",
    "plt.show()"
   ]
  },
  {
   "cell_type": "code",
   "execution_count": 10,
   "metadata": {},
   "outputs": [
    {
     "data": {
      "image/png": "[encoded data removed]",
      "text/plain": [
       "<Figure size 432x288 with 1 Axes>"
      ]
     },
     "metadata": {
      "needs_background": "light"
     },
     "output_type": "display_data"
    }
   ],
   "source": [
    "plt.plot(iterations, times)\n",
    "plt.ylabel('Time to run')\n",
    "plt.xlabel('Number of iterations')\n",
    "plt.show()"
   ]
  },
  {
   "cell_type": "markdown",
   "metadata": {},
   "source": [
    "From this we can see there is no real point iterating past 1000 cycles FOR THIS PARTICULAR SET UP. It may be different for different optimiser functions."
   ]
  },
  {
   "cell_type": "markdown",
   "metadata": {},
   "source": [
    "## Task 2: effect of starting values of aberrations on success of optimising the defocus"
   ]
  },
  {
   "cell_type": "markdown",
   "metadata": {},
   "source": [
    "Reset the number of iterations to be a constant (2000). Manually change the values of the aberrations starting values then run each time. <br>\n",
    "Find the final value of the defocus- the ground truth is 200? <br>\n",
    "Plot the defocus value against initial aberration value- will have to set all aberrations equal to the same value for comparison."
   ]
  },
  {
   "cell_type": "code",
   "execution_count": 8,
   "metadata": {},
   "outputs": [],
   "source": [
    "# Establish aberrations\n",
    "\n",
    "def establish_aberrations(ab):\n",
    "    \"\"\"Create a list of aberrations. Initialise with starting values.\"\"\"\n",
    "\n",
    "    aberrations = []\n",
    "\n",
    "    # Initial guesses for aberrations\n",
    "    df = 1000.0 # changed to 1000 from 100\n",
    "    \n",
    "    A1 = ab\n",
    "    A2 = ab \n",
    "    B2 = ab\n",
    "    Cs = ab\n",
    "    A3 = ab\n",
    "    S3 = ab\n",
    "    A4 = ab\n",
    "    D4 = ab\n",
    "    B4 = ab\n",
    "    C5 = ab\n",
    "    A5 = ab\n",
    "    S5 = ab\n",
    "    R5 = ab\n",
    "\n",
    "    # Krivanek aberration coefficient, Haider aberration coefficient, colloquial name, amplitude, angle, n, m\n",
    "    # n and m are constants (shouldn't be differentiable), amplitude and angle should be\n",
    "\n",
    "    aberrations.append(aberration(\"C10\", \"C1\", \"Defocus          \", torch.tensor([df], requires_grad = True), 0.0, 1, 0.0))\n",
    "    aberrations.append(aberration(\"C12\", \"A1\", \"2-Fold astig.    \", torch.tensor([A1], requires_grad = True), 0.0, 1, 0.0)) # changed angle to a value (5) but made no difference so changed i back to 0\n",
    "    aberrations.append(aberration(\"C23\", \"A2\", \"3-Fold astig.    \", torch.tensor([A2], requires_grad = True), 0.0, 2, 3.0))\n",
    "    aberrations.append(aberration(\"C21\", \"B2\", \"Axial coma       \", torch.tensor([B2], requires_grad = True), 0.0, 2, 1.0))\n",
    "    aberrations.append(aberration(\"C30\", \"C3\", \"3rd order spher. \", torch.tensor([Cs], requires_grad = True), 0.0, 3, 0.0))\n",
    "    aberrations.append(aberration(\"C34\", \"A3\", \"4-Fold astig.    \", torch.tensor([A3], requires_grad = True), 0.0, 3, 4.0))\n",
    "    aberrations.append(aberration(\"C32\", \"S3\", \"Axial star aber. \", torch.tensor([S3], requires_grad = True), 0.0, 3, 2.0))\n",
    "    aberrations.append(aberration(\"C45\", \"A4\", \"5-Fold astig.    \", torch.tensor([A4], requires_grad = True), 0.0, 4, 5.0))\n",
    "    aberrations.append(aberration(\"C43\", \"D4\", \"3-Lobe aberr.    \", torch.tensor([D4], requires_grad = True), 0.0, 4, 3.0))\n",
    "    aberrations.append(aberration(\"C41\", \"B4\", \"4th order coma   \", torch.tensor([B4], requires_grad = True), 0.0, 4, 1.0))\n",
    "    aberrations.append(aberration(\"C50\", \"C5\", \"5th order spher. \", torch.tensor([C5], requires_grad = True), 0.0, 5, 0.0))\n",
    "    aberrations.append(aberration(\"C56\", \"A5\", \"6-Fold astig.    \", torch.tensor([A5], requires_grad = True), 0.0, 5, 6.0))\n",
    "    aberrations.append(aberration(\"C52\", \"S5\", \"5th order star   \", torch.tensor([S5], requires_grad = True), 0.0, 5, 2.0))\n",
    "    aberrations.append(aberration(\"C54\", \"R5\", \"5th order rosette\", torch.tensor([R5], requires_grad = True), 0.0, 5, 4.0))\n",
    "\n",
    "    defocus = aberrations[0].amplitude\n",
    "    \n",
    "    return aberrations\n"
   ]
  },
  {
   "cell_type": "code",
   "execution_count": 80,
   "metadata": {},
   "outputs": [],
   "source": [
    "def main(n_iter, ab):\n",
    "    aberrations = establish_aberrations(ab)\n",
    "    output = create_initial_guess(aberrations)\n",
    "    \n",
    "    # Load in \"experimental\" data\n",
    "    path = '/home/hremadmin/Documents/Project/differentiable/df_200_test_data.npy'\n",
    "    ref_data = np.load(path)\n",
    "    ref_data = torch.tensor(ref_data).to('cpu')\n",
    "    \n",
    "    optimise(aberrations, output, ref_data, n_iter)\n",
    "    "
   ]
  },
  {
   "cell_type": "code",
   "execution_count": 17,
   "metadata": {},
   "outputs": [
    {
     "name": "stdout",
     "output_type": "stream",
     "text": [
      "Lowena-modified code\n",
      "True\n"
     ]
    },
    {
     "data": {
      "application/vnd.jupyter.widget-view+json": {
       "model_id": "d76d1301e5ed431cb46047cef84876d4",
       "version_major": 2,
       "version_minor": 0
      },
      "text/plain": [
       "Making projected potentials:   0%|          | 0/5 [00:00<?, ?it/s]"
      ]
     },
     "metadata": {},
     "output_type": "display_data"
    },
    {
     "name": "stdout",
     "output_type": "stream",
     "text": [
      "14\n"
     ]
    },
    {
     "data": {
      "application/vnd.jupyter.widget-view+json": {
       "model_id": "e351bb1f81b44e918ad03efb1b0fc95c",
       "version_major": 2,
       "version_minor": 0
      },
      "text/plain": [
       "Frozen phonon iteration:   0%|          | 0/1 [00:00<?, ?it/s]"
      ]
     },
     "metadata": {},
     "output_type": "display_data"
    },
    {
     "name": "stdout",
     "output_type": "stream",
     "text": [
      "Time to run: 139.9329674243927\n",
      "Loss 0.0009486335655733365\n",
      "Final defocus value 148.64747619628906\n",
      "Lowena-modified code\n",
      "True\n"
     ]
    },
    {
     "data": {
      "application/vnd.jupyter.widget-view+json": {
       "model_id": "bcfa90f3ccfb4510b16b0734debbc286",
       "version_major": 2,
       "version_minor": 0
      },
      "text/plain": [
       "Making projected potentials:   0%|          | 0/5 [00:00<?, ?it/s]"
      ]
     },
     "metadata": {},
     "output_type": "display_data"
    },
    {
     "name": "stdout",
     "output_type": "stream",
     "text": [
      "14\n"
     ]
    },
    {
     "data": {
      "application/vnd.jupyter.widget-view+json": {
       "model_id": "c1448b7df0d649af9c94b8b8c1549507",
       "version_major": 2,
       "version_minor": 0
      },
      "text/plain": [
       "Frozen phonon iteration:   0%|          | 0/1 [00:00<?, ?it/s]"
      ]
     },
     "metadata": {},
     "output_type": "display_data"
    },
    {
     "name": "stdout",
     "output_type": "stream",
     "text": [
      "Time to run: 144.19004130363464\n",
      "Loss 0.0009316892185231219\n",
      "Final defocus value 148.90408325195312\n",
      "Lowena-modified code\n",
      "True\n"
     ]
    },
    {
     "data": {
      "application/vnd.jupyter.widget-view+json": {
       "model_id": "f646db2b675748a88a698cc5ee3bbcf9",
       "version_major": 2,
       "version_minor": 0
      },
      "text/plain": [
       "Making projected potentials:   0%|          | 0/5 [00:00<?, ?it/s]"
      ]
     },
     "metadata": {},
     "output_type": "display_data"
    },
    {
     "name": "stdout",
     "output_type": "stream",
     "text": [
      "14\n"
     ]
    },
    {
     "data": {
      "application/vnd.jupyter.widget-view+json": {
       "model_id": "f98e6a2835fd48559a54e6b1b65f9e73",
       "version_major": 2,
       "version_minor": 0
      },
      "text/plain": [
       "Frozen phonon iteration:   0%|          | 0/1 [00:00<?, ?it/s]"
      ]
     },
     "metadata": {},
     "output_type": "display_data"
    },
    {
     "name": "stdout",
     "output_type": "stream",
     "text": [
      "Time to run: 141.2671251296997\n",
      "Loss 0.0009362766277316426\n",
      "Final defocus value 148.9773712158203\n",
      "Lowena-modified code\n",
      "True\n"
     ]
    },
    {
     "data": {
      "application/vnd.jupyter.widget-view+json": {
       "model_id": "38619dde9f204a70b11b6c3b1d645707",
       "version_major": 2,
       "version_minor": 0
      },
      "text/plain": [
       "Making projected potentials:   0%|          | 0/5 [00:00<?, ?it/s]"
      ]
     },
     "metadata": {},
     "output_type": "display_data"
    },
    {
     "name": "stdout",
     "output_type": "stream",
     "text": [
      "14\n"
     ]
    },
    {
     "data": {
      "application/vnd.jupyter.widget-view+json": {
       "model_id": "4a265b5893044cc9909e1fae79e8f4df",
       "version_major": 2,
       "version_minor": 0
      },
      "text/plain": [
       "Frozen phonon iteration:   0%|          | 0/1 [00:00<?, ?it/s]"
      ]
     },
     "metadata": {},
     "output_type": "display_data"
    },
    {
     "name": "stdout",
     "output_type": "stream",
     "text": [
      "Time to run: 151.87974166870117\n",
      "Loss 0.0009606355214040904\n",
      "Final defocus value 145.81320190429688\n",
      "Lowena-modified code\n",
      "True\n"
     ]
    },
    {
     "data": {
      "application/vnd.jupyter.widget-view+json": {
       "model_id": "951ccc42e1c348fb99ba5141054cd490",
       "version_major": 2,
       "version_minor": 0
      },
      "text/plain": [
       "Making projected potentials:   0%|          | 0/5 [00:00<?, ?it/s]"
      ]
     },
     "metadata": {},
     "output_type": "display_data"
    },
    {
     "name": "stdout",
     "output_type": "stream",
     "text": [
      "14\n"
     ]
    },
    {
     "data": {
      "application/vnd.jupyter.widget-view+json": {
       "model_id": "dba93007f57c48939c382b29467fb792",
       "version_major": 2,
       "version_minor": 0
      },
      "text/plain": [
       "Frozen phonon iteration:   0%|          | 0/1 [00:00<?, ?it/s]"
      ]
     },
     "metadata": {},
     "output_type": "display_data"
    },
    {
     "name": "stdout",
     "output_type": "stream",
     "text": [
      "Time to run: 141.20959329605103\n",
      "Loss 0.0009905324431741997\n",
      "Final defocus value 143.00738525390625\n",
      "Lowena-modified code\n",
      "True\n"
     ]
    },
    {
     "data": {
      "application/vnd.jupyter.widget-view+json": {
       "model_id": "6d5b09cdd7dc4320a88ad2db14035a28",
       "version_major": 2,
       "version_minor": 0
      },
      "text/plain": [
       "Making projected potentials:   0%|          | 0/5 [00:00<?, ?it/s]"
      ]
     },
     "metadata": {},
     "output_type": "display_data"
    },
    {
     "name": "stdout",
     "output_type": "stream",
     "text": [
      "14\n"
     ]
    },
    {
     "data": {
      "application/vnd.jupyter.widget-view+json": {
       "model_id": "13ba0a35809b4cdebe700f7897a34ef2",
       "version_major": 2,
       "version_minor": 0
      },
      "text/plain": [
       "Frozen phonon iteration:   0%|          | 0/1 [00:00<?, ?it/s]"
      ]
     },
     "metadata": {},
     "output_type": "display_data"
    },
    {
     "name": "stdout",
     "output_type": "stream",
     "text": [
      "Time to run: 145.59288263320923\n",
      "Loss 0.000986376912096791\n",
      "Final defocus value 141.4766082763672\n",
      "Lowena-modified code\n",
      "True\n"
     ]
    },
    {
     "data": {
      "application/vnd.jupyter.widget-view+json": {
       "model_id": "1cd5e88a6cb7400985a5860eda5eeac0",
       "version_major": 2,
       "version_minor": 0
      },
      "text/plain": [
       "Making projected potentials:   0%|          | 0/5 [00:00<?, ?it/s]"
      ]
     },
     "metadata": {},
     "output_type": "display_data"
    },
    {
     "name": "stdout",
     "output_type": "stream",
     "text": [
      "14\n"
     ]
    },
    {
     "data": {
      "application/vnd.jupyter.widget-view+json": {
       "model_id": "433d2157955949e9b3d38eefd4d0ca68",
       "version_major": 2,
       "version_minor": 0
      },
      "text/plain": [
       "Frozen phonon iteration:   0%|          | 0/1 [00:00<?, ?it/s]"
      ]
     },
     "metadata": {},
     "output_type": "display_data"
    },
    {
     "name": "stdout",
     "output_type": "stream",
     "text": [
      "Time to run: 150.5241560935974\n",
      "Loss 0.0009559109504712882\n",
      "Final defocus value 123.33446502685547\n",
      "Lowena-modified code\n",
      "True\n"
     ]
    },
    {
     "data": {
      "application/vnd.jupyter.widget-view+json": {
       "model_id": "2785338b407d4aff93783ea26581b60a",
       "version_major": 2,
       "version_minor": 0
      },
      "text/plain": [
       "Making projected potentials:   0%|          | 0/5 [00:00<?, ?it/s]"
      ]
     },
     "metadata": {},
     "output_type": "display_data"
    },
    {
     "name": "stdout",
     "output_type": "stream",
     "text": [
      "14\n"
     ]
    },
    {
     "data": {
      "application/vnd.jupyter.widget-view+json": {
       "model_id": "170aef9bb8da41428bb2da2c81242795",
       "version_major": 2,
       "version_minor": 0
      },
      "text/plain": [
       "Frozen phonon iteration:   0%|          | 0/1 [00:00<?, ?it/s]"
      ]
     },
     "metadata": {},
     "output_type": "display_data"
    },
    {
     "name": "stdout",
     "output_type": "stream",
     "text": [
      "Time to run: 146.4284725189209\n",
      "Loss 0.0009472537804121355\n",
      "Final defocus value 98.72237396240234\n",
      "Lowena-modified code\n",
      "True\n"
     ]
    },
    {
     "data": {
      "application/vnd.jupyter.widget-view+json": {
       "model_id": "a2debe3f01b04b539e2ef4925ecbab42",
       "version_major": 2,
       "version_minor": 0
      },
      "text/plain": [
       "Making projected potentials:   0%|          | 0/5 [00:00<?, ?it/s]"
      ]
     },
     "metadata": {},
     "output_type": "display_data"
    },
    {
     "name": "stdout",
     "output_type": "stream",
     "text": [
      "14\n"
     ]
    },
    {
     "data": {
      "application/vnd.jupyter.widget-view+json": {
       "model_id": "c9793dcd89b64f42a8bb7bb399625b39",
       "version_major": 2,
       "version_minor": 0
      },
      "text/plain": [
       "Frozen phonon iteration:   0%|          | 0/1 [00:00<?, ?it/s]"
      ]
     },
     "metadata": {},
     "output_type": "display_data"
    },
    {
     "name": "stdout",
     "output_type": "stream",
     "text": [
      "Time to run: 145.2394094467163\n",
      "Loss 0.0018747406971148677\n",
      "Final defocus value 93.12620544433594\n"
     ]
    }
   ],
   "source": [
    "main(2000, 0.0) # GT\n",
    "main(2000, 0.1)\n",
    "main(2000, 1.0)\n",
    "main(2000, 5.0)\n",
    "main(2000, 10.0)\n",
    "main(2000, 15.0)\n",
    "main(2000, 50.0)\n",
    "main(2000, 100.0)\n",
    "main(2000, 500.0) # very far from GT"
   ]
  },
  {
   "cell_type": "code",
   "execution_count": 21,
   "metadata": {},
   "outputs": [],
   "source": [
    "# The defocus ground truth is 200, the aberration ground truth is 0\n",
    "\n",
    "aberration_values = [\n",
    "    0.0,\n",
    "    0.1,\n",
    "    1.0,\n",
    "    5.0,\n",
    "    10.0,\n",
    "    15.0,\n",
    "    50.0,\n",
    "    100.0,\n",
    "    500 \n",
    "]\n",
    "\n",
    "final_defocus_value = [\n",
    "    148.64747619628906,\n",
    "    148.90408325195312,\n",
    "    148.9773712158203,\n",
    "    145.81320190429688,\n",
    "    143.00738525390625,\n",
    "    141.4766082763672,\n",
    "    123.33446502685547,\n",
    "    98.72237396240234,\n",
    "    93.12620544433594   \n",
    "]\n",
    "\n",
    "times = [\n",
    "    139.9329674243927,\n",
    "    144.19004130363464,\n",
    "    141.2671251296997,\n",
    "    151.87974166870117,\n",
    "    141.20959329605103,\n",
    "    145.59288263320923,\n",
    "    150.5241560935974,\n",
    "    146.4284725189209,\n",
    "    145.2394094467163\n",
    "]\n",
    "\n",
    "losses = [\n",
    "    0.0009486335655733365,\n",
    "    0.0009316892185231219,\n",
    "    0.0009362766277316426,\n",
    "    0.0009606355214040904,\n",
    "    0.0009905324431741997,\n",
    "    0.000986376912096791,\n",
    "    0.0009559109504712882,\n",
    "    0.0009472537804121355,\n",
    "    0.0018747406971148677\n",
    "]"
   ]
  },
  {
   "cell_type": "code",
   "execution_count": 22,
   "metadata": {},
   "outputs": [
    {
     "data": {
      "image/png": "[encoded data removed]",
      "text/plain": [
       "<Figure size 432x288 with 1 Axes>"
      ]
     },
     "metadata": {
      "needs_background": "light"
     },
     "output_type": "display_data"
    }
   ],
   "source": [
    "plt.plot(aberration_values, times)\n",
    "plt.ylabel('Time to run')\n",
    "plt.xlabel('Aberration value')\n",
    "plt.show()"
   ]
  },
  {
   "cell_type": "code",
   "execution_count": 23,
   "metadata": {},
   "outputs": [
    {
     "data": {
      "image/png": "[encoded data removed]",
      "text/plain": [
       "<Figure size 432x288 with 1 Axes>"
      ]
     },
     "metadata": {
      "needs_background": "light"
     },
     "output_type": "display_data"
    }
   ],
   "source": [
    "plt.plot(aberration_values, losses)\n",
    "plt.ylabel('Loss')\n",
    "plt.xlabel('Aberration value')\n",
    "plt.show()"
   ]
  },
  {
   "cell_type": "code",
   "execution_count": 24,
   "metadata": {},
   "outputs": [
    {
     "data": {
      "image/png": "[encoded data removed]",
      "text/plain": [
       "<Figure size 432x288 with 1 Axes>"
      ]
     },
     "metadata": {
      "needs_background": "light"
     },
     "output_type": "display_data"
    }
   ],
   "source": [
    "plt.plot(aberration_values, final_defocus_value)\n",
    "plt.ylabel('Final defocus value')\n",
    "plt.xlabel('Aberration value')\n",
    "plt.show()"
   ]
  },
  {
   "cell_type": "markdown",
   "metadata": {},
   "source": [
    "Summary: <br>\n",
    "- Unsurprisingly, the closer the aberrations were to <i>their</i> ground truth, the more the algorithm was able to focus on getting the right value for the defocus (the closer to the defocus ground truth).\n",
    "- Time to run was pretty independent (as unexpected)\n",
    "- Loss generally increased as the guess for the aberration got further from the ground truth. There was a slight dip at a value of 100- unsure why."
   ]
  },
  {
   "cell_type": "markdown",
   "metadata": {},
   "source": [
    "## Task 3: Different optimisers"
   ]
  },
  {
   "cell_type": "markdown",
   "metadata": {},
   "source": [
    "Change the code to use different types of optimisers. Keep the aberration value and number of iterations constant, monitor the time to run and the loss."
   ]
  },
  {
   "cell_type": "code",
   "execution_count": 138,
   "metadata": {},
   "outputs": [],
   "source": [
    "def optimise(aberrations, output, ref_data, n_iters):\n",
    "    \"\"\"Go through and refine the aberrations to minimise difference between initial guess (output) and experimental image\"\"\"\n",
    "\n",
    "    bw_limit_size = size_of_bandwidth_limited_array(gridshape)\n",
    "    rsize = np.asarray(crystal.unitcell[:2]) * np.asarray(tiling)\n",
    "\n",
    "    curves = []\n",
    "    params = []\n",
    "\n",
    "    # Generic form allows more flexibility if we decided to not include some aberrations in the future.\n",
    "    for i in range(0, len(aberrations)):\n",
    "        params.append(aberrations[i].amplitude)\n",
    "        curves.append([]) # create a curve for each differentiable quantity\n",
    "\n",
    "    optimizer = torch.optim.RAdam(params, lr = 1e-1)\n",
    "    criterion = torch.nn.MSELoss()\n",
    "    \n",
    "    #n_iters = 2000\n",
    "\n",
    "    loss_curve = []\n",
    "\n",
    "\n",
    "    start = time.time()\n",
    "\n",
    "    for iter in range(n_iters):\n",
    "        ctf = (\n",
    "                torch.stack(\n",
    "                    [\n",
    "                        make_contrast_transfer_function(\n",
    "                            bw_limit_size, rsize, eV, app, df=aberrations[0].amplitude, aberrations=aberrations\n",
    "                        )\n",
    "                    ]\n",
    "                )\n",
    "            .type(torch.complex128)\n",
    "            .to('cpu') # changed cuda to cpu\n",
    "        )\n",
    "\n",
    "        sim_image = amplitude(torch.fft.ifftn(ctf * output, dim=(-2, -1)))\n",
    "\n",
    "        optimizer.zero_grad()\n",
    "\n",
    "        loss = criterion(sim_image, ref_data)*1000000000\n",
    "\n",
    "        loss.backward()\n",
    "\n",
    "        optimizer.step()\n",
    "\n",
    "        loss_curve.append(loss.item())\n",
    "\n",
    "\n",
    "        for i in range(0,len(curves)):\n",
    "            curves[i].append(aberrations[i].amplitude.item())\n",
    "\n",
    "\n",
    "    end = time.time()\n",
    "\n",
    "    print(\"Time to run:\", str((end - start)))\n",
    "    print(\"Loss\", str(loss.item())) # Final loss value\n",
    "    print(\"Final defocus value\", str(aberrations[0].amplitude.item()))"
   ]
  },
  {
   "cell_type": "code",
   "execution_count": 139,
   "metadata": {},
   "outputs": [
    {
     "name": "stdout",
     "output_type": "stream",
     "text": [
      "Lowena-modified code\n",
      "True\n"
     ]
    },
    {
     "data": {
      "application/vnd.jupyter.widget-view+json": {
       "model_id": "4d322bac519e477797274e7a7bd36f17",
       "version_major": 2,
       "version_minor": 0
      },
      "text/plain": [
       "Making projected potentials:   0%|          | 0/5 [00:00<?, ?it/s]"
      ]
     },
     "metadata": {},
     "output_type": "display_data"
    },
    {
     "name": "stdout",
     "output_type": "stream",
     "text": [
      "14\n"
     ]
    },
    {
     "data": {
      "application/vnd.jupyter.widget-view+json": {
       "model_id": "347004a07c5d4f0b99d2c5c8c45425be",
       "version_major": 2,
       "version_minor": 0
      },
      "text/plain": [
       "Frozen phonon iteration:   0%|          | 0/1 [00:00<?, ?it/s]"
      ]
     },
     "metadata": {},
     "output_type": "display_data"
    },
    {
     "name": "stdout",
     "output_type": "stream",
     "text": [
      "Time to run: 761.6669464111328\n",
      "Loss 0.0017584600743793747\n",
      "Final defocus value 962.4739990234375\n"
     ]
    }
   ],
   "source": [
    "main(10000, 50.0)"
   ]
  },
  {
   "cell_type": "code",
   "execution_count": 99,
   "metadata": {},
   "outputs": [],
   "source": [
    "optimizer = [\n",
    "    'Adam',\n",
    "    'Adadelta',\n",
    "    'Adagrad',\n",
    "    'AdamW',\n",
    "    'Adamax',\n",
    "    'ASGD',\n",
    "    'NAdam',\n",
    "    'RAdam',\n",
    "    'RMSprop',\n",
    "    'Rprop',\n",
    "    'SGD'\n",
    "]\n",
    "# Note; couldn't do 'SparseAdam' as \"SparseAdam does not support dense gradients, please consider Adam instead\"\n",
    "# LBFGS had error \"step() missing 1 required positional argument: 'closure'\"- not including it\n",
    "# \n",
    "\n",
    "time = [\n",
    "    150.1419723033905,\n",
    "    140.10347938537598,\n",
    "    139.20631313323975,\n",
    "    139.54891061782837,\n",
    "    140.95341897010803,\n",
    "    144.2091224193573,\n",
    "    142.90306091308594,\n",
    "    147.3002107143402,\n",
    "    139.54793071746826,\n",
    "    142.1045479774475,\n",
    "    146.97593665122986\n",
    "    \n",
    "]\n",
    "\n",
    "losses = [\n",
    "    0.0009979652666608923,\n",
    "    0.002927080800590592,\n",
    "    0.0024215826616612647,\n",
    "    0.0012101008351774493,\n",
    "    0.0009496943040385716,\n",
    "    0.0029332439371796298,\n",
    "    0.0009047274980463242,\n",
    "    0.0009727074798596515,\n",
    "    0.0009749151426093984,\n",
    "    0.0009507312501784597,\n",
    "    0.002860806129985016\n",
    "    \n",
    "]\n",
    "\n",
    "final_defocus_value = [\n",
    "    144.4311065673828,\n",
    "    100,\n",
    "    109.00341796875,\n",
    "    91.6656723022461,\n",
    "    145.1249237060547,\n",
    "    98.03470611572266,\n",
    "    144.4785919189453,\n",
    "    144.04559326171875,\n",
    "    144.02845764160156,\n",
    "    145.25015258789062,\n",
    "    100.0\n",
    "    \n",
    "]"
   ]
  },
  {
   "cell_type": "code",
   "execution_count": 72,
   "metadata": {},
   "outputs": [
    {
     "data": {
      "image/png": "[encoded data removed]",
      "text/plain": [
       "<Figure size 1080x360 with 1 Axes>"
      ]
     },
     "metadata": {
      "needs_background": "light"
     },
     "output_type": "display_data"
    }
   ],
   "source": [
    "plt.figure(figsize=(15,5))\n",
    "\n",
    "y_data = [i-100 for i in final_defocus_value]\n",
    "\n",
    "plt.bar(optimizer, y_data)\n",
    "plt.ylabel('Difference between final defocus value and ground truth')\n",
    "plt.\n",
    "plt.show()\n",
    "\n",
    "# rainbow colormap\n",
    "# I'd like a colour corresponding to the height"
   ]
  },
  {
   "cell_type": "code",
   "execution_count": 124,
   "metadata": {},
   "outputs": [
    {
     "data": {
      "image/png": "[encoded data removed]",
      "text/plain": [
       "<Figure size 1080x360 with 1 Axes>"
      ]
     },
     "metadata": {
      "needs_background": "light"
     },
     "output_type": "display_data"
    }
   ],
   "source": [
    "#plt.figure(figsize=(15,5))\n",
    "fig, ax = plt.subplots()\n",
    "fig.set_figwidth(15)\n",
    "fig.set_figheight(5)\n",
    "\n",
    "y_data = [i-100 for i in final_defocus_value]\n",
    "\n",
    "plt.scatter(time, y_data, c=['red', 'orange', 'yellow', \n",
    "                             'green', 'cyan', 'blue', 'mediumslateblue',\n",
    "                             'indigo', 'darkviolet', 'violet',\n",
    "                             'deeppink'])\n",
    "\n",
    "\n",
    "\n",
    "for i, txt in enumerate(optimizer):\n",
    "    ax.annotate(txt, (time[i], y_data[i]))\n",
    "    \n",
    "plt.ylabel('Defocus change against time')\n",
    "plt.xlabel('Time to run')\n",
    "plt.show()\n",
    "\n",
    "#fig.savefig(\"test.png\")\n",
    "\n",
    "# Ideal is top left, see RMSprop is giving best values"
   ]
  },
  {
   "cell_type": "markdown",
   "metadata": {},
   "source": [
    "Each optimizer algorithm also has different parameters that can be adjusted, for example 'momentum' in SGD so might be interesting to play around with different values of that."
   ]
  },
  {
   "cell_type": "markdown",
   "metadata": {},
   "source": [
    "Reattempt these findings with the top performing algorithsm (RMSprop, Adamax, Rprop, Nadam, RAdam and Adam) but for a larger number of iterations and starting the defocus from a further away value. <br>\n",
    "Use 10000 iterations and a defocus of 1000 and aberrations of 50?"
   ]
  },
  {
   "cell_type": "code",
   "execution_count": null,
   "metadata": {},
   "outputs": [],
   "source": [
    "optimizer = [\n",
    "    'RMSprop',\n",
    "    'Adamax',\n",
    "    'Rprop',\n",
    "    'NAdam',\n",
    "    'RAdam',\n",
    "    'Adam'\n",
    "]\n",
    "\n",
    "time = [\n",
    "    742.9264283180237,\n",
    "    745.1832458972931,\n",
    "    755.1761360168457,\n",
    "    762.3292775154114\n",
    "    \n",
    "]\n",
    "\n",
    "losses = [\n",
    "    0.001753168555034069,\n",
    "    0.001616753539961251,\n",
    "    0.0015940609236230977,\n",
    "    0.001648667013519778\n",
    "    \n",
    "]\n",
    "\n",
    "final_defocus_value = [\n",
    "    962.500244140625,\n",
    "    960.6928100585938,\n",
    "    954.0565795898438,\n",
    "    962.8516235351562\n",
    "]\n"
   ]
  },
  {
   "cell_type": "markdown",
   "metadata": {},
   "source": [
    "## Task 4: Different loss criterion"
   ]
  },
  {
   "cell_type": "code",
   "execution_count": 97,
   "metadata": {},
   "outputs": [],
   "source": [
    "def optimise(aberrations, output, ref_data, n_iters):\n",
    "    \"\"\"Go through and refine the aberrations to minimise difference between initial guess (output) and experimental image\"\"\"\n",
    "\n",
    "    bw_limit_size = size_of_bandwidth_limited_array(gridshape)\n",
    "    rsize = np.asarray(crystal.unitcell[:2]) * np.asarray(tiling)\n",
    "\n",
    "    curves = []\n",
    "    params = []\n",
    "\n",
    "    # Generic form allows more flexibility if we decided to not include some aberrations in the future.\n",
    "    for i in range(0, len(aberrations)):\n",
    "        params.append(aberrations[i].amplitude)\n",
    "        curves.append([]) # create a curve for each differentiable quantity\n",
    "\n",
    "    optimizer = torch.optim.Adam(params, lr = 1e-1)\n",
    "    criterion = torch.nn.BCELoss()\n",
    "    \n",
    "    #n_iters = 2000\n",
    "\n",
    "    loss_curve = []\n",
    "\n",
    "\n",
    "    start = time.time()\n",
    "\n",
    "    for iter in range(n_iters):\n",
    "        ctf = (\n",
    "                torch.stack(\n",
    "                    [\n",
    "                        make_contrast_transfer_function(\n",
    "                            bw_limit_size, rsize, eV, app, df=aberrations[0].amplitude, aberrations=aberrations\n",
    "                        )\n",
    "                    ]\n",
    "                )\n",
    "            .type(torch.complex128)\n",
    "            .to('cpu') # changed cuda to cpu\n",
    "        )\n",
    "\n",
    "        sim_image = amplitude(torch.fft.ifftn(ctf * output, dim=(-2, -1)))\n",
    "\n",
    "        optimizer.zero_grad()\n",
    "\n",
    "        loss = criterion(sim_image, ref_data)*1000000000\n",
    "\n",
    "        loss.backward()\n",
    "\n",
    "        optimizer.step()\n",
    "\n",
    "        loss_curve.append(loss.item())\n",
    "\n",
    "\n",
    "        for i in range(0,len(curves)):\n",
    "            curves[i].append(aberrations[i].amplitude.item())\n",
    "\n",
    "\n",
    "    end = time.time()\n",
    "\n",
    "    print(\"Time to run:\", str((end - start)))\n",
    "    print(\"Loss\", str(loss.item())) # Final loss value\n",
    "    print(\"Final defocus value\", str(aberrations[0].amplitude.item()))"
   ]
  },
  {
   "cell_type": "code",
   "execution_count": null,
   "metadata": {},
   "outputs": [],
   "source": []
  },
  {
   "cell_type": "code",
   "execution_count": 98,
   "metadata": {},
   "outputs": [
    {
     "name": "stdout",
     "output_type": "stream",
     "text": [
      "Lowena-modified code\n",
      "True\n"
     ]
    },
    {
     "data": {
      "application/vnd.jupyter.widget-view+json": {
       "model_id": "4766709eb96f499c8139f5e61675fc28",
       "version_major": 2,
       "version_minor": 0
      },
      "text/plain": [
       "Making projected potentials:   0%|          | 0/5 [00:00<?, ?it/s]"
      ]
     },
     "metadata": {},
     "output_type": "display_data"
    },
    {
     "name": "stdout",
     "output_type": "stream",
     "text": [
      "14\n"
     ]
    },
    {
     "data": {
      "application/vnd.jupyter.widget-view+json": {
       "model_id": "bad5894408f04aedbaa6e8298d5a96df",
       "version_major": 2,
       "version_minor": 0
      },
      "text/plain": [
       "Frozen phonon iteration:   0%|          | 0/1 [00:00<?, ?it/s]"
      ]
     },
     "metadata": {},
     "output_type": "display_data"
    },
    {
     "ename": "ValueError",
     "evalue": "Using a target size (torch.Size([683, 683])) that is different to the input size (torch.Size([1, 683, 683])) is deprecated. Please ensure they have the same size.",
     "output_type": "error",
     "traceback": [
      "\u001b[0;31m---------------------------------------------------------------------------\u001b[0m",
      "\u001b[0;31mValueError\u001b[0m                                Traceback (most recent call last)",
      "\u001b[0;32m<ipython-input-98-b8ab75584be1>\u001b[0m in \u001b[0;36m<module>\u001b[0;34m\u001b[0m\n\u001b[0;32m----> 1\u001b[0;31m \u001b[0mmain\u001b[0m\u001b[0;34m(\u001b[0m\u001b[0;36m2000\u001b[0m\u001b[0;34m,\u001b[0m \u001b[0;36m10.0\u001b[0m\u001b[0;34m)\u001b[0m\u001b[0;34m\u001b[0m\u001b[0;34m\u001b[0m\u001b[0m\n\u001b[0m",
      "\u001b[0;32m<ipython-input-80-3189bedf5331>\u001b[0m in \u001b[0;36mmain\u001b[0;34m(n_iter, ab)\u001b[0m\n\u001b[1;32m      8\u001b[0m     \u001b[0mref_data\u001b[0m \u001b[0;34m=\u001b[0m \u001b[0mtorch\u001b[0m\u001b[0;34m.\u001b[0m\u001b[0mtensor\u001b[0m\u001b[0;34m(\u001b[0m\u001b[0mref_data\u001b[0m\u001b[0;34m)\u001b[0m\u001b[0;34m.\u001b[0m\u001b[0mto\u001b[0m\u001b[0;34m(\u001b[0m\u001b[0;34m'cpu'\u001b[0m\u001b[0;34m)\u001b[0m\u001b[0;34m\u001b[0m\u001b[0;34m\u001b[0m\u001b[0m\n\u001b[1;32m      9\u001b[0m \u001b[0;34m\u001b[0m\u001b[0m\n\u001b[0;32m---> 10\u001b[0;31m     \u001b[0moptimise\u001b[0m\u001b[0;34m(\u001b[0m\u001b[0maberrations\u001b[0m\u001b[0;34m,\u001b[0m \u001b[0moutput\u001b[0m\u001b[0;34m,\u001b[0m \u001b[0mref_data\u001b[0m\u001b[0;34m,\u001b[0m \u001b[0mn_iter\u001b[0m\u001b[0;34m)\u001b[0m\u001b[0;34m\u001b[0m\u001b[0;34m\u001b[0m\u001b[0m\n\u001b[0m\u001b[1;32m     11\u001b[0m \u001b[0;34m\u001b[0m\u001b[0m\n",
      "\u001b[0;32m<ipython-input-97-74badebc671a>\u001b[0m in \u001b[0;36moptimise\u001b[0;34m(aberrations, output, ref_data, n_iters)\u001b[0m\n\u001b[1;32m     40\u001b[0m         \u001b[0moptimizer\u001b[0m\u001b[0;34m.\u001b[0m\u001b[0mzero_grad\u001b[0m\u001b[0;34m(\u001b[0m\u001b[0;34m)\u001b[0m\u001b[0;34m\u001b[0m\u001b[0;34m\u001b[0m\u001b[0m\n\u001b[1;32m     41\u001b[0m \u001b[0;34m\u001b[0m\u001b[0m\n\u001b[0;32m---> 42\u001b[0;31m         \u001b[0mloss\u001b[0m \u001b[0;34m=\u001b[0m \u001b[0mcriterion\u001b[0m\u001b[0;34m(\u001b[0m\u001b[0msim_image\u001b[0m\u001b[0;34m,\u001b[0m \u001b[0mref_data\u001b[0m\u001b[0;34m)\u001b[0m\u001b[0;34m*\u001b[0m\u001b[0;36m1000000000\u001b[0m\u001b[0;34m\u001b[0m\u001b[0;34m\u001b[0m\u001b[0m\n\u001b[0m\u001b[1;32m     43\u001b[0m \u001b[0;34m\u001b[0m\u001b[0m\n\u001b[1;32m     44\u001b[0m         \u001b[0mloss\u001b[0m\u001b[0;34m.\u001b[0m\u001b[0mbackward\u001b[0m\u001b[0;34m(\u001b[0m\u001b[0;34m)\u001b[0m\u001b[0;34m\u001b[0m\u001b[0;34m\u001b[0m\u001b[0m\n",
      "\u001b[0;32m~/miniconda3/envs/pyms_2/lib/python3.6/site-packages/torch/nn/modules/module.py\u001b[0m in \u001b[0;36m_call_impl\u001b[0;34m(self, *input, **kwargs)\u001b[0m\n\u001b[1;32m   1100\u001b[0m         if not (self._backward_hooks or self._forward_hooks or self._forward_pre_hooks or _global_backward_hooks\n\u001b[1;32m   1101\u001b[0m                 or _global_forward_hooks or _global_forward_pre_hooks):\n\u001b[0;32m-> 1102\u001b[0;31m             \u001b[0;32mreturn\u001b[0m \u001b[0mforward_call\u001b[0m\u001b[0;34m(\u001b[0m\u001b[0;34m*\u001b[0m\u001b[0minput\u001b[0m\u001b[0;34m,\u001b[0m \u001b[0;34m**\u001b[0m\u001b[0mkwargs\u001b[0m\u001b[0;34m)\u001b[0m\u001b[0;34m\u001b[0m\u001b[0;34m\u001b[0m\u001b[0m\n\u001b[0m\u001b[1;32m   1103\u001b[0m         \u001b[0;31m# Do not call functions when jit is used\u001b[0m\u001b[0;34m\u001b[0m\u001b[0;34m\u001b[0m\u001b[0;34m\u001b[0m\u001b[0m\n\u001b[1;32m   1104\u001b[0m         \u001b[0mfull_backward_hooks\u001b[0m\u001b[0;34m,\u001b[0m \u001b[0mnon_full_backward_hooks\u001b[0m \u001b[0;34m=\u001b[0m \u001b[0;34m[\u001b[0m\u001b[0;34m]\u001b[0m\u001b[0;34m,\u001b[0m \u001b[0;34m[\u001b[0m\u001b[0;34m]\u001b[0m\u001b[0;34m\u001b[0m\u001b[0;34m\u001b[0m\u001b[0m\n",
      "\u001b[0;32m~/miniconda3/envs/pyms_2/lib/python3.6/site-packages/torch/nn/modules/loss.py\u001b[0m in \u001b[0;36mforward\u001b[0;34m(self, input, target)\u001b[0m\n\u001b[1;32m    601\u001b[0m \u001b[0;34m\u001b[0m\u001b[0m\n\u001b[1;32m    602\u001b[0m     \u001b[0;32mdef\u001b[0m \u001b[0mforward\u001b[0m\u001b[0;34m(\u001b[0m\u001b[0mself\u001b[0m\u001b[0;34m,\u001b[0m \u001b[0minput\u001b[0m\u001b[0;34m:\u001b[0m \u001b[0mTensor\u001b[0m\u001b[0;34m,\u001b[0m \u001b[0mtarget\u001b[0m\u001b[0;34m:\u001b[0m \u001b[0mTensor\u001b[0m\u001b[0;34m)\u001b[0m \u001b[0;34m->\u001b[0m \u001b[0mTensor\u001b[0m\u001b[0;34m:\u001b[0m\u001b[0;34m\u001b[0m\u001b[0;34m\u001b[0m\u001b[0m\n\u001b[0;32m--> 603\u001b[0;31m         \u001b[0;32mreturn\u001b[0m \u001b[0mF\u001b[0m\u001b[0;34m.\u001b[0m\u001b[0mbinary_cross_entropy\u001b[0m\u001b[0;34m(\u001b[0m\u001b[0minput\u001b[0m\u001b[0;34m,\u001b[0m \u001b[0mtarget\u001b[0m\u001b[0;34m,\u001b[0m \u001b[0mweight\u001b[0m\u001b[0;34m=\u001b[0m\u001b[0mself\u001b[0m\u001b[0;34m.\u001b[0m\u001b[0mweight\u001b[0m\u001b[0;34m,\u001b[0m \u001b[0mreduction\u001b[0m\u001b[0;34m=\u001b[0m\u001b[0mself\u001b[0m\u001b[0;34m.\u001b[0m\u001b[0mreduction\u001b[0m\u001b[0;34m)\u001b[0m\u001b[0;34m\u001b[0m\u001b[0;34m\u001b[0m\u001b[0m\n\u001b[0m\u001b[1;32m    604\u001b[0m \u001b[0;34m\u001b[0m\u001b[0m\n\u001b[1;32m    605\u001b[0m \u001b[0;34m\u001b[0m\u001b[0m\n",
      "\u001b[0;32m~/miniconda3/envs/pyms_2/lib/python3.6/site-packages/torch/nn/functional.py\u001b[0m in \u001b[0;36mbinary_cross_entropy\u001b[0;34m(input, target, weight, size_average, reduce, reduction)\u001b[0m\n\u001b[1;32m   2906\u001b[0m         raise ValueError(\n\u001b[1;32m   2907\u001b[0m             \u001b[0;34m\"Using a target size ({}) that is different to the input size ({}) is deprecated. \"\u001b[0m\u001b[0;34m\u001b[0m\u001b[0;34m\u001b[0m\u001b[0m\n\u001b[0;32m-> 2908\u001b[0;31m             \u001b[0;34m\"Please ensure they have the same size.\"\u001b[0m\u001b[0;34m.\u001b[0m\u001b[0mformat\u001b[0m\u001b[0;34m(\u001b[0m\u001b[0mtarget\u001b[0m\u001b[0;34m.\u001b[0m\u001b[0msize\u001b[0m\u001b[0;34m(\u001b[0m\u001b[0;34m)\u001b[0m\u001b[0;34m,\u001b[0m \u001b[0minput\u001b[0m\u001b[0;34m.\u001b[0m\u001b[0msize\u001b[0m\u001b[0;34m(\u001b[0m\u001b[0;34m)\u001b[0m\u001b[0;34m)\u001b[0m\u001b[0;34m\u001b[0m\u001b[0;34m\u001b[0m\u001b[0m\n\u001b[0m\u001b[1;32m   2909\u001b[0m         )\n\u001b[1;32m   2910\u001b[0m \u001b[0;34m\u001b[0m\u001b[0m\n",
      "\u001b[0;31mValueError\u001b[0m: Using a target size (torch.Size([683, 683])) that is different to the input size (torch.Size([1, 683, 683])) is deprecated. Please ensure they have the same size."
     ]
    }
   ],
   "source": [
    "main(2000, 10.0)"
   ]
  },
  {
   "cell_type": "markdown",
   "metadata": {},
   "source": [
    "I'm not sure if this is worth continuing because the MSELoss criterion is clearly the best one in this case."
   ]
  },
  {
   "cell_type": "code",
   "execution_count": null,
   "metadata": {},
   "outputs": [],
   "source": [
    "criterion = [\n",
    "    'L1Loss',\n",
    "    'MSELoss',\n",
    "    'PoissonNLLLoss',\n",
    "    'KLDivLoss',\n",
    "    'MarginRankingLoss',\n",
    "    'HingeEmbeddingLoss',\n",
    "    'MultiLabelMarginLoss',\n",
    "    'HuberLoss',\n",
    "    'SmoothL1Loss',\n",
    "    'SoftMarginLoss',\n",
    "    'MultiLabelSoftMarginLoss',\n",
    "    'CosineEmbeddingLoss',\n",
    "    'MultiMarginLoss',\n",
    "    'TripletMarginLoss',\n",
    "    'TripleMarginWithDistanceLoss'\n",
    "]\n",
    "\n",
    "# CrossEntropyLoss, CTCLoss, NLLLoss having issues\n",
    "# Error essage: \"ValueError: Expected input batch_size (1) to match target batch_size (683).\"\n",
    "\n",
    "# GaussianNLLLoss\n",
    "# forward() missing 1 required positional argument: 'var'\n",
    "\n",
    "# BCELoss or BCEWithDigitsLoss?\n",
    "\n",
    "\n",
    "time = [\n",
    "    141.36087346076965,\n",
    "    141.07798957824707,\n",
    "    150.28406143188477,\n",
    "    146.84250020980835,\n",
    "    \n",
    "]\n",
    "\n",
    "losses = [\n",
    "    738.5678858124206,\n",
    "    0.0009510623532634575,\n",
    "    1000001740.2282532,\n",
    "    -22698.204008929904,\n",
    "    \n",
    "    \n",
    "]\n",
    "\n",
    "final_defocus_value = [\n",
    "    143.10873413085938,\n",
    "    144.5781707763672,\n",
    "    144.18655395507812,\n",
    "    85.212646484375,\n",
    "    \n",
    "]"
   ]
  },
  {
   "cell_type": "code",
   "execution_count": null,
   "metadata": {},
   "outputs": [],
   "source": []
  },
  {
   "cell_type": "code",
   "execution_count": null,
   "metadata": {},
   "outputs": [],
   "source": []
  },
  {
   "cell_type": "markdown",
   "metadata": {},
   "source": [
    "Interesting how poorly the optimisation is performing"
   ]
  },
  {
   "cell_type": "markdown",
   "metadata": {},
   "source": [
    "## Task 4: Effect of varying the multiplication factor on the final defocus value achieved"
   ]
  },
  {
   "cell_type": "markdown",
   "metadata": {},
   "source": [
    "Modify the loss multiplier and monitor the final loss and defocus value."
   ]
  },
  {
   "cell_type": "code",
   "execution_count": 10,
   "metadata": {},
   "outputs": [],
   "source": [
    "def optimise(aberrations, output, ref_data, n_iters, loss_multiplier):\n",
    "    \"\"\"Go through and refine the aberrations to minimise difference between initial guess (output) and experimental image\"\"\"\n",
    "\n",
    "    bw_limit_size = size_of_bandwidth_limited_array(gridshape)\n",
    "    rsize = np.asarray(crystal.unitcell[:2]) * np.asarray(tiling)\n",
    "\n",
    "    curves = []\n",
    "    params = []\n",
    "\n",
    "    # Generic form allows more flexibility if we decided to not include some aberrations in the future.\n",
    "    for i in range(0, len(aberrations)):\n",
    "        params.append(aberrations[i].amplitude)\n",
    "        curves.append([]) # create a curve for each differentiable quantity\n",
    "\n",
    "    optimizer = torch.optim.Adam(params, lr = 1e-1)\n",
    "    criterion = torch.nn.MSELoss()\n",
    "    \n",
    "    #n_iters = 2000\n",
    "\n",
    "    loss_curve = []\n",
    "\n",
    "\n",
    "    start = time.time()\n",
    "\n",
    "    for iter in range(n_iters):\n",
    "        ctf = (\n",
    "                torch.stack(\n",
    "                    [\n",
    "                        make_contrast_transfer_function(\n",
    "                            bw_limit_size, rsize, eV, app, df=aberrations[0].amplitude, aberrations=aberrations\n",
    "                        )\n",
    "                    ]\n",
    "                )\n",
    "            .type(torch.complex128)\n",
    "            .to('cpu') # changed cuda to cpu\n",
    "        )\n",
    "\n",
    "        sim_image = amplitude(torch.fft.ifftn(ctf * output, dim=(-2, -1)))\n",
    "\n",
    "        optimizer.zero_grad()\n",
    "        \n",
    "        #loss_multiplier = 1000000000\n",
    "\n",
    "        loss = criterion(sim_image, ref_data)*loss_multiplier\n",
    "\n",
    "        loss.backward()\n",
    "\n",
    "        optimizer.step()\n",
    "\n",
    "        loss_curve.append(loss.item())\n",
    "\n",
    "\n",
    "        for i in range(0,len(curves)):\n",
    "            curves[i].append(aberrations[i].amplitude.item())\n",
    "\n",
    "\n",
    "    end = time.time()\n",
    "\n",
    "    print(\"Time to run:\", str((end - start)))\n",
    "    print(\"Loss\", str(loss.item())) # Final loss value\n",
    "    print(\"Final defocus value\", str(aberrations[0].amplitude.item()))"
   ]
  },
  {
   "cell_type": "code",
   "execution_count": 9,
   "metadata": {},
   "outputs": [],
   "source": [
    "def main(n_iter, ab, loss_multiplier):\n",
    "    aberrations = establish_aberrations(ab)\n",
    "    output = create_initial_guess(aberrations)\n",
    "    \n",
    "    # Load in \"experimental\" data\n",
    "    path = '/home/hremadmin/Documents/Project/differentiable/df_200_test_data.npy'\n",
    "    ref_data = np.load(path)\n",
    "    ref_data = torch.tensor(ref_data).to('cpu')\n",
    "    \n",
    "    optimise(aberrations, output, ref_data, n_iter, loss_multiplier)\n",
    "    "
   ]
  },
  {
   "cell_type": "code",
   "execution_count": 12,
   "metadata": {},
   "outputs": [
    {
     "name": "stdout",
     "output_type": "stream",
     "text": [
      "Lowena-modified code\n",
      "True\n"
     ]
    },
    {
     "data": {
      "application/vnd.jupyter.widget-view+json": {
       "model_id": "d35524e8e95a441c9f267e9c201c26d6",
       "version_major": 2,
       "version_minor": 0
      },
      "text/plain": [
       "Making projected potentials:   0%|          | 0/5 [00:00<?, ?it/s]"
      ]
     },
     "metadata": {},
     "output_type": "display_data"
    },
    {
     "name": "stdout",
     "output_type": "stream",
     "text": [
      "14\n"
     ]
    },
    {
     "name": "stderr",
     "output_type": "stream",
     "text": [
      "/home/hremadmin/py_multislice_differentiable/py_multislice_differentiable_tem/pyms/Premixed_routines.py:1520: UserWarning: To copy construct from a tensor, it is recommended to use sourceTensor.clone().detach() or sourceTensor.clone().detach().requires_grad_(True), rather than torch.tensor(sourceTensor).\n",
      "  for df_ in defocii\n"
     ]
    },
    {
     "data": {
      "application/vnd.jupyter.widget-view+json": {
       "model_id": "d9d01ba679484a3291d71532698a3a35",
       "version_major": 2,
       "version_minor": 0
      },
      "text/plain": [
       "Frozen phonon iteration:   0%|          | 0/1 [00:00<?, ?it/s]"
      ]
     },
     "metadata": {},
     "output_type": "display_data"
    },
    {
     "name": "stderr",
     "output_type": "stream",
     "text": [
      "/home/hremadmin/miniconda3/envs/pyms_2/lib/python3.6/site-packages/torch/nn/modules/loss.py:520: UserWarning: Using a target size (torch.Size([683, 683])) that is different to the input size (torch.Size([1, 683, 683])). This will likely lead to incorrect results due to broadcasting. Please ensure they have the same size.\n",
      "  return F.mse_loss(input, target, reduction=self.reduction)\n"
     ]
    },
    {
     "name": "stdout",
     "output_type": "stream",
     "text": [
      "Time to run: 135.61397790908813\n",
      "Loss 0.0016650408797825864\n",
      "Final defocus value 981.0106201171875\n",
      "Lowena-modified code\n",
      "True\n"
     ]
    },
    {
     "data": {
      "application/vnd.jupyter.widget-view+json": {
       "model_id": "b1dcb91799ae475f86c2dfe18e8d0ff3",
       "version_major": 2,
       "version_minor": 0
      },
      "text/plain": [
       "Making projected potentials:   0%|          | 0/5 [00:00<?, ?it/s]"
      ]
     },
     "metadata": {},
     "output_type": "display_data"
    },
    {
     "name": "stdout",
     "output_type": "stream",
     "text": [
      "14\n"
     ]
    },
    {
     "data": {
      "application/vnd.jupyter.widget-view+json": {
       "model_id": "a1a5fcc9e8af4b1d83cbdd9dd2591eab",
       "version_major": 2,
       "version_minor": 0
      },
      "text/plain": [
       "Frozen phonon iteration:   0%|          | 0/1 [00:00<?, ?it/s]"
      ]
     },
     "metadata": {},
     "output_type": "display_data"
    },
    {
     "name": "stdout",
     "output_type": "stream",
     "text": [
      "Time to run: 134.63902688026428\n",
      "Loss 0.01631343898150844\n",
      "Final defocus value 982.3004760742188\n",
      "Lowena-modified code\n",
      "True\n"
     ]
    },
    {
     "data": {
      "application/vnd.jupyter.widget-view+json": {
       "model_id": "18f6ff5b80b74e2fb8c0d22a94c31cbc",
       "version_major": 2,
       "version_minor": 0
      },
      "text/plain": [
       "Making projected potentials:   0%|          | 0/5 [00:00<?, ?it/s]"
      ]
     },
     "metadata": {},
     "output_type": "display_data"
    },
    {
     "name": "stdout",
     "output_type": "stream",
     "text": [
      "14\n"
     ]
    },
    {
     "data": {
      "application/vnd.jupyter.widget-view+json": {
       "model_id": "9dbcfebe41cf41bca1c6e390f2d79fc8",
       "version_major": 2,
       "version_minor": 0
      },
      "text/plain": [
       "Frozen phonon iteration:   0%|          | 0/1 [00:00<?, ?it/s]"
      ]
     },
     "metadata": {},
     "output_type": "display_data"
    },
    {
     "name": "stdout",
     "output_type": "stream",
     "text": [
      "Time to run: 139.13285851478577\n",
      "Loss 0.16943256621009647\n",
      "Final defocus value 980.8446655273438\n",
      "Lowena-modified code\n",
      "True\n"
     ]
    },
    {
     "data": {
      "application/vnd.jupyter.widget-view+json": {
       "model_id": "b09721745cd5499cbe3031b19a05672c",
       "version_major": 2,
       "version_minor": 0
      },
      "text/plain": [
       "Making projected potentials:   0%|          | 0/5 [00:00<?, ?it/s]"
      ]
     },
     "metadata": {},
     "output_type": "display_data"
    },
    {
     "name": "stdout",
     "output_type": "stream",
     "text": [
      "14\n"
     ]
    },
    {
     "data": {
      "application/vnd.jupyter.widget-view+json": {
       "model_id": "e2f8c52abe6849f1b9f944ceeb1368eb",
       "version_major": 2,
       "version_minor": 0
      },
      "text/plain": [
       "Frozen phonon iteration:   0%|          | 0/1 [00:00<?, ?it/s]"
      ]
     },
     "metadata": {},
     "output_type": "display_data"
    },
    {
     "name": "stdout",
     "output_type": "stream",
     "text": [
      "Time to run: 134.19531750679016\n",
      "Loss 1.7118534950535904\n",
      "Final defocus value 981.8370361328125\n",
      "Lowena-modified code\n",
      "True\n"
     ]
    },
    {
     "data": {
      "application/vnd.jupyter.widget-view+json": {
       "model_id": "0bc1055b55d341b89453c143e9974d55",
       "version_major": 2,
       "version_minor": 0
      },
      "text/plain": [
       "Making projected potentials:   0%|          | 0/5 [00:00<?, ?it/s]"
      ]
     },
     "metadata": {},
     "output_type": "display_data"
    },
    {
     "name": "stdout",
     "output_type": "stream",
     "text": [
      "14\n"
     ]
    },
    {
     "data": {
      "application/vnd.jupyter.widget-view+json": {
       "model_id": "cd11a0bb35554097a52920ab94abd2f3",
       "version_major": 2,
       "version_minor": 0
      },
      "text/plain": [
       "Frozen phonon iteration:   0%|          | 0/1 [00:00<?, ?it/s]"
      ]
     },
     "metadata": {},
     "output_type": "display_data"
    },
    {
     "name": "stdout",
     "output_type": "stream",
     "text": [
      "Time to run: 133.67273354530334\n",
      "Loss 16.212293227747356\n",
      "Final defocus value 982.1334228515625\n",
      "Lowena-modified code\n",
      "True\n"
     ]
    },
    {
     "data": {
      "application/vnd.jupyter.widget-view+json": {
       "model_id": "46cbb5578f694d00be5aeb801684fc50",
       "version_major": 2,
       "version_minor": 0
      },
      "text/plain": [
       "Making projected potentials:   0%|          | 0/5 [00:00<?, ?it/s]"
      ]
     },
     "metadata": {},
     "output_type": "display_data"
    },
    {
     "name": "stdout",
     "output_type": "stream",
     "text": [
      "14\n"
     ]
    },
    {
     "data": {
      "application/vnd.jupyter.widget-view+json": {
       "model_id": "4bf6ce11245a462cb731e1bab11d3c14",
       "version_major": 2,
       "version_minor": 0
      },
      "text/plain": [
       "Frozen phonon iteration:   0%|          | 0/1 [00:00<?, ?it/s]"
      ]
     },
     "metadata": {},
     "output_type": "display_data"
    },
    {
     "name": "stdout",
     "output_type": "stream",
     "text": [
      "Time to run: 132.64754176139832\n",
      "Loss 1.640141650679424e-05\n",
      "Final defocus value 982.3001098632812\n",
      "Lowena-modified code\n",
      "True\n"
     ]
    },
    {
     "data": {
      "application/vnd.jupyter.widget-view+json": {
       "model_id": "72f1ba4152bc411d9e40f3a5b34f3b1a",
       "version_major": 2,
       "version_minor": 0
      },
      "text/plain": [
       "Making projected potentials:   0%|          | 0/5 [00:00<?, ?it/s]"
      ]
     },
     "metadata": {},
     "output_type": "display_data"
    },
    {
     "name": "stdout",
     "output_type": "stream",
     "text": [
      "14\n"
     ]
    },
    {
     "data": {
      "application/vnd.jupyter.widget-view+json": {
       "model_id": "7a7450e563f84af790ab7aef5a388719",
       "version_major": 2,
       "version_minor": 0
      },
      "text/plain": [
       "Frozen phonon iteration:   0%|          | 0/1 [00:00<?, ?it/s]"
      ]
     },
     "metadata": {},
     "output_type": "display_data"
    },
    {
     "name": "stdout",
     "output_type": "stream",
     "text": [
      "Time to run: 132.5187213420868\n",
      "Loss 0.00016210865319887596\n",
      "Final defocus value 980.6884765625\n"
     ]
    }
   ],
   "source": [
    "main(2000, 10.0, 1e9) # standard/baseline value of 1000000000\n",
    "# Bigger loss\n",
    "main(2000, 10.0, 1e10)\n",
    "main(2000, 10.0, 1e11)\n",
    "main(2000, 10.0, 1e12)\n",
    "main(2000, 10.0, 1e13)\n",
    "# Smaller loss\n",
    "main(2000, 10.0, 1e7)\n",
    "main(2000, 10.0, 1e8)"
   ]
  },
  {
   "cell_type": "code",
   "execution_count": null,
   "metadata": {},
   "outputs": [],
   "source": [
    "loss_multiplier = [\n",
    "    \n",
    "]\n",
    "\n",
    "time = [\n",
    "    \n",
    "]\n",
    "\n",
    "losses = [\n",
    "    \n",
    "]\n",
    "\n",
    "final_defocus_value = [\n",
    "    \n",
    "]"
   ]
  },
  {
   "cell_type": "code",
   "execution_count": null,
   "metadata": {},
   "outputs": [],
   "source": []
  },
  {
   "cell_type": "code",
   "execution_count": null,
   "metadata": {},
   "outputs": [],
   "source": []
  },
  {
   "cell_type": "code",
   "execution_count": null,
   "metadata": {},
   "outputs": [],
   "source": []
  },
  {
   "cell_type": "markdown",
   "metadata": {},
   "source": [
    "Ignore below"
   ]
  },
  {
   "cell_type": "code",
   "execution_count": null,
   "metadata": {},
   "outputs": [],
   "source": [
    "plt.plot(defocii_curve)"
   ]
  },
  {
   "cell_type": "code",
   "execution_count": null,
   "metadata": {},
   "outputs": [],
   "source": [
    "plt.plot(A1_curve)"
   ]
  },
  {
   "cell_type": "code",
   "execution_count": null,
   "metadata": {},
   "outputs": [],
   "source": [
    "plt.plot(curves[5])"
   ]
  },
  {
   "cell_type": "code",
   "execution_count": null,
   "metadata": {},
   "outputs": [],
   "source": [
    "plt.plot(A2_curve)"
   ]
  },
  {
   "cell_type": "code",
   "execution_count": null,
   "metadata": {},
   "outputs": [],
   "source": [
    "plt.plot(A2_curve)"
   ]
  },
  {
   "cell_type": "code",
   "execution_count": null,
   "metadata": {},
   "outputs": [],
   "source": [
    "plt.plot(B2_curve)"
   ]
  },
  {
   "cell_type": "code",
   "execution_count": null,
   "metadata": {},
   "outputs": [],
   "source": [
    "plt.plot(Cs_curve)"
   ]
  },
  {
   "cell_type": "code",
   "execution_count": null,
   "metadata": {},
   "outputs": [],
   "source": [
    "plt.plot(A3_curve)"
   ]
  },
  {
   "cell_type": "code",
   "execution_count": null,
   "metadata": {},
   "outputs": [],
   "source": [
    "plt.plot(S3_curve)"
   ]
  },
  {
   "cell_type": "code",
   "execution_count": null,
   "metadata": {},
   "outputs": [],
   "source": [
    "plt.plot(A4_curve)"
   ]
  },
  {
   "cell_type": "code",
   "execution_count": null,
   "metadata": {},
   "outputs": [],
   "source": [
    "plt.plot(B4_curve)"
   ]
  },
  {
   "cell_type": "code",
   "execution_count": null,
   "metadata": {},
   "outputs": [],
   "source": [
    "plt.plot(D4_curve)"
   ]
  },
  {
   "cell_type": "code",
   "execution_count": null,
   "metadata": {},
   "outputs": [],
   "source": [
    "plt.plot(C5_curve)"
   ]
  },
  {
   "cell_type": "code",
   "execution_count": null,
   "metadata": {},
   "outputs": [],
   "source": [
    "plt.plot(A5_curve)"
   ]
  },
  {
   "cell_type": "code",
   "execution_count": null,
   "metadata": {},
   "outputs": [],
   "source": [
    "plt.plot(R5_curve)"
   ]
  },
  {
   "cell_type": "code",
   "execution_count": null,
   "metadata": {},
   "outputs": [],
   "source": [
    "plt.plot(S5_curve)"
   ]
  },
  {
   "cell_type": "code",
   "execution_count": 13,
   "metadata": {},
   "outputs": [
    {
     "name": "stdout",
     "output_type": "stream",
     "text": [
      "1.0\n"
     ]
    }
   ],
   "source": [
    "print(1e0)"
   ]
  }
 ],
 "metadata": {
  "kernelspec": {
   "display_name": "Python 3",
   "language": "python",
   "name": "python3"
  },
  "language_info": {
   "codemirror_mode": {
    "name": "ipython",
    "version": 3
   },
   "file_extension": ".py",
   "mimetype": "text/x-python",
   "name": "python",
   "nbconvert_exporter": "python",
   "pygments_lexer": "ipython3",
   "version": "3.6.13"
  }
 },
 "nbformat": 4,
 "nbformat_minor": 2
}
