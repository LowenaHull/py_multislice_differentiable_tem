{
 "cells": [
  {
   "cell_type": "markdown",
   "metadata": {},
   "source": [
    "For this demonstration we will be simulating a SrTiO3 CeO2 interface downloaded from https://www.materialscloud.org/explore/stoceriaitf/grid/calculations."
   ]
  },
  {
   "cell_type": "code",
   "execution_count": null,
   "metadata": {
    "tags": []
   },
   "outputs": [],
   "source": [
    "import pyms\n",
    "import numpy as np\n",
    "import torch\n",
    "\n",
    "# Get crystal\n",
    "crystal = pyms.structure.fromfile(\n",
    "    \"Structures/SrTiO3_CeO2_interface.xyz\", atomic_coordinates=\"cartesian\"\n",
    ")\n",
    "\n",
    "# A few maniupulations to remove vaccuum at edges and create a psuedo-periodic\n",
    "# structure\n",
    "crystal = crystal.resize([0.1, 0.76], axis=0)\n",
    "from copy import deepcopy\n",
    "\n",
    "other = deepcopy(crystal).resize([0.017, 0.99], axis=0)\n",
    "other.reflect([0])\n",
    "crystal = crystal.concatenate(other, axis=0)\n",
    "\n",
    "# Output structure for examination in Vesta\n",
    "# crystal.output_vesta_xtl(\"manipulated.xtl\")\n",
    "\n",
    "# Quick plot of crystal\n",
    "# crystal.quickplot(atomscale=1e-5)\n",
    "\n",
    "# Subslicing of crystal for multislice\n",
    "subslices = [0.33, 0.66, 1.0]\n",
    "\n",
    "# Grid size in pixels\n",
    "gridshape = [1024, 1024]\n",
    "\n",
    "# Tile structure in multislice for a square grid\n",
    "tiling = [1, 7]\n",
    "\n",
    "# Probe accelerating voltage in eV\n",
    "eV = 3e5\n",
    "\n",
    "# Objective aperture in mrad\n",
    "app = 15\n",
    "\n",
    "# No aperture is also an option\n",
    "# app = None\n",
    "\n",
    "# Set up series of thicknesses\n",
    "thicknesses = np.arange(100, 301, 200)\n",
    "\n",
    "# Set up  series of defocii\n",
    "df = np.arange(-400, 401, 200)\n",
    "\n",
    "# Number of frozen phonon passes\n",
    "nfph = 25\n",
    "\n",
    "output = pyms.HRTEM(\n",
    "    crystal,\n",
    "    gridshape,\n",
    "    eV,\n",
    "    app,\n",
    "    thicknesses,\n",
    "    subslices=subslices,\n",
    "    df=df,\n",
    "    tiling=tiling,\n",
    "    nfph=25,\n",
    "    showProgress='notebook'\n",
    ")\n",
    "\n",
    "import matplotlib.pyplot as plt\n",
    "%matplotlib inline\n",
    "ny,nx = output.shape[-2:]\n",
    "# Plot images\n",
    "fig, ax = plt.subplots(figsize=(16,16))\n",
    "ax.set_xticks(np.arange(nx/2,(len(thicknesses)+0.5)*nx,nx))\n",
    "ax.set_xticklabels(thicknesses)\n",
    "ax.set_xlabel('Thickness ($\\AA$)')\n",
    "ax.set_yticks(np.arange(ny/2,(len(df)+0.5)*ny,ny))\n",
    "ax.set_yticklabels(df)\n",
    "ax.set_ylabel('Defocus ($\\AA$)')\n",
    "\n",
    "# Stack defocii (first dimension of output) and thicknesses (second dimension of output)\n",
    "# to make a thickness defocus series\n",
    "ax.imshow(np.hstack(np.hstack(output)))\n",
    "\n"
   ]
  },
  {
   "cell_type": "code",
   "execution_count": null,
   "metadata": {},
   "outputs": [],
   "source": []
  }
 ],
 "metadata": {
  "kernelspec": {
   "display_name": "Python 3",
   "language": "python",
   "name": "python3"
  },
  "language_info": {
   "codemirror_mode": {
    "name": "ipython",
    "version": 3
   },
   "file_extension": ".py",
   "mimetype": "text/x-python",
   "name": "python",
   "nbconvert_exporter": "python",
   "pygments_lexer": "ipython3",
   "version": "3.6.13"
  }
 },
 "nbformat": 4,
 "nbformat_minor": 2
}
